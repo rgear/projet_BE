{
 "cells": [
  {
   "cell_type": "code",
   "execution_count": 1,
   "metadata": {},
   "outputs": [
    {
     "name": "stderr",
     "output_type": "stream",
     "text": [
      "/usr/local/insa/anaconda/envs/GPU/lib/python3.6/site-packages/h5py/__init__.py:36: FutureWarning: Conversion of the second argument of issubdtype from `float` to `np.floating` is deprecated. In future, it will be treated as `np.float64 == np.dtype(float).type`.\n",
      "  from ._conv import register_converters as _register_converters\n",
      "Using TensorFlow backend.\n"
     ]
    },
    {
     "name": "stdout",
     "output_type": "stream",
     "text": [
      "3.6.5 |Anaconda custom (64-bit)| (default, Apr 29 2018, 16:14:56) \n",
      "[GCC 7.2.0]\n",
      "[name: \"/device:CPU:0\"\n",
      "device_type: \"CPU\"\n",
      "memory_limit: 268435456\n",
      "locality {\n",
      "}\n",
      "incarnation: 2721112184688354194\n",
      ", name: \"/device:GPU:0\"\n",
      "device_type: \"GPU\"\n",
      "memory_limit: 10277499700\n",
      "locality {\n",
      "  bus_id: 1\n",
      "  links {\n",
      "  }\n",
      "}\n",
      "incarnation: 5272455008488505455\n",
      "physical_device_desc: \"device: 0, name: GeForce GTX 1080 Ti, pci bus id: 0000:65:00.0, compute capability: 6.1\"\n",
      "]\n"
     ]
    }
   ],
   "source": [
    "%matplotlib inline \n",
    "import matplotlib.pyplot as plt\n",
    "import seaborn as sb\n",
    "sb.set()\n",
    "\n",
    "import pandas as pd\n",
    "import numpy as np\n",
    "import time\n",
    "\n",
    "import keras.utils as ku\n",
    "import keras.models as km\n",
    "import keras.layers as kl\n",
    "import keras.optimizers as ko\n",
    "\n",
    "from sklearn.metrics import confusion_matrix\n",
    "\n",
    "# Paramètres\n",
    "batch_size = 128\n",
    "epochs = 10\n",
    "# Vocabulary\n",
    "# One epoch is when an ENTIRE dataset is passed forward and backward through neural network only once\n",
    "# Batch_size : total number of training examples present in a single batch. \n",
    "# Batch_size : defines the number of samples to work through before updating the internal model parameters\n",
    "# Batch_size : is the number of samples processed before the model is updated. \n",
    "\n",
    "\n",
    "\n",
    "import sys\n",
    "print(sys.version)\n",
    "from tensorflow.python.client import device_lib\n",
    "print(device_lib.list_local_devices())"
   ]
  },
  {
   "cell_type": "markdown",
   "metadata": {},
   "source": [
    "## I. Chargement des données "
   ]
  },
  {
   "cell_type": "code",
   "execution_count": 2,
   "metadata": {},
   "outputs": [],
   "source": [
    "from keras.datasets import mnist\n",
    "import numpy as np\n",
    "(x_train, _), (x_test, _) = mnist.load_data()"
   ]
  },
  {
   "cell_type": "code",
   "execution_count": 3,
   "metadata": {},
   "outputs": [],
   "source": [
    "x_train = x_train.astype('float32') / 255. # Pour normaliser toutes les valeurs \n",
    "x_test = x_test.astype('float32') / 255.# Pour normaliser toutes les valeurs \n",
    "x_train = x_train.reshape((len(x_train), np.prod(x_train.shape[1:])))\n",
    "x_test = x_test.reshape((len(x_test), np.prod(x_test.shape[1:])))"
   ]
  },
  {
   "cell_type": "markdown",
   "metadata": {},
   "source": [
    "## II. Autoencoder simple couche "
   ]
  },
  {
   "cell_type": "markdown",
   "metadata": {},
   "source": [
    "### 1. Construction du modèle "
   ]
  },
  {
   "cell_type": "code",
   "execution_count": 4,
   "metadata": {},
   "outputs": [],
   "source": [
    "encoder = km.Sequential()\n",
    "encoder.add(kl.Dense(32, activation='relu', input_shape=(784,)))\n",
    "\n",
    "decoder = km.Sequential()\n",
    "decoder.add(kl.Dense(784, activation='sigmoid'))\n",
    "\n",
    "autoencoder = km.Sequential()\n",
    "autoencoder.add(encoder)\n",
    "autoencoder.add(decoder)"
   ]
  },
  {
   "cell_type": "markdown",
   "metadata": {},
   "source": [
    "### 2. Phase d'apprentissage "
   ]
  },
  {
   "cell_type": "code",
   "execution_count": 5,
   "metadata": {},
   "outputs": [
    {
     "name": "stdout",
     "output_type": "stream",
     "text": [
      "Train on 60000 samples, validate on 10000 samples\n",
      "Epoch 1/50\n",
      "60000/60000 [==============================] - 2s 25us/step - loss: 0.3623 - acc: 0.7494 - val_loss: 0.2716 - val_acc: 0.7960\n",
      "Epoch 2/50\n",
      "60000/60000 [==============================] - 1s 18us/step - loss: 0.2644 - acc: 0.7970 - val_loss: 0.2532 - val_acc: 0.7960\n",
      "Epoch 3/50\n",
      "60000/60000 [==============================] - 1s 18us/step - loss: 0.2435 - acc: 0.7965 - val_loss: 0.2313 - val_acc: 0.7957\n",
      "Epoch 4/50\n",
      "60000/60000 [==============================] - 1s 19us/step - loss: 0.2238 - acc: 0.7965 - val_loss: 0.2140 - val_acc: 0.7967\n",
      "Epoch 5/50\n",
      "60000/60000 [==============================] - 1s 18us/step - loss: 0.2090 - acc: 0.7976 - val_loss: 0.2018 - val_acc: 0.7981\n",
      "Epoch 6/50\n",
      "60000/60000 [==============================] - 1s 19us/step - loss: 0.1982 - acc: 0.7990 - val_loss: 0.1924 - val_acc: 0.7998\n",
      "Epoch 7/50\n",
      "60000/60000 [==============================] - 1s 19us/step - loss: 0.1896 - acc: 0.8004 - val_loss: 0.1844 - val_acc: 0.7999\n",
      "Epoch 8/50\n",
      "60000/60000 [==============================] - 1s 20us/step - loss: 0.1825 - acc: 0.8016 - val_loss: 0.1782 - val_acc: 0.8019\n",
      "Epoch 9/50\n",
      "60000/60000 [==============================] - 1s 18us/step - loss: 0.1767 - acc: 0.8025 - val_loss: 0.1727 - val_acc: 0.8027\n",
      "Epoch 10/50\n",
      "60000/60000 [==============================] - 1s 19us/step - loss: 0.1716 - acc: 0.8033 - val_loss: 0.1678 - val_acc: 0.8031\n",
      "Epoch 11/50\n",
      "60000/60000 [==============================] - 1s 18us/step - loss: 0.1671 - acc: 0.8041 - val_loss: 0.1635 - val_acc: 0.8041\n",
      "Epoch 12/50\n",
      "60000/60000 [==============================] - 1s 19us/step - loss: 0.1630 - acc: 0.8048 - val_loss: 0.1595 - val_acc: 0.8047\n",
      "Epoch 13/50\n",
      "60000/60000 [==============================] - 1s 19us/step - loss: 0.1592 - acc: 0.8055 - val_loss: 0.1558 - val_acc: 0.8050\n",
      "Epoch 14/50\n",
      "60000/60000 [==============================] - 1s 18us/step - loss: 0.1557 - acc: 0.8061 - val_loss: 0.1526 - val_acc: 0.8058\n",
      "Epoch 15/50\n",
      "60000/60000 [==============================] - 1s 18us/step - loss: 0.1525 - acc: 0.8066 - val_loss: 0.1495 - val_acc: 0.8065\n",
      "Epoch 16/50\n",
      "60000/60000 [==============================] - 1s 19us/step - loss: 0.1495 - acc: 0.8072 - val_loss: 0.1465 - val_acc: 0.8067\n",
      "Epoch 17/50\n",
      "60000/60000 [==============================] - 1s 19us/step - loss: 0.1466 - acc: 0.8076 - val_loss: 0.1438 - val_acc: 0.8073\n",
      "Epoch 18/50\n",
      "60000/60000 [==============================] - 1s 18us/step - loss: 0.1439 - acc: 0.8081 - val_loss: 0.1411 - val_acc: 0.8076\n",
      "Epoch 19/50\n",
      "60000/60000 [==============================] - 1s 18us/step - loss: 0.1413 - acc: 0.8085 - val_loss: 0.1386 - val_acc: 0.8082\n",
      "Epoch 20/50\n",
      "60000/60000 [==============================] - 1s 19us/step - loss: 0.1388 - acc: 0.8090 - val_loss: 0.1362 - val_acc: 0.8086\n",
      "Epoch 21/50\n",
      "60000/60000 [==============================] - 1s 19us/step - loss: 0.1364 - acc: 0.8094 - val_loss: 0.1337 - val_acc: 0.8087\n",
      "Epoch 22/50\n",
      "60000/60000 [==============================] - 1s 19us/step - loss: 0.1341 - acc: 0.8097 - val_loss: 0.1315 - val_acc: 0.8091\n",
      "Epoch 23/50\n",
      "60000/60000 [==============================] - 1s 19us/step - loss: 0.1319 - acc: 0.8101 - val_loss: 0.1293 - val_acc: 0.8094\n",
      "Epoch 24/50\n",
      "60000/60000 [==============================] - 1s 19us/step - loss: 0.1298 - acc: 0.8104 - val_loss: 0.1273 - val_acc: 0.8098\n",
      "Epoch 25/50\n",
      "60000/60000 [==============================] - 1s 19us/step - loss: 0.1278 - acc: 0.8107 - val_loss: 0.1254 - val_acc: 0.8101\n",
      "Epoch 26/50\n",
      "60000/60000 [==============================] - 1s 20us/step - loss: 0.1260 - acc: 0.8110 - val_loss: 0.1236 - val_acc: 0.8104\n",
      "Epoch 27/50\n",
      "60000/60000 [==============================] - 1s 20us/step - loss: 0.1242 - acc: 0.8112 - val_loss: 0.1218 - val_acc: 0.8105\n",
      "Epoch 28/50\n",
      "60000/60000 [==============================] - 1s 20us/step - loss: 0.1225 - acc: 0.8114 - val_loss: 0.1202 - val_acc: 0.8106\n",
      "Epoch 29/50\n",
      "60000/60000 [==============================] - 1s 19us/step - loss: 0.1210 - acc: 0.8116 - val_loss: 0.1187 - val_acc: 0.8110\n",
      "Epoch 30/50\n",
      "60000/60000 [==============================] - 1s 18us/step - loss: 0.1195 - acc: 0.8118 - val_loss: 0.1173 - val_acc: 0.8111\n",
      "Epoch 31/50\n",
      "60000/60000 [==============================] - 1s 19us/step - loss: 0.1182 - acc: 0.8120 - val_loss: 0.1160 - val_acc: 0.8113\n",
      "Epoch 32/50\n",
      "60000/60000 [==============================] - 1s 18us/step - loss: 0.1170 - acc: 0.8121 - val_loss: 0.1148 - val_acc: 0.8113\n",
      "Epoch 33/50\n",
      "60000/60000 [==============================] - 1s 19us/step - loss: 0.1159 - acc: 0.8123 - val_loss: 0.1138 - val_acc: 0.8115\n",
      "Epoch 34/50\n",
      "60000/60000 [==============================] - 1s 18us/step - loss: 0.1148 - acc: 0.8124 - val_loss: 0.1128 - val_acc: 0.8116\n",
      "Epoch 35/50\n",
      "60000/60000 [==============================] - 1s 19us/step - loss: 0.1139 - acc: 0.8125 - val_loss: 0.1119 - val_acc: 0.8117\n",
      "Epoch 36/50\n",
      "60000/60000 [==============================] - 1s 20us/step - loss: 0.1130 - acc: 0.8126 - val_loss: 0.1110 - val_acc: 0.8118\n",
      "Epoch 37/50\n",
      "60000/60000 [==============================] - 1s 19us/step - loss: 0.1122 - acc: 0.8127 - val_loss: 0.1102 - val_acc: 0.8118\n",
      "Epoch 38/50\n",
      "60000/60000 [==============================] - 1s 19us/step - loss: 0.1115 - acc: 0.8127 - val_loss: 0.1095 - val_acc: 0.8119\n",
      "Epoch 39/50\n",
      "60000/60000 [==============================] - 1s 20us/step - loss: 0.1108 - acc: 0.8128 - val_loss: 0.1088 - val_acc: 0.8119\n",
      "Epoch 40/50\n",
      "60000/60000 [==============================] - 1s 20us/step - loss: 0.1101 - acc: 0.8129 - val_loss: 0.1082 - val_acc: 0.8120\n",
      "Epoch 41/50\n",
      "60000/60000 [==============================] - 1s 20us/step - loss: 0.1095 - acc: 0.8129 - val_loss: 0.1076 - val_acc: 0.8121\n",
      "Epoch 42/50\n",
      "60000/60000 [==============================] - 1s 20us/step - loss: 0.1089 - acc: 0.8130 - val_loss: 0.1070 - val_acc: 0.8121\n",
      "Epoch 43/50\n",
      "60000/60000 [==============================] - 1s 20us/step - loss: 0.1084 - acc: 0.8130 - val_loss: 0.1065 - val_acc: 0.8122\n",
      "Epoch 44/50\n",
      "60000/60000 [==============================] - 1s 20us/step - loss: 0.1079 - acc: 0.8131 - val_loss: 0.1060 - val_acc: 0.8122\n",
      "Epoch 45/50\n",
      "60000/60000 [==============================] - 1s 19us/step - loss: 0.1074 - acc: 0.8131 - val_loss: 0.1056 - val_acc: 0.8123\n",
      "Epoch 46/50\n",
      "60000/60000 [==============================] - 1s 20us/step - loss: 0.1069 - acc: 0.8132 - val_loss: 0.1051 - val_acc: 0.8123\n",
      "Epoch 47/50\n",
      "60000/60000 [==============================] - 1s 19us/step - loss: 0.1065 - acc: 0.8132 - val_loss: 0.1047 - val_acc: 0.8124\n",
      "Epoch 48/50\n",
      "60000/60000 [==============================] - 1s 20us/step - loss: 0.1061 - acc: 0.8132 - val_loss: 0.1043 - val_acc: 0.8124\n",
      "Epoch 49/50\n",
      "60000/60000 [==============================] - 1s 19us/step - loss: 0.1057 - acc: 0.8133 - val_loss: 0.1039 - val_acc: 0.8124\n",
      "Epoch 50/50\n",
      "60000/60000 [==============================] - 1s 20us/step - loss: 0.1053 - acc: 0.8133 - val_loss: 0.1036 - val_acc: 0.8124\n"
     ]
    },
    {
     "data": {
      "text/plain": [
       "<keras.callbacks.History at 0x7f90ec25d208>"
      ]
     },
     "execution_count": 5,
     "metadata": {},
     "output_type": "execute_result"
    }
   ],
   "source": [
    "autoencoder.compile(loss='binary_crossentropy',\n",
    "              optimizer='adadelta',\n",
    "              metrics=['accuracy'])\n",
    "\n",
    "autoencoder.fit(x_train, x_train,\n",
    "                    batch_size=256,\n",
    "                    epochs=50,\n",
    "                    verbose=1,\n",
    "                    validation_data=(x_test,x_test))"
   ]
  },
  {
   "cell_type": "code",
   "execution_count": 6,
   "metadata": {},
   "outputs": [],
   "source": [
    "autoencoder_imgs = autoencoder.predict(x_test)\n",
    "encoder_imgs = encoder.predict(x_test)"
   ]
  },
  {
   "cell_type": "markdown",
   "metadata": {},
   "source": [
    "### 3. Affichage résultat final et intermédiaire "
   ]
  },
  {
   "cell_type": "code",
   "execution_count": 7,
   "metadata": {},
   "outputs": [
    {
     "data": {
      "image/png": "[encoded data removed]",
      "text/plain": [
       "<Figure size 1440x288 with 30 Axes>"
      ]
     },
     "metadata": {},
     "output_type": "display_data"
    }
   ],
   "source": [
    "\n",
    "import matplotlib.pyplot as plt\n",
    "\n",
    "n = 10  # how many digits we will display\n",
    "plt.figure(figsize=(20, 4))\n",
    "for i in range(n):\n",
    "    # display original\n",
    "    ax = plt.subplot(3, n, i + 1)\n",
    "    plt.imshow(x_test[i].reshape(28, 28))\n",
    "    plt.gray()\n",
    "    ax.get_xaxis().set_visible(False)\n",
    "    ax.get_yaxis().set_visible(False)\n",
    "\n",
    "    # display reconstruction\n",
    "    ax = plt.subplot(3, n, i + 1 + n)\n",
    "    plt.imshow(encoder_imgs[i].reshape(4, 8))\n",
    "    plt.gray()\n",
    "    ax.get_xaxis().set_visible(False)\n",
    "    ax.get_yaxis().set_visible(False)\n",
    "    \n",
    "    # display reconstruction\n",
    "    ax = plt.subplot(3, n, i + 1 + 2*n)\n",
    "    plt.imshow(autoencoder_imgs[i].reshape(28, 28))\n",
    "    plt.gray()\n",
    "    ax.get_xaxis().set_visible(False)\n",
    "    ax.get_yaxis().set_visible(False)\n",
    "plt.show()"
   ]
  },
  {
   "cell_type": "markdown",
   "metadata": {},
   "source": [
    "## III. Autoencoder avec Regularizers :"
   ]
  },
  {
   "cell_type": "markdown",
   "metadata": {},
   "source": [
    "### 1. Construction du modèle "
   ]
  },
  {
   "cell_type": "code",
   "execution_count": 8,
   "metadata": {},
   "outputs": [],
   "source": [
    "from keras import regularizers\n",
    "\n",
    "encoderRegula = km.Sequential()\n",
    "encoderRegula.add(kl.Dense(32, activation='relu',activity_regularizer=regularizers.l2(0), input_shape=(784,)))\n",
    "\n",
    "\n",
    "decoderRegula = km.Sequential()\n",
    "decoderRegula.add(kl.Dense(784, activation='sigmoid'))\n",
    "\n",
    "autoencoderRegula = km.Sequential()\n",
    "autoencoderRegula.add(encoder)\n",
    "autoencoderRegula.add(decoder)"
   ]
  },
  {
   "cell_type": "markdown",
   "metadata": {},
   "source": [
    "### 2. Phase d'apprentissage"
   ]
  },
  {
   "cell_type": "code",
   "execution_count": 9,
   "metadata": {},
   "outputs": [
    {
     "name": "stdout",
     "output_type": "stream",
     "text": [
      "Train on 60000 samples, validate on 10000 samples\n",
      "Epoch 1/50\n",
      "60000/60000 [==============================] - 1s 21us/step - loss: 0.1050 - acc: 0.8133 - val_loss: 0.1032 - val_acc: 0.8124\n",
      "Epoch 2/50\n",
      "60000/60000 [==============================] - 1s 19us/step - loss: 0.1047 - acc: 0.8134 - val_loss: 0.1029 - val_acc: 0.8125\n",
      "Epoch 3/50\n",
      "60000/60000 [==============================] - 1s 18us/step - loss: 0.1043 - acc: 0.8134 - val_loss: 0.1026 - val_acc: 0.8125\n",
      "Epoch 4/50\n",
      "60000/60000 [==============================] - 1s 19us/step - loss: 0.1040 - acc: 0.8134 - val_loss: 0.1023 - val_acc: 0.8125\n",
      "Epoch 5/50\n",
      "60000/60000 [==============================] - 1s 20us/step - loss: 0.1038 - acc: 0.8134 - val_loss: 0.1021 - val_acc: 0.8125\n",
      "Epoch 6/50\n",
      "60000/60000 [==============================] - 1s 19us/step - loss: 0.1035 - acc: 0.8135 - val_loss: 0.1018 - val_acc: 0.8126\n",
      "Epoch 7/50\n",
      "60000/60000 [==============================] - 1s 19us/step - loss: 0.1032 - acc: 0.8135 - val_loss: 0.1016 - val_acc: 0.8126\n",
      "Epoch 8/50\n",
      "60000/60000 [==============================] - 1s 19us/step - loss: 0.1030 - acc: 0.8135 - val_loss: 0.1013 - val_acc: 0.8126\n",
      "Epoch 9/50\n",
      "60000/60000 [==============================] - 1s 19us/step - loss: 0.1028 - acc: 0.8135 - val_loss: 0.1011 - val_acc: 0.8126\n",
      "Epoch 10/50\n",
      "60000/60000 [==============================] - 1s 19us/step - loss: 0.1025 - acc: 0.8135 - val_loss: 0.1009 - val_acc: 0.8127\n",
      "Epoch 11/50\n",
      "60000/60000 [==============================] - 1s 19us/step - loss: 0.1023 - acc: 0.8135 - val_loss: 0.1007 - val_acc: 0.8127\n",
      "Epoch 12/50\n",
      "60000/60000 [==============================] - 1s 18us/step - loss: 0.1021 - acc: 0.8136 - val_loss: 0.1005 - val_acc: 0.8127\n",
      "Epoch 13/50\n",
      "60000/60000 [==============================] - 1s 18us/step - loss: 0.1020 - acc: 0.8136 - val_loss: 0.1003 - val_acc: 0.8127\n",
      "Epoch 14/50\n",
      "60000/60000 [==============================] - 1s 19us/step - loss: 0.1018 - acc: 0.8136 - val_loss: 0.1002 - val_acc: 0.8127\n",
      "Epoch 15/50\n",
      "60000/60000 [==============================] - 1s 19us/step - loss: 0.1016 - acc: 0.8136 - val_loss: 0.1000 - val_acc: 0.8127\n",
      "Epoch 16/50\n",
      "60000/60000 [==============================] - 1s 18us/step - loss: 0.1015 - acc: 0.8136 - val_loss: 0.0998 - val_acc: 0.8128\n",
      "Epoch 17/50\n",
      "60000/60000 [==============================] - 1s 19us/step - loss: 0.1013 - acc: 0.8136 - val_loss: 0.0997 - val_acc: 0.8127\n",
      "Epoch 18/50\n",
      "60000/60000 [==============================] - 1s 19us/step - loss: 0.1012 - acc: 0.8136 - val_loss: 0.0995 - val_acc: 0.8127\n",
      "Epoch 19/50\n",
      "60000/60000 [==============================] - 1s 19us/step - loss: 0.1010 - acc: 0.8137 - val_loss: 0.0994 - val_acc: 0.8128\n",
      "Epoch 20/50\n",
      "60000/60000 [==============================] - 1s 19us/step - loss: 0.1009 - acc: 0.8137 - val_loss: 0.0993 - val_acc: 0.8128\n",
      "Epoch 21/50\n",
      "60000/60000 [==============================] - 1s 19us/step - loss: 0.1007 - acc: 0.8137 - val_loss: 0.0992 - val_acc: 0.8128\n",
      "Epoch 22/50\n",
      "60000/60000 [==============================] - 1s 18us/step - loss: 0.1006 - acc: 0.8137 - val_loss: 0.0990 - val_acc: 0.8128\n",
      "Epoch 23/50\n",
      "60000/60000 [==============================] - 1s 19us/step - loss: 0.1005 - acc: 0.8137 - val_loss: 0.0989 - val_acc: 0.8128\n",
      "Epoch 24/50\n",
      "60000/60000 [==============================] - 1s 20us/step - loss: 0.1004 - acc: 0.8137 - val_loss: 0.0988 - val_acc: 0.8128\n",
      "Epoch 25/50\n",
      "60000/60000 [==============================] - 1s 19us/step - loss: 0.1002 - acc: 0.8137 - val_loss: 0.0987 - val_acc: 0.8128\n",
      "Epoch 26/50\n",
      "60000/60000 [==============================] - 1s 20us/step - loss: 0.1001 - acc: 0.8137 - val_loss: 0.0986 - val_acc: 0.8128\n",
      "Epoch 27/50\n",
      "60000/60000 [==============================] - 1s 18us/step - loss: 0.1000 - acc: 0.8137 - val_loss: 0.0985 - val_acc: 0.8128\n",
      "Epoch 28/50\n",
      "60000/60000 [==============================] - 1s 19us/step - loss: 0.0999 - acc: 0.8137 - val_loss: 0.0983 - val_acc: 0.8129\n",
      "Epoch 29/50\n",
      "60000/60000 [==============================] - 1s 19us/step - loss: 0.0998 - acc: 0.8138 - val_loss: 0.0982 - val_acc: 0.8128\n",
      "Epoch 30/50\n",
      "60000/60000 [==============================] - 1s 18us/step - loss: 0.0997 - acc: 0.8138 - val_loss: 0.0981 - val_acc: 0.8129\n",
      "Epoch 31/50\n",
      "60000/60000 [==============================] - 1s 19us/step - loss: 0.0996 - acc: 0.8138 - val_loss: 0.0980 - val_acc: 0.8129\n",
      "Epoch 32/50\n",
      "60000/60000 [==============================] - 1s 19us/step - loss: 0.0995 - acc: 0.8138 - val_loss: 0.0979 - val_acc: 0.8129\n",
      "Epoch 33/50\n",
      "60000/60000 [==============================] - 1s 19us/step - loss: 0.0993 - acc: 0.8138 - val_loss: 0.0978 - val_acc: 0.8129\n",
      "Epoch 34/50\n",
      "60000/60000 [==============================] - 1s 19us/step - loss: 0.0992 - acc: 0.8138 - val_loss: 0.0977 - val_acc: 0.8129\n",
      "Epoch 35/50\n",
      "60000/60000 [==============================] - 1s 19us/step - loss: 0.0991 - acc: 0.8138 - val_loss: 0.0976 - val_acc: 0.8129\n",
      "Epoch 36/50\n",
      "60000/60000 [==============================] - 1s 19us/step - loss: 0.0990 - acc: 0.8138 - val_loss: 0.0975 - val_acc: 0.8129\n",
      "Epoch 37/50\n",
      "60000/60000 [==============================] - 1s 19us/step - loss: 0.0989 - acc: 0.8138 - val_loss: 0.0974 - val_acc: 0.8129\n",
      "Epoch 38/50\n",
      "60000/60000 [==============================] - 1s 19us/step - loss: 0.0988 - acc: 0.8138 - val_loss: 0.0973 - val_acc: 0.8129\n",
      "Epoch 39/50\n",
      "60000/60000 [==============================] - 1s 19us/step - loss: 0.0987 - acc: 0.8138 - val_loss: 0.0972 - val_acc: 0.8129\n",
      "Epoch 40/50\n",
      "60000/60000 [==============================] - 1s 19us/step - loss: 0.0986 - acc: 0.8138 - val_loss: 0.0971 - val_acc: 0.8130\n",
      "Epoch 41/50\n",
      "60000/60000 [==============================] - 1s 20us/step - loss: 0.0985 - acc: 0.8139 - val_loss: 0.0970 - val_acc: 0.8130\n",
      "Epoch 42/50\n",
      "60000/60000 [==============================] - 1s 19us/step - loss: 0.0984 - acc: 0.8139 - val_loss: 0.0969 - val_acc: 0.8129\n",
      "Epoch 43/50\n",
      "60000/60000 [==============================] - 1s 19us/step - loss: 0.0983 - acc: 0.8139 - val_loss: 0.0969 - val_acc: 0.8129\n",
      "Epoch 44/50\n",
      "60000/60000 [==============================] - 1s 19us/step - loss: 0.0982 - acc: 0.8139 - val_loss: 0.0967 - val_acc: 0.8130\n",
      "Epoch 45/50\n",
      "60000/60000 [==============================] - 1s 20us/step - loss: 0.0981 - acc: 0.8139 - val_loss: 0.0967 - val_acc: 0.8130\n",
      "Epoch 46/50\n",
      "60000/60000 [==============================] - 1s 20us/step - loss: 0.0980 - acc: 0.8139 - val_loss: 0.0965 - val_acc: 0.8130\n",
      "Epoch 47/50\n",
      "60000/60000 [==============================] - 1s 19us/step - loss: 0.0979 - acc: 0.8139 - val_loss: 0.0965 - val_acc: 0.8130\n",
      "Epoch 48/50\n",
      "60000/60000 [==============================] - 1s 19us/step - loss: 0.0978 - acc: 0.8139 - val_loss: 0.0964 - val_acc: 0.8129\n",
      "Epoch 49/50\n",
      "60000/60000 [==============================] - 1s 20us/step - loss: 0.0977 - acc: 0.8139 - val_loss: 0.0963 - val_acc: 0.8130\n",
      "Epoch 50/50\n",
      "60000/60000 [==============================] - 1s 20us/step - loss: 0.0977 - acc: 0.8139 - val_loss: 0.0962 - val_acc: 0.8130\n"
     ]
    },
    {
     "data": {
      "text/plain": [
       "<keras.callbacks.History at 0x7f9057388e80>"
      ]
     },
     "execution_count": 9,
     "metadata": {},
     "output_type": "execute_result"
    }
   ],
   "source": [
    "autoencoderRegula.compile(loss='binary_crossentropy',\n",
    "              optimizer='adadelta',\n",
    "              metrics=['accuracy'])\n",
    "autoencoderRegula.fit(x_train, x_train,\n",
    "                    batch_size=256,\n",
    "                    epochs=50,\n",
    "                    verbose=1,\n",
    "                    validation_data=(x_test,x_test))"
   ]
  },
  {
   "cell_type": "code",
   "execution_count": 10,
   "metadata": {},
   "outputs": [],
   "source": [
    "autoencoderRegula_imgs = autoencoderRegula.predict(x_test)\n",
    "encoderRegula_imgs = encoderRegula.predict(x_test)"
   ]
  },
  {
   "cell_type": "markdown",
   "metadata": {},
   "source": [
    "### 3. Affichage résultat final : "
   ]
  },
  {
   "cell_type": "code",
   "execution_count": 11,
   "metadata": {},
   "outputs": [
    {
     "data": {
      "image/png": "[encoded data removed]",
      "text/plain": [
       "<Figure size 1440x288 with 30 Axes>"
      ]
     },
     "metadata": {},
     "output_type": "display_data"
    }
   ],
   "source": [
    "\n",
    "import matplotlib.pyplot as plt\n",
    "\n",
    "n = 10  # how many digits we will display\n",
    "plt.figure(figsize=(20, 4))\n",
    "for i in range(n):\n",
    "    # display original\n",
    "    ax = plt.subplot(3, n, i + 1)\n",
    "    plt.imshow(x_test[i].reshape(28, 28))\n",
    "    plt.gray()\n",
    "    ax.get_xaxis().set_visible(False)\n",
    "    ax.get_yaxis().set_visible(False)\n",
    "\n",
    "    # display reconstruction\n",
    "    ax = plt.subplot(3, n, i + 1 + n)\n",
    "    plt.imshow(encoderRegula_imgs[i].reshape(4, 8))\n",
    "    plt.gray()\n",
    "    ax.get_xaxis().set_visible(False)\n",
    "    ax.get_yaxis().set_visible(False)\n",
    "    \n",
    "    # display reconstruction\n",
    "    ax = plt.subplot(3, n, i + 1 + 2*n)\n",
    "    plt.imshow(autoencoderRegula_imgs[i].reshape(28, 28))\n",
    "    plt.gray()\n",
    "    ax.get_xaxis().set_visible(False)\n",
    "    ax.get_yaxis().set_visible(False)\n",
    "plt.show()"
   ]
  },
  {
   "cell_type": "markdown",
   "metadata": {},
   "source": [
    "### 4. Affichage et comparaison résultat intermédiaire :"
   ]
  },
  {
   "cell_type": "code",
   "execution_count": 12,
   "metadata": {},
   "outputs": [
    {
     "data": {
      "image/png": "[encoded data removed]",
      "text/plain": [
       "<Figure size 1440x288 with 30 Axes>"
      ]
     },
     "metadata": {},
     "output_type": "display_data"
    }
   ],
   "source": [
    "import matplotlib.pyplot as plt\n",
    "\n",
    "n = 10  # how many digits we will display\n",
    "plt.figure(figsize=(20, 4))\n",
    "for i in range(n):\n",
    "    # display original\n",
    "    ax = plt.subplot(3, n, i + 1)\n",
    "    plt.imshow(x_test[i].reshape(28, 28))\n",
    "    plt.gray()\n",
    "    ax.get_xaxis().set_visible(False)\n",
    "    ax.get_yaxis().set_visible(False)\n",
    "\n",
    "    # display reconstruction\n",
    "    ax = plt.subplot(3, n, i + 1 + n)\n",
    "    plt.imshow(encoder_imgs[i].reshape(4, 8))\n",
    "    plt.gray()\n",
    "    ax.get_xaxis().set_visible(False)\n",
    "    ax.get_yaxis().set_visible(False)\n",
    "    \n",
    "    # display reconstruction\n",
    "    ax = plt.subplot(3, n, i + 1 + 2*n)\n",
    "    plt.imshow(encoderRegula_imgs[i].reshape(4, 8))\n",
    "    plt.gray()\n",
    "    ax.get_xaxis().set_visible(False)\n",
    "    ax.get_yaxis().set_visible(False)\n",
    "    \n",
    "plt.show()"
   ]
  },
  {
   "cell_type": "code",
   "execution_count": 13,
   "metadata": {},
   "outputs": [
    {
     "data": {
      "image/png": "[encoded data removed]",
      "text/plain": [
       "<Figure size 432x288 with 1 Axes>"
      ]
     },
     "metadata": {},
     "output_type": "display_data"
    },
    {
     "data": {
      "text/plain": [
       "(array([6.000e+00, 3.905e+03, 4.376e+03, 0.000e+00, 1.384e+03, 2.820e+02,\n",
       "        0.000e+00, 4.000e+01, 5.000e+00, 2.000e+00]),\n",
       " array([0. , 0.7, 1.4, 2.1, 2.8, 3.5, 4.2, 4.9, 5.6, 6.3, 7. ]),\n",
       " <a list of 10 Patch objects>)"
      ]
     },
     "execution_count": 13,
     "metadata": {},
     "output_type": "execute_result"
    },
    {
     "data": {
      "image/png": "[encoded data removed]",
      "text/plain": [
       "<Figure size 432x288 with 1 Axes>"
      ]
     },
     "metadata": {},
     "output_type": "display_data"
    }
   ],
   "source": [
    "plt.hist(np.sum(encoderRegula_imgs==0,axis=1))\n",
    "plt.show()\n",
    "plt.hist(np.sum(encoder_imgs==0,axis=1))"
   ]
  },
  {
   "cell_type": "markdown",
   "metadata": {},
   "source": [
    "## IV. Autoencoder avec réseaux de convolution "
   ]
  },
  {
   "cell_type": "markdown",
   "metadata": {},
   "source": [
    "### 1. Chargement et traitement de données "
   ]
  },
  {
   "cell_type": "code",
   "execution_count": 14,
   "metadata": {},
   "outputs": [],
   "source": [
    "from keras.datasets import mnist\n",
    "import numpy as np\n",
    "\n",
    "(x_train, _), (x_test, _) = mnist.load_data()\n",
    "\n",
    "x_train = x_train.astype('float32') / 255.\n",
    "x_test = x_test.astype('float32') / 255.\n",
    "x_train = np.reshape(x_train, (len(x_train), 28, 28, 1))  # adapt this if using `channels_first` image data format\n",
    "x_test = np.reshape(x_test, (len(x_test), 28, 28, 1))  # adapt this if using `channels_first` image data format"
   ]
  },
  {
   "cell_type": "markdown",
   "metadata": {},
   "source": [
    "### 2. Construction des données "
   ]
  },
  {
   "cell_type": "code",
   "execution_count": 17,
   "metadata": {},
   "outputs": [],
   "source": [
    "from keras import regularizers\n",
    "from keras.layers import Input, Dense, Conv2D, MaxPooling2D, UpSampling2D\n",
    "\n",
    "encoder = km.Sequential()\n",
    "encoder.add(Conv2D(16, kernel_size=(3, 3), input_shape=(28,28,1) ,activation='relu', padding='same'))\n",
    "encoder.add(MaxPooling2D((2, 2), padding='same'))\n",
    "encoder.add(Conv2D(8, (3, 3), activation='relu', padding='same'))\n",
    "encoder.add(MaxPooling2D((2, 2), padding='same'))\n",
    "encoder.add(Conv2D(8, (3, 3), activation='relu', padding='same'))\n",
    "encoder.add(MaxPooling2D((2, 2), padding='same'))\n",
    "\n",
    "decoder = km.Sequential()\n",
    "decoder.add(Conv2D(8, (3, 3), activation='relu', padding='same'))\n",
    "decoder.add(UpSampling2D((2, 2)))\n",
    "decoder.add(Conv2D(8, (3, 3), activation='relu', padding='same'))\n",
    "decoder.add(UpSampling2D((2, 2)))\n",
    "decoder.add(Conv2D(16, (3, 3), activation='relu'))\n",
    "decoder.add(UpSampling2D((2, 2)))\n",
    "decoder.add(Conv2D(1, (3, 3), activation='sigmoid', padding='same'))\n",
    "\n",
    "\n",
    "autoencoder = km.Sequential()\n",
    "autoencoder.add(encoder)\n",
    "autoencoder.add(decoder)"
   ]
  },
  {
   "cell_type": "markdown",
   "metadata": {},
   "source": [
    "### 3. Phase d'apprentissage"
   ]
  },
  {
   "cell_type": "code",
   "execution_count": 18,
   "metadata": {},
   "outputs": [
    {
     "name": "stdout",
     "output_type": "stream",
     "text": [
      "Train on 60000 samples, validate on 10000 samples\n",
      "Epoch 1/50\n",
      "60000/60000 [==============================] - 5s 89us/step - loss: 0.2053 - acc: 0.7929 - val_loss: 0.1599 - val_acc: 0.8012\n",
      "Epoch 2/50\n",
      "60000/60000 [==============================] - 4s 70us/step - loss: 0.1529 - acc: 0.7999 - val_loss: 0.1386 - val_acc: 0.8009\n",
      "Epoch 3/50\n",
      "60000/60000 [==============================] - 4s 71us/step - loss: 0.1398 - acc: 0.8031 - val_loss: 0.1329 - val_acc: 0.8008\n",
      "Epoch 4/50\n",
      "60000/60000 [==============================] - 4s 70us/step - loss: 0.1322 - acc: 0.8051 - val_loss: 0.1311 - val_acc: 0.8084\n",
      "Epoch 5/50\n",
      "60000/60000 [==============================] - 4s 71us/step - loss: 0.1265 - acc: 0.8066 - val_loss: 0.1250 - val_acc: 0.8096\n",
      "Epoch 6/50\n",
      "60000/60000 [==============================] - 4s 71us/step - loss: 0.1232 - acc: 0.8075 - val_loss: 0.1249 - val_acc: 0.8024\n",
      "Epoch 7/50\n",
      "60000/60000 [==============================] - 4s 71us/step - loss: 0.1206 - acc: 0.8082 - val_loss: 0.1168 - val_acc: 0.8055\n",
      "Epoch 8/50\n",
      "60000/60000 [==============================] - 4s 70us/step - loss: 0.1185 - acc: 0.8087 - val_loss: 0.1135 - val_acc: 0.8100\n",
      "Epoch 9/50\n",
      "60000/60000 [==============================] - 4s 73us/step - loss: 0.1167 - acc: 0.8091 - val_loss: 0.1153 - val_acc: 0.8069\n",
      "Epoch 10/50\n",
      "60000/60000 [==============================] - 4s 71us/step - loss: 0.1152 - acc: 0.8094 - val_loss: 0.1135 - val_acc: 0.8073\n",
      "Epoch 11/50\n",
      "60000/60000 [==============================] - 4s 72us/step - loss: 0.1140 - acc: 0.8097 - val_loss: 0.1126 - val_acc: 0.8068\n",
      "Epoch 12/50\n",
      "60000/60000 [==============================] - 4s 71us/step - loss: 0.1130 - acc: 0.8099 - val_loss: 0.1113 - val_acc: 0.8101\n",
      "Epoch 13/50\n",
      "60000/60000 [==============================] - 4s 67us/step - loss: 0.1122 - acc: 0.8101 - val_loss: 0.1100 - val_acc: 0.8079\n",
      "Epoch 14/50\n",
      "60000/60000 [==============================] - 4s 71us/step - loss: 0.1113 - acc: 0.8103 - val_loss: 0.1089 - val_acc: 0.8113\n",
      "Epoch 15/50\n",
      "60000/60000 [==============================] - 4s 73us/step - loss: 0.1105 - acc: 0.8105 - val_loss: 0.1099 - val_acc: 0.8111\n",
      "Epoch 16/50\n",
      "60000/60000 [==============================] - 5s 87us/step - loss: 0.1095 - acc: 0.8106 - val_loss: 0.1063 - val_acc: 0.8099\n",
      "Epoch 17/50\n",
      "60000/60000 [==============================] - 5s 84us/step - loss: 0.1089 - acc: 0.8107 - val_loss: 0.1091 - val_acc: 0.8077\n",
      "Epoch 18/50\n",
      "60000/60000 [==============================] - 5s 82us/step - loss: 0.1081 - acc: 0.8109 - val_loss: 0.1089 - val_acc: 0.8117\n",
      "Epoch 19/50\n",
      "60000/60000 [==============================] - 5s 87us/step - loss: 0.1076 - acc: 0.8110 - val_loss: 0.1065 - val_acc: 0.8090\n",
      "Epoch 20/50\n",
      "60000/60000 [==============================] - 5s 83us/step - loss: 0.1070 - acc: 0.8111 - val_loss: 0.1074 - val_acc: 0.8085\n",
      "Epoch 21/50\n",
      "60000/60000 [==============================] - 5s 86us/step - loss: 0.1064 - acc: 0.8112 - val_loss: 0.1039 - val_acc: 0.8093\n",
      "Epoch 22/50\n",
      "60000/60000 [==============================] - 5s 84us/step - loss: 0.1057 - acc: 0.8113 - val_loss: 0.1061 - val_acc: 0.8087\n",
      "Epoch 23/50\n",
      "60000/60000 [==============================] - 5s 85us/step - loss: 0.1054 - acc: 0.8114 - val_loss: 0.1047 - val_acc: 0.8089\n",
      "Epoch 24/50\n",
      "60000/60000 [==============================] - 5s 84us/step - loss: 0.1051 - acc: 0.8115 - val_loss: 0.1063 - val_acc: 0.8117\n",
      "Epoch 25/50\n",
      "60000/60000 [==============================] - 5s 84us/step - loss: 0.1048 - acc: 0.8115 - val_loss: 0.1042 - val_acc: 0.8122\n",
      "Epoch 26/50\n",
      "60000/60000 [==============================] - 5s 86us/step - loss: 0.1044 - acc: 0.8116 - val_loss: 0.1042 - val_acc: 0.8091\n",
      "Epoch 27/50\n",
      "60000/60000 [==============================] - 5s 85us/step - loss: 0.1041 - acc: 0.8117 - val_loss: 0.1018 - val_acc: 0.8099\n",
      "Epoch 28/50\n",
      "60000/60000 [==============================] - 5s 86us/step - loss: 0.1035 - acc: 0.8118 - val_loss: 0.1025 - val_acc: 0.8121\n",
      "Epoch 29/50\n",
      "60000/60000 [==============================] - 5s 88us/step - loss: 0.1033 - acc: 0.8118 - val_loss: 0.1021 - val_acc: 0.8121\n",
      "Epoch 30/50\n",
      "60000/60000 [==============================] - 5s 87us/step - loss: 0.1029 - acc: 0.8119 - val_loss: 0.1045 - val_acc: 0.8125\n",
      "Epoch 31/50\n",
      "60000/60000 [==============================] - 5s 84us/step - loss: 0.1028 - acc: 0.8119 - val_loss: 0.0995 - val_acc: 0.8121\n",
      "Epoch 32/50\n",
      "60000/60000 [==============================] - 5s 80us/step - loss: 0.1022 - acc: 0.8120 - val_loss: 0.1002 - val_acc: 0.8106\n",
      "Epoch 33/50\n",
      "60000/60000 [==============================] - 5s 81us/step - loss: 0.1020 - acc: 0.8120 - val_loss: 0.1009 - val_acc: 0.8102\n",
      "Epoch 34/50\n",
      "60000/60000 [==============================] - 5s 86us/step - loss: 0.1017 - acc: 0.8121 - val_loss: 0.1011 - val_acc: 0.8113\n",
      "Epoch 35/50\n",
      "60000/60000 [==============================] - 5s 88us/step - loss: 0.1013 - acc: 0.8122 - val_loss: 0.1026 - val_acc: 0.8100\n",
      "Epoch 36/50\n",
      "60000/60000 [==============================] - 5s 86us/step - loss: 0.1010 - acc: 0.8122 - val_loss: 0.0986 - val_acc: 0.8123\n",
      "Epoch 37/50\n",
      "60000/60000 [==============================] - 5s 82us/step - loss: 0.1010 - acc: 0.8122 - val_loss: 0.1024 - val_acc: 0.8127\n",
      "Epoch 38/50\n",
      "60000/60000 [==============================] - 5s 89us/step - loss: 0.1008 - acc: 0.8123 - val_loss: 0.1025 - val_acc: 0.8099\n",
      "Epoch 39/50\n",
      "60000/60000 [==============================] - 5s 86us/step - loss: 0.1006 - acc: 0.8123 - val_loss: 0.1024 - val_acc: 0.8101\n",
      "Epoch 40/50\n",
      "60000/60000 [==============================] - 5s 85us/step - loss: 0.1007 - acc: 0.8123 - val_loss: 0.1002 - val_acc: 0.8097\n",
      "Epoch 41/50\n",
      "60000/60000 [==============================] - 5s 83us/step - loss: 0.1004 - acc: 0.8124 - val_loss: 0.1021 - val_acc: 0.8101\n",
      "Epoch 42/50\n",
      "60000/60000 [==============================] - 5s 81us/step - loss: 0.1003 - acc: 0.8124 - val_loss: 0.1009 - val_acc: 0.8104\n",
      "Epoch 43/50\n",
      "60000/60000 [==============================] - 5s 87us/step - loss: 0.0998 - acc: 0.8124 - val_loss: 0.1012 - val_acc: 0.8128\n",
      "Epoch 44/50\n",
      "60000/60000 [==============================] - 5s 85us/step - loss: 0.0997 - acc: 0.8125 - val_loss: 0.0979 - val_acc: 0.8125\n",
      "Epoch 45/50\n",
      "60000/60000 [==============================] - 5s 88us/step - loss: 0.0996 - acc: 0.8125 - val_loss: 0.0983 - val_acc: 0.8111\n",
      "Epoch 46/50\n",
      "60000/60000 [==============================] - 5s 84us/step - loss: 0.0994 - acc: 0.8125 - val_loss: 0.0974 - val_acc: 0.8127\n",
      "Epoch 47/50\n",
      "60000/60000 [==============================] - 5s 85us/step - loss: 0.0991 - acc: 0.8126 - val_loss: 0.0986 - val_acc: 0.8126\n",
      "Epoch 48/50\n",
      "60000/60000 [==============================] - 5s 87us/step - loss: 0.0990 - acc: 0.8126 - val_loss: 0.0968 - val_acc: 0.8108\n",
      "Epoch 49/50\n",
      "60000/60000 [==============================] - 5s 88us/step - loss: 0.0987 - acc: 0.8126 - val_loss: 0.0970 - val_acc: 0.8110\n",
      "Epoch 50/50\n",
      "60000/60000 [==============================] - 5s 83us/step - loss: 0.0986 - acc: 0.8126 - val_loss: 0.1009 - val_acc: 0.8129\n"
     ]
    },
    {
     "data": {
      "text/plain": [
       "<keras.callbacks.History at 0x7f90301590b8>"
      ]
     },
     "execution_count": 18,
     "metadata": {},
     "output_type": "execute_result"
    }
   ],
   "source": [
    "autoencoder.compile(loss='binary_crossentropy',\n",
    "              optimizer='adadelta',\n",
    "              metrics=['accuracy'])\n",
    "autoencoder.fit(x_train, x_train,\n",
    "                    batch_size=128,\n",
    "                    epochs=50,\n",
    "                    verbose=1,\n",
    "                    validation_data=(x_test,x_test))"
   ]
  },
  {
   "cell_type": "code",
   "execution_count": 19,
   "metadata": {},
   "outputs": [],
   "source": [
    "autoencoderConv_imgs = autoencoder.predict(x_test)\n",
    "encoderConv_imgs = encoder.predict(x_test)"
   ]
  },
  {
   "cell_type": "code",
   "execution_count": null,
   "metadata": {},
   "outputs": [],
   "source": [
    "print(np.shape(encoderConv_imgs))"
   ]
  },
  {
   "cell_type": "markdown",
   "metadata": {},
   "source": [
    "### 4. Affichage résultat final "
   ]
  },
  {
   "cell_type": "code",
   "execution_count": 20,
   "metadata": {},
   "outputs": [
    {
     "data": {
      "image/png": "[encoded data removed]",
      "text/plain": [
       "<Figure size 1440x288 with 30 Axes>"
      ]
     },
     "metadata": {},
     "output_type": "display_data"
    }
   ],
   "source": [
    "import matplotlib.pyplot as plt\n",
    "\n",
    "n = 10  # how many digits we will display\n",
    "plt.figure(figsize=(20, 4))\n",
    "for i in range(n):\n",
    "    # display original\n",
    "    ax = plt.subplot(3, n, i + 1)\n",
    "    plt.imshow(x_test[i].reshape(28, 28))\n",
    "    plt.gray()\n",
    "    ax.get_xaxis().set_visible(False)\n",
    "    ax.get_yaxis().set_visible(False)\n",
    "    \n",
    "    ax = plt.subplot(3, n, i + 1 + n)\n",
    "    plt.imshow(encoderConv_imgs[i].reshape(8, 16))\n",
    "    plt.gray()\n",
    "    ax.get_xaxis().set_visible(False)\n",
    "    ax.get_yaxis().set_visible(False)\n",
    "\n",
    "    # display reconstruction\n",
    "    ax = plt.subplot(3, n, i + 1 + 2*n)\n",
    "    plt.imshow(autoencoderConv_imgs[i].reshape(28, 28))\n",
    "    plt.gray()\n",
    "    ax.get_xaxis().set_visible(False)\n",
    "    ax.get_yaxis().set_visible(False)\n",
    "plt.show()"
   ]
  },
  {
   "cell_type": "markdown",
   "metadata": {},
   "source": [
    "### 5. Affichage résultat intermédiaire "
   ]
  },
  {
   "cell_type": "code",
   "execution_count": null,
   "metadata": {},
   "outputs": [],
   "source": [
    "#### \n",
    "### AFFICHAGE RÉSULTATS INTERMÉDIAIRES SORTIES ENCODER###"
   ]
  },
  {
   "cell_type": "code",
   "execution_count": null,
   "metadata": {},
   "outputs": [],
   "source": []
  }
 ],
 "metadata": {
  "kernelspec": {
   "display_name": "Python (GPU)",
   "language": "python",
   "name": "gpu"
  },
  "language_info": {
   "codemirror_mode": {
    "name": "ipython",
    "version": 3
   },
   "file_extension": ".py",
   "mimetype": "text/x-python",
   "name": "python",
   "nbconvert_exporter": "python",
   "pygments_lexer": "ipython3",
   "version": "3.6.5"
  }
 },
 "nbformat": 4,
 "nbformat_minor": 2
}
