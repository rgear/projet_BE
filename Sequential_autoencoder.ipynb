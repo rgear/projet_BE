{
 "cells": [
  {
   "cell_type": "code",
   "execution_count": 1,
   "metadata": {},
   "outputs": [
    {
     "name": "stderr",
     "output_type": "stream",
     "text": [
      "/anaconda3/lib/python3.6/site-packages/h5py/__init__.py:36: FutureWarning: Conversion of the second argument of issubdtype from `float` to `np.floating` is deprecated. In future, it will be treated as `np.float64 == np.dtype(float).type`.\n",
      "  from ._conv import register_converters as _register_converters\n",
      "Using TensorFlow backend.\n"
     ]
    },
    {
     "name": "stdout",
     "output_type": "stream",
     "text": [
      "3.6.5 |Anaconda, Inc.| (default, Apr 26 2018, 08:42:37) \n",
      "[GCC 4.2.1 Compatible Clang 4.0.1 (tags/RELEASE_401/final)]\n",
      "[name: \"/device:CPU:0\"\n",
      "device_type: \"CPU\"\n",
      "memory_limit: 268435456\n",
      "locality {\n",
      "}\n",
      "incarnation: 14699128945194194705\n",
      "]\n"
     ]
    }
   ],
   "source": [
    "%matplotlib inline \n",
    "import matplotlib.pyplot as plt\n",
    "import seaborn as sb\n",
    "sb.set()\n",
    "\n",
    "import pandas as pd\n",
    "import numpy as np\n",
    "import time\n",
    "\n",
    "import keras.utils as ku\n",
    "import keras.models as km\n",
    "import keras.layers as kl\n",
    "import keras.optimizers as ko\n",
    "\n",
    "from sklearn.metrics import confusion_matrix\n",
    "\n",
    "# Paramètres\n",
    "batch_size = 128\n",
    "epochs = 10\n",
    "# Vocabulary\n",
    "# One epoch is when an ENTIRE dataset is passed forward and backward through neural network only once\n",
    "# Batch_size : total number of training examples present in a single batch. \n",
    "# Batch_size : defines the number of samples to work through before updating the internal model parameters\n",
    "# Batch_size : is the number of samples processed before the model is updated. \n",
    "\n",
    "\n",
    "\n",
    "import sys\n",
    "print(sys.version)\n",
    "from tensorflow.python.client import device_lib\n",
    "print(device_lib.list_local_devices())"
   ]
  },
  {
   "cell_type": "markdown",
   "metadata": {},
   "source": [
    "## I. Chargement des données "
   ]
  },
  {
   "cell_type": "code",
   "execution_count": 2,
   "metadata": {},
   "outputs": [],
   "source": [
    "from keras.datasets import mnist\n",
    "import numpy as np\n",
    "(x_train, _), (x_test, _) = mnist.load_data()"
   ]
  },
  {
   "cell_type": "code",
   "execution_count": 3,
   "metadata": {},
   "outputs": [],
   "source": [
    "x_train = x_train.astype('float32') / 255. # Pour normaliser toutes les valeurs \n",
    "x_test = x_test.astype('float32') / 255.# Pour normaliser toutes les valeurs \n",
    "x_train = x_train.reshape((len(x_train), np.prod(x_train.shape[1:])))\n",
    "x_test = x_test.reshape((len(x_test), np.prod(x_test.shape[1:])))"
   ]
  },
  {
   "cell_type": "markdown",
   "metadata": {},
   "source": [
    "## II. Autoencoder simple couche "
   ]
  },
  {
   "cell_type": "markdown",
   "metadata": {},
   "source": [
    "### 1. Construction du modèle "
   ]
  },
  {
   "cell_type": "code",
   "execution_count": 4,
   "metadata": {},
   "outputs": [
    {
     "name": "stdout",
     "output_type": "stream",
     "text": [
      "WARNING:tensorflow:From /anaconda3/lib/python3.6/site-packages/tensorflow/python/framework/op_def_library.py:263: colocate_with (from tensorflow.python.framework.ops) is deprecated and will be removed in a future version.\n",
      "Instructions for updating:\n",
      "Colocations handled automatically by placer.\n"
     ]
    }
   ],
   "source": [
    "encoder = km.Sequential()\n",
    "encoder.add(kl.Dense(32, activation='relu', input_shape=(784,)))\n",
    "\n",
    "decoder = km.Sequential()\n",
    "decoder.add(kl.Dense(784, activation='sigmoid'))\n",
    "\n",
    "autoencoder = km.Sequential()\n",
    "autoencoder.add(encoder)\n",
    "autoencoder.add(decoder)"
   ]
  },
  {
   "cell_type": "markdown",
   "metadata": {},
   "source": [
    "### 2. Phase d'apprentissage "
   ]
  },
  {
   "cell_type": "code",
   "execution_count": 5,
   "metadata": {},
   "outputs": [
    {
     "name": "stdout",
     "output_type": "stream",
     "text": [
      "WARNING:tensorflow:From /anaconda3/lib/python3.6/site-packages/tensorflow/python/ops/math_ops.py:3066: to_int32 (from tensorflow.python.ops.math_ops) is deprecated and will be removed in a future version.\n",
      "Instructions for updating:\n",
      "Use tf.cast instead.\n",
      "Train on 60000 samples, validate on 10000 samples\n",
      "Epoch 1/50\n",
      "60000/60000 [==============================] - 2s 30us/step - loss: 0.3530 - acc: 0.7573 - val_loss: 0.2703 - val_acc: 0.7949\n",
      "Epoch 2/50\n",
      "60000/60000 [==============================] - 2s 30us/step - loss: 0.2623 - acc: 0.7983 - val_loss: 0.2505 - val_acc: 0.7962\n",
      "Epoch 3/50\n",
      "60000/60000 [==============================] - 2s 31us/step - loss: 0.2399 - acc: 0.7980 - val_loss: 0.2272 - val_acc: 0.7972\n",
      "Epoch 4/50\n",
      "60000/60000 [==============================] - 2s 31us/step - loss: 0.2194 - acc: 0.7979 - val_loss: 0.2094 - val_acc: 0.7978\n",
      "Epoch 5/50\n",
      "60000/60000 [==============================] - 2s 34us/step - loss: 0.2043 - acc: 0.7989 - val_loss: 0.1968 - val_acc: 0.7990\n",
      "Epoch 6/50\n",
      "60000/60000 [==============================] - 2s 33us/step - loss: 0.1935 - acc: 0.8001 - val_loss: 0.1876 - val_acc: 0.8003\n",
      "Epoch 7/50\n",
      "60000/60000 [==============================] - 2s 33us/step - loss: 0.1853 - acc: 0.8013 - val_loss: 0.1802 - val_acc: 0.8016\n",
      "Epoch 8/50\n",
      "60000/60000 [==============================] - 2s 33us/step - loss: 0.1783 - acc: 0.8025 - val_loss: 0.1738 - val_acc: 0.8029\n",
      "Epoch 9/50\n",
      "60000/60000 [==============================] - 2s 31us/step - loss: 0.1723 - acc: 0.8036 - val_loss: 0.1680 - val_acc: 0.8035\n",
      "Epoch 10/50\n",
      "60000/60000 [==============================] - 2s 30us/step - loss: 0.1669 - acc: 0.8045 - val_loss: 0.1630 - val_acc: 0.8045\n",
      "Epoch 11/50\n",
      "60000/60000 [==============================] - 2s 28us/step - loss: 0.1621 - acc: 0.8053 - val_loss: 0.1584 - val_acc: 0.8052\n",
      "Epoch 12/50\n",
      "60000/60000 [==============================] - 2s 29us/step - loss: 0.1578 - acc: 0.8061 - val_loss: 0.1544 - val_acc: 0.8061\n",
      "Epoch 13/50\n",
      "60000/60000 [==============================] - 2s 30us/step - loss: 0.1539 - acc: 0.8067 - val_loss: 0.1505 - val_acc: 0.8062\n",
      "Epoch 14/50\n",
      "60000/60000 [==============================] - 2s 32us/step - loss: 0.1503 - acc: 0.8073 - val_loss: 0.1470 - val_acc: 0.8070\n",
      "Epoch 15/50\n",
      "60000/60000 [==============================] - 2s 33us/step - loss: 0.1470 - acc: 0.8078 - val_loss: 0.1439 - val_acc: 0.8075\n",
      "Epoch 16/50\n",
      "60000/60000 [==============================] - 2s 31us/step - loss: 0.1439 - acc: 0.8083 - val_loss: 0.1409 - val_acc: 0.8079\n",
      "Epoch 17/50\n",
      "60000/60000 [==============================] - 2s 28us/step - loss: 0.1411 - acc: 0.8087 - val_loss: 0.1382 - val_acc: 0.8082\n",
      "Epoch 18/50\n",
      "60000/60000 [==============================] - 2s 30us/step - loss: 0.1386 - acc: 0.8091 - val_loss: 0.1358 - val_acc: 0.8086\n",
      "Epoch 19/50\n",
      "60000/60000 [==============================] - 2s 29us/step - loss: 0.1362 - acc: 0.8095 - val_loss: 0.1335 - val_acc: 0.8089\n",
      "Epoch 20/50\n",
      "60000/60000 [==============================] - 2s 28us/step - loss: 0.1340 - acc: 0.8098 - val_loss: 0.1313 - val_acc: 0.8093\n",
      "Epoch 21/50\n",
      "60000/60000 [==============================] - 2s 30us/step - loss: 0.1319 - acc: 0.8101 - val_loss: 0.1292 - val_acc: 0.8094\n",
      "Epoch 22/50\n",
      "60000/60000 [==============================] - 2s 29us/step - loss: 0.1299 - acc: 0.8104 - val_loss: 0.1273 - val_acc: 0.8097\n",
      "Epoch 23/50\n",
      "60000/60000 [==============================] - 2s 29us/step - loss: 0.1280 - acc: 0.8107 - val_loss: 0.1254 - val_acc: 0.8099\n",
      "Epoch 24/50\n",
      "60000/60000 [==============================] - 2s 29us/step - loss: 0.1262 - acc: 0.8109 - val_loss: 0.1236 - val_acc: 0.8102\n",
      "Epoch 25/50\n",
      "60000/60000 [==============================] - 2s 32us/step - loss: 0.1244 - acc: 0.8111 - val_loss: 0.1220 - val_acc: 0.8104\n",
      "Epoch 26/50\n",
      "60000/60000 [==============================] - 2s 31us/step - loss: 0.1228 - acc: 0.8114 - val_loss: 0.1205 - val_acc: 0.8108\n",
      "Epoch 27/50\n",
      "60000/60000 [==============================] - 2s 31us/step - loss: 0.1213 - acc: 0.8116 - val_loss: 0.1189 - val_acc: 0.8109\n",
      "Epoch 28/50\n",
      "60000/60000 [==============================] - 2s 33us/step - loss: 0.1199 - acc: 0.8117 - val_loss: 0.1175 - val_acc: 0.8110\n",
      "Epoch 29/50\n",
      "60000/60000 [==============================] - 2s 33us/step - loss: 0.1185 - acc: 0.8119 - val_loss: 0.1162 - val_acc: 0.8112\n",
      "Epoch 30/50\n",
      "60000/60000 [==============================] - 2s 32us/step - loss: 0.1172 - acc: 0.8121 - val_loss: 0.1150 - val_acc: 0.8114\n",
      "Epoch 31/50\n",
      "60000/60000 [==============================] - 2s 33us/step - loss: 0.1160 - acc: 0.8122 - val_loss: 0.1138 - val_acc: 0.8115\n",
      "Epoch 32/50\n",
      "60000/60000 [==============================] - 2s 36us/step - loss: 0.1149 - acc: 0.8124 - val_loss: 0.1127 - val_acc: 0.8116\n",
      "Epoch 33/50\n",
      "60000/60000 [==============================] - 2s 37us/step - loss: 0.1138 - acc: 0.8125 - val_loss: 0.1117 - val_acc: 0.8117\n",
      "Epoch 34/50\n",
      "60000/60000 [==============================] - 2s 41us/step - loss: 0.1128 - acc: 0.8126 - val_loss: 0.1108 - val_acc: 0.8118\n",
      "Epoch 35/50\n",
      "60000/60000 [==============================] - 2s 34us/step - loss: 0.1119 - acc: 0.8127 - val_loss: 0.1099 - val_acc: 0.8119\n",
      "Epoch 36/50\n",
      "60000/60000 [==============================] - 2s 33us/step - loss: 0.1110 - acc: 0.8128 - val_loss: 0.1090 - val_acc: 0.8120\n",
      "Epoch 37/50\n",
      "60000/60000 [==============================] - 2s 31us/step - loss: 0.1102 - acc: 0.8129 - val_loss: 0.1082 - val_acc: 0.8121\n",
      "Epoch 38/50\n",
      "60000/60000 [==============================] - 2s 31us/step - loss: 0.1094 - acc: 0.8129 - val_loss: 0.1075 - val_acc: 0.8122\n",
      "Epoch 39/50\n",
      "60000/60000 [==============================] - 2s 30us/step - loss: 0.1087 - acc: 0.8130 - val_loss: 0.1068 - val_acc: 0.8122\n",
      "Epoch 40/50\n",
      "60000/60000 [==============================] - 2s 30us/step - loss: 0.1080 - acc: 0.8131 - val_loss: 0.1061 - val_acc: 0.8123\n",
      "Epoch 41/50\n",
      "60000/60000 [==============================] - 2s 29us/step - loss: 0.1074 - acc: 0.8131 - val_loss: 0.1055 - val_acc: 0.8123\n",
      "Epoch 42/50\n",
      "60000/60000 [==============================] - 2s 29us/step - loss: 0.1068 - acc: 0.8132 - val_loss: 0.1050 - val_acc: 0.8124\n",
      "Epoch 43/50\n",
      "60000/60000 [==============================] - 2s 30us/step - loss: 0.1062 - acc: 0.8133 - val_loss: 0.1044 - val_acc: 0.8124\n",
      "Epoch 44/50\n",
      "60000/60000 [==============================] - 2s 30us/step - loss: 0.1057 - acc: 0.8133 - val_loss: 0.1039 - val_acc: 0.8125\n",
      "Epoch 45/50\n",
      "60000/60000 [==============================] - 2s 30us/step - loss: 0.1052 - acc: 0.8133 - val_loss: 0.1034 - val_acc: 0.8125\n",
      "Epoch 46/50\n",
      "60000/60000 [==============================] - 2s 29us/step - loss: 0.1047 - acc: 0.8134 - val_loss: 0.1030 - val_acc: 0.8125\n",
      "Epoch 47/50\n",
      "60000/60000 [==============================] - 2s 30us/step - loss: 0.1043 - acc: 0.8134 - val_loss: 0.1025 - val_acc: 0.8126\n",
      "Epoch 48/50\n",
      "60000/60000 [==============================] - 2s 30us/step - loss: 0.1039 - acc: 0.8135 - val_loss: 0.1021 - val_acc: 0.8126\n",
      "Epoch 49/50\n",
      "60000/60000 [==============================] - 2s 30us/step - loss: 0.1035 - acc: 0.8135 - val_loss: 0.1017 - val_acc: 0.8126\n",
      "Epoch 50/50\n",
      "60000/60000 [==============================] - 2s 30us/step - loss: 0.1031 - acc: 0.8135 - val_loss: 0.1014 - val_acc: 0.8126\n"
     ]
    },
    {
     "data": {
      "text/plain": [
       "<keras.callbacks.History at 0x11b5d77f0>"
      ]
     },
     "execution_count": 5,
     "metadata": {},
     "output_type": "execute_result"
    }
   ],
   "source": [
    "autoencoder.compile(loss='binary_crossentropy',\n",
    "              optimizer='adadelta',\n",
    "              metrics=['accuracy'])\n",
    "\n",
    "autoencoder.fit(x_train, x_train,\n",
    "                    batch_size=256,\n",
    "                    epochs=50,\n",
    "                    verbose=1,\n",
    "                    validation_data=(x_test,x_test))"
   ]
  },
  {
   "cell_type": "code",
   "execution_count": 6,
   "metadata": {},
   "outputs": [],
   "source": [
    "autoencoder_imgs = autoencoder.predict(x_test)\n",
    "encoder_imgs = encoder.predict(x_test)"
   ]
  },
  {
   "cell_type": "markdown",
   "metadata": {},
   "source": [
    "### 3. Affichage résultat final et intermédiaire "
   ]
  },
  {
   "cell_type": "code",
   "execution_count": 7,
   "metadata": {},
   "outputs": [
    {
     "data": {
      "image/png": "[encoded data removed]",
      "text/plain": [
       "<Figure size 1440x288 with 30 Axes>"
      ]
     },
     "metadata": {},
     "output_type": "display_data"
    }
   ],
   "source": [
    "\n",
    "import matplotlib.pyplot as plt\n",
    "\n",
    "n = 10  # how many digits we will display\n",
    "plt.figure(figsize=(20, 4))\n",
    "for i in range(n):\n",
    "    # display original\n",
    "    ax = plt.subplot(3, n, i + 1)\n",
    "    plt.imshow(x_test[i].reshape(28, 28))\n",
    "    plt.gray()\n",
    "    ax.get_xaxis().set_visible(False)\n",
    "    ax.get_yaxis().set_visible(False)\n",
    "\n",
    "    # display reconstruction\n",
    "    ax = plt.subplot(3, n, i + 1 + n)\n",
    "    plt.imshow(encoder_imgs[i].reshape(4, 8))\n",
    "    plt.gray()\n",
    "    ax.get_xaxis().set_visible(False)\n",
    "    ax.get_yaxis().set_visible(False)\n",
    "    \n",
    "    # display reconstruction\n",
    "    ax = plt.subplot(3, n, i + 1 + 2*n)\n",
    "    plt.imshow(autoencoder_imgs[i].reshape(28, 28))\n",
    "    plt.gray()\n",
    "    ax.get_xaxis().set_visible(False)\n",
    "    ax.get_yaxis().set_visible(False)\n",
    "plt.show()"
   ]
  },
  {
   "cell_type": "markdown",
   "metadata": {},
   "source": [
    "## III. Autoencoder avec Regularizers :"
   ]
  },
  {
   "cell_type": "markdown",
   "metadata": {},
   "source": [
    "### 1. Construction du modèle "
   ]
  },
  {
   "cell_type": "code",
   "execution_count": 8,
   "metadata": {},
   "outputs": [],
   "source": [
    "from keras import regularizers\n",
    "\n",
    "encoder = km.Sequential()\n",
    "encoder.add(kl.Dense(32, activation='relu',activity_regularizer=regularizers.l2(0), input_shape=(784,)))\n",
    "\n",
    "\n",
    "decoder = km.Sequential()\n",
    "decoder.add(kl.Dense(784, activation='sigmoid'))\n",
    "\n",
    "autoencoder = km.Sequential()\n",
    "autoencoder.add(encoder)\n",
    "autoencoder.add(decoder)"
   ]
  },
  {
   "cell_type": "markdown",
   "metadata": {},
   "source": [
    "### 2. Phase d'apprentissage"
   ]
  },
  {
   "cell_type": "code",
   "execution_count": 9,
   "metadata": {},
   "outputs": [
    {
     "name": "stdout",
     "output_type": "stream",
     "text": [
      "Train on 60000 samples, validate on 10000 samples\n",
      "Epoch 1/50\n",
      "60000/60000 [==============================] - 2s 32us/step - loss: 0.3558 - acc: 0.7550 - val_loss: 0.2710 - val_acc: 0.7944\n",
      "Epoch 2/50\n",
      "60000/60000 [==============================] - 2s 27us/step - loss: 0.2641 - acc: 0.7973 - val_loss: 0.2536 - val_acc: 0.7972\n",
      "Epoch 3/50\n",
      "60000/60000 [==============================] - 2s 31us/step - loss: 0.2432 - acc: 0.7974 - val_loss: 0.2305 - val_acc: 0.7960\n",
      "Epoch 4/50\n",
      "60000/60000 [==============================] - 2s 29us/step - loss: 0.2222 - acc: 0.7976 - val_loss: 0.2117 - val_acc: 0.7971\n",
      "Epoch 5/50\n",
      "60000/60000 [==============================] - 2s 32us/step - loss: 0.2064 - acc: 0.7987 - val_loss: 0.1987 - val_acc: 0.7993\n",
      "Epoch 6/50\n",
      "60000/60000 [==============================] - 2s 29us/step - loss: 0.1953 - acc: 0.7998 - val_loss: 0.1890 - val_acc: 0.7998\n",
      "Epoch 7/50\n",
      "60000/60000 [==============================] - 2s 31us/step - loss: 0.1866 - acc: 0.8010 - val_loss: 0.1812 - val_acc: 0.8011\n",
      "Epoch 8/50\n",
      "60000/60000 [==============================] - 2s 28us/step - loss: 0.1796 - acc: 0.8021 - val_loss: 0.1749 - val_acc: 0.8023\n",
      "Epoch 9/50\n",
      "60000/60000 [==============================] - 2s 32us/step - loss: 0.1737 - acc: 0.8031 - val_loss: 0.1695 - val_acc: 0.8032\n",
      "Epoch 10/50\n",
      "60000/60000 [==============================] - 2s 31us/step - loss: 0.1685 - acc: 0.8040 - val_loss: 0.1646 - val_acc: 0.8040\n",
      "Epoch 11/50\n",
      "60000/60000 [==============================] - 2s 29us/step - loss: 0.1638 - acc: 0.8048 - val_loss: 0.1600 - val_acc: 0.8047\n",
      "Epoch 12/50\n",
      "60000/60000 [==============================] - 2s 30us/step - loss: 0.1594 - acc: 0.8055 - val_loss: 0.1558 - val_acc: 0.8053\n",
      "Epoch 13/50\n",
      "60000/60000 [==============================] - 2s 31us/step - loss: 0.1554 - acc: 0.8062 - val_loss: 0.1519 - val_acc: 0.8060\n",
      "Epoch 14/50\n",
      "60000/60000 [==============================] - 2s 32us/step - loss: 0.1516 - acc: 0.8069 - val_loss: 0.1483 - val_acc: 0.8066\n",
      "Epoch 15/50\n",
      "60000/60000 [==============================] - 2s 28us/step - loss: 0.1482 - acc: 0.8074 - val_loss: 0.1451 - val_acc: 0.8073\n",
      "Epoch 16/50\n",
      "60000/60000 [==============================] - 2s 28us/step - loss: 0.1450 - acc: 0.8080 - val_loss: 0.1418 - val_acc: 0.8076\n",
      "Epoch 17/50\n",
      "60000/60000 [==============================] - 2s 33us/step - loss: 0.1420 - acc: 0.8085 - val_loss: 0.1390 - val_acc: 0.8080\n",
      "Epoch 18/50\n",
      "60000/60000 [==============================] - 2s 29us/step - loss: 0.1392 - acc: 0.8089 - val_loss: 0.1364 - val_acc: 0.8085\n",
      "Epoch 19/50\n",
      "60000/60000 [==============================] - 2s 27us/step - loss: 0.1366 - acc: 0.8093 - val_loss: 0.1339 - val_acc: 0.8089\n",
      "Epoch 20/50\n",
      "60000/60000 [==============================] - 2s 31us/step - loss: 0.1342 - acc: 0.8097 - val_loss: 0.1314 - val_acc: 0.8091\n",
      "Epoch 21/50\n",
      "60000/60000 [==============================] - 2s 30us/step - loss: 0.1319 - acc: 0.8100 - val_loss: 0.1293 - val_acc: 0.8095\n",
      "Epoch 22/50\n",
      "60000/60000 [==============================] - 2s 31us/step - loss: 0.1298 - acc: 0.8103 - val_loss: 0.1272 - val_acc: 0.8098\n",
      "Epoch 23/50\n",
      "60000/60000 [==============================] - 2s 30us/step - loss: 0.1277 - acc: 0.8106 - val_loss: 0.1251 - val_acc: 0.8101\n",
      "Epoch 24/50\n",
      "60000/60000 [==============================] - 2s 32us/step - loss: 0.1258 - acc: 0.8109 - val_loss: 0.1232 - val_acc: 0.8102\n",
      "Epoch 25/50\n",
      "60000/60000 [==============================] - 2s 30us/step - loss: 0.1239 - acc: 0.8112 - val_loss: 0.1214 - val_acc: 0.8105\n",
      "Epoch 26/50\n",
      "60000/60000 [==============================] - 2s 29us/step - loss: 0.1222 - acc: 0.8114 - val_loss: 0.1197 - val_acc: 0.8107\n",
      "Epoch 27/50\n",
      "60000/60000 [==============================] - 2s 29us/step - loss: 0.1205 - acc: 0.8116 - val_loss: 0.1180 - val_acc: 0.8108\n",
      "Epoch 28/50\n",
      "60000/60000 [==============================] - 2s 28us/step - loss: 0.1190 - acc: 0.8118 - val_loss: 0.1166 - val_acc: 0.8112\n",
      "Epoch 29/50\n",
      "60000/60000 [==============================] - 2s 29us/step - loss: 0.1175 - acc: 0.8120 - val_loss: 0.1152 - val_acc: 0.8112\n",
      "Epoch 30/50\n",
      "60000/60000 [==============================] - 2s 31us/step - loss: 0.1162 - acc: 0.8122 - val_loss: 0.1139 - val_acc: 0.8115\n",
      "Epoch 31/50\n",
      "60000/60000 [==============================] - 2s 30us/step - loss: 0.1149 - acc: 0.8123 - val_loss: 0.1126 - val_acc: 0.8115\n",
      "Epoch 32/50\n",
      "60000/60000 [==============================] - 2s 34us/step - loss: 0.1137 - acc: 0.8125 - val_loss: 0.1115 - val_acc: 0.8117\n",
      "Epoch 33/50\n",
      "60000/60000 [==============================] - 2s 32us/step - loss: 0.1127 - acc: 0.8126 - val_loss: 0.1105 - val_acc: 0.8119\n",
      "Epoch 34/50\n",
      "60000/60000 [==============================] - 2s 30us/step - loss: 0.1117 - acc: 0.8127 - val_loss: 0.1095 - val_acc: 0.8119\n",
      "Epoch 35/50\n",
      "60000/60000 [==============================] - 2s 29us/step - loss: 0.1107 - acc: 0.8128 - val_loss: 0.1086 - val_acc: 0.8120\n",
      "Epoch 36/50\n",
      "60000/60000 [==============================] - 2s 28us/step - loss: 0.1099 - acc: 0.8129 - val_loss: 0.1078 - val_acc: 0.8121\n",
      "Epoch 37/50\n",
      "60000/60000 [==============================] - 2s 36us/step - loss: 0.1091 - acc: 0.8130 - val_loss: 0.1070 - val_acc: 0.8122\n",
      "Epoch 38/50\n",
      "60000/60000 [==============================] - 3s 45us/step - loss: 0.1083 - acc: 0.8130 - val_loss: 0.1063 - val_acc: 0.8123\n",
      "Epoch 39/50\n",
      "60000/60000 [==============================] - 2s 30us/step - loss: 0.1077 - acc: 0.8131 - val_loss: 0.1056 - val_acc: 0.8123\n",
      "Epoch 40/50\n",
      "60000/60000 [==============================] - 2s 28us/step - loss: 0.1070 - acc: 0.8132 - val_loss: 0.1050 - val_acc: 0.8123\n",
      "Epoch 41/50\n",
      "60000/60000 [==============================] - 2s 35us/step - loss: 0.1064 - acc: 0.8132 - val_loss: 0.1045 - val_acc: 0.8123\n",
      "Epoch 42/50\n",
      "60000/60000 [==============================] - 2s 29us/step - loss: 0.1059 - acc: 0.8133 - val_loss: 0.1039 - val_acc: 0.8125\n",
      "Epoch 43/50\n",
      "60000/60000 [==============================] - 2s 30us/step - loss: 0.1053 - acc: 0.8133 - val_loss: 0.1034 - val_acc: 0.8124\n",
      "Epoch 44/50\n",
      "60000/60000 [==============================] - 2s 30us/step - loss: 0.1049 - acc: 0.8134 - val_loss: 0.1029 - val_acc: 0.8125\n",
      "Epoch 45/50\n",
      "60000/60000 [==============================] - 2s 28us/step - loss: 0.1044 - acc: 0.8134 - val_loss: 0.1025 - val_acc: 0.8126\n",
      "Epoch 46/50\n",
      "60000/60000 [==============================] - 2s 31us/step - loss: 0.1040 - acc: 0.8134 - val_loss: 0.1021 - val_acc: 0.8126\n",
      "Epoch 47/50\n",
      "60000/60000 [==============================] - 2s 32us/step - loss: 0.1036 - acc: 0.8135 - val_loss: 0.1017 - val_acc: 0.8126\n",
      "Epoch 48/50\n",
      "60000/60000 [==============================] - 2s 30us/step - loss: 0.1032 - acc: 0.8135 - val_loss: 0.1014 - val_acc: 0.8127\n",
      "Epoch 49/50\n",
      "60000/60000 [==============================] - 2s 29us/step - loss: 0.1028 - acc: 0.8135 - val_loss: 0.1010 - val_acc: 0.8127\n",
      "Epoch 50/50\n",
      "60000/60000 [==============================] - 2s 29us/step - loss: 0.1025 - acc: 0.8135 - val_loss: 0.1007 - val_acc: 0.8127\n"
     ]
    },
    {
     "data": {
      "text/plain": [
       "<keras.callbacks.History at 0x11b80bcf8>"
      ]
     },
     "execution_count": 9,
     "metadata": {},
     "output_type": "execute_result"
    }
   ],
   "source": [
    "autoencoder.compile(loss='binary_crossentropy',\n",
    "              optimizer='adadelta',\n",
    "              metrics=['accuracy'])\n",
    "autoencoder.fit(x_train, x_train,\n",
    "                    batch_size=256,\n",
    "                    epochs=50,\n",
    "                    verbose=1,\n",
    "                    validation_data=(x_test,x_test))"
   ]
  },
  {
   "cell_type": "code",
   "execution_count": 10,
   "metadata": {},
   "outputs": [],
   "source": [
    "autoencoder_imgs = autoencoder.predict(x_test)\n",
    "encoder_Sparse_imgs = encoder.predict(x_test)"
   ]
  },
  {
   "cell_type": "markdown",
   "metadata": {},
   "source": [
    "### 3. Affichage résultat final : "
   ]
  },
  {
   "cell_type": "code",
   "execution_count": 11,
   "metadata": {},
   "outputs": [
    {
     "data": {
      "image/png": "[encoded data removed]",
      "text/plain": [
       "<Figure size 1440x288 with 30 Axes>"
      ]
     },
     "metadata": {},
     "output_type": "display_data"
    }
   ],
   "source": [
    "\n",
    "import matplotlib.pyplot as plt\n",
    "\n",
    "n = 10  # how many digits we will display\n",
    "plt.figure(figsize=(20, 4))\n",
    "for i in range(n):\n",
    "    # display original\n",
    "    ax = plt.subplot(3, n, i + 1)\n",
    "    plt.imshow(x_test[i].reshape(28, 28))\n",
    "    plt.gray()\n",
    "    ax.get_xaxis().set_visible(False)\n",
    "    ax.get_yaxis().set_visible(False)\n",
    "\n",
    "    # display reconstruction\n",
    "    ax = plt.subplot(3, n, i + 1 + n)\n",
    "    plt.imshow(encoder_Sparse_imgs[i].reshape(4, 8))\n",
    "    plt.gray()\n",
    "    ax.get_xaxis().set_visible(False)\n",
    "    ax.get_yaxis().set_visible(False)\n",
    "    \n",
    "    # display reconstruction\n",
    "    ax = plt.subplot(3, n, i + 1 + 2*n)\n",
    "    plt.imshow(autoencoder_imgs[i].reshape(28, 28))\n",
    "    plt.gray()\n",
    "    ax.get_xaxis().set_visible(False)\n",
    "    ax.get_yaxis().set_visible(False)\n",
    "plt.show()"
   ]
  },
  {
   "cell_type": "markdown",
   "metadata": {},
   "source": [
    "### 4. Affichage et comparaison résultat intermédiaire :"
   ]
  },
  {
   "cell_type": "code",
   "execution_count": 15,
   "metadata": {},
   "outputs": [
    {
     "data": {
      "image/png": "[encoded data removed]",
      "text/plain": [
       "<Figure size 1440x288 with 30 Axes>"
      ]
     },
     "metadata": {},
     "output_type": "display_data"
    }
   ],
   "source": [
    "import matplotlib.pyplot as plt\n",
    "\n",
    "n = 10  # how many digits we will display\n",
    "plt.figure(figsize=(20, 4))\n",
    "for i in range(n):\n",
    "    # display original\n",
    "    ax = plt.subplot(3, n, i + 1)\n",
    "    plt.imshow(x_test[i].reshape(28, 28))\n",
    "    plt.gray()\n",
    "    ax.get_xaxis().set_visible(False)\n",
    "    ax.get_yaxis().set_visible(False)\n",
    "\n",
    "    # display reconstruction\n",
    "    ax = plt.subplot(3, n, i + 1 + n)\n",
    "    plt.imshow(encoder_imgs[i].reshape(4, 8))\n",
    "    plt.gray()\n",
    "    ax.get_xaxis().set_visible(False)\n",
    "    ax.get_yaxis().set_visible(False)\n",
    "    \n",
    "    # display reconstruction\n",
    "    ax = plt.subplot(3, n, i + 1 + 2*n)\n",
    "    plt.imshow(encoder_Sparse_imgs[i].reshape(4, 8))\n",
    "    plt.gray()\n",
    "    ax.get_xaxis().set_visible(False)\n",
    "    ax.get_yaxis().set_visible(False)\n",
    "    \n",
    "plt.show()"
   ]
  },
  {
   "cell_type": "code",
   "execution_count": 19,
   "metadata": {},
   "outputs": [
    {
     "data": {
      "image/png": "[encoded data removed]",
      "text/plain": [
       "<Figure size 432x288 with 1 Axes>"
      ]
     },
     "metadata": {},
     "output_type": "display_data"
    },
    {
     "data": {
      "text/plain": [
       "(array([7.001e+03, 0.000e+00, 2.361e+03, 0.000e+00, 5.140e+02, 0.000e+00,\n",
       "        9.400e+01, 0.000e+00, 2.700e+01, 3.000e+00]),\n",
       " array([0. , 0.5, 1. , 1.5, 2. , 2.5, 3. , 3.5, 4. , 4.5, 5. ]),\n",
       " <a list of 10 Patch objects>)"
      ]
     },
     "execution_count": 19,
     "metadata": {},
     "output_type": "execute_result"
    },
    {
     "data": {
      "image/png": "[encoded data removed]",
      "text/plain": [
       "<Figure size 432x288 with 1 Axes>"
      ]
     },
     "metadata": {},
     "output_type": "display_data"
    }
   ],
   "source": [
    "plt.hist(np.sum(encoder_Sparse_imgs==0,axis=1))\n",
    "plt.show()\n",
    "plt.hist(np.sum(encoder_imgs==0,axis=1))"
   ]
  },
  {
   "cell_type": "markdown",
   "metadata": {},
   "source": [
    "## IV. Autoencoder avec réseaux de convolution "
   ]
  },
  {
   "cell_type": "markdown",
   "metadata": {},
   "source": [
    "### 1. Chargement et traitement de données "
   ]
  },
  {
   "cell_type": "code",
   "execution_count": 18,
   "metadata": {},
   "outputs": [],
   "source": [
    "from keras.datasets import mnist\n",
    "import numpy as np\n",
    "\n",
    "(x_train, _), (x_test, _) = mnist.load_data()\n",
    "\n",
    "x_train = x_train.astype('float32') / 255.\n",
    "x_test = x_test.astype('float32') / 255.\n",
    "x_train = np.reshape(x_train, (len(x_train), 28, 28, 1))  # adapt this if using `channels_first` image data format\n",
    "x_test = np.reshape(x_test, (len(x_test), 28, 28, 1))  # adapt this if using `channels_first` image data format"
   ]
  },
  {
   "cell_type": "markdown",
   "metadata": {},
   "source": [
    "### 2. Construction des données "
   ]
  },
  {
   "cell_type": "code",
   "execution_count": 17,
   "metadata": {},
   "outputs": [],
   "source": [
    "from keras import regularizers\n",
    "from keras.layers import Input, Dense, Conv2D, MaxPooling2D, UpSampling2D\n",
    "\n",
    "encoder = km.Sequential()\n",
    "encoder.add(Conv2D(16, kernel_size=(3, 3), input_shape=(28,28,1) ,activation='relu', padding='same'))\n",
    "encoder.add(MaxPooling2D((2, 2), padding='same'))\n",
    "encoder.add(Conv2D(8, (3, 3), activation='relu', padding='same'))\n",
    "encoder.add(MaxPooling2D((2, 2), padding='same'))\n",
    "encoder.add(Conv2D(8, (3, 3), activation='relu', padding='same'))\n",
    "encoder.add(MaxPooling2D((2, 2), padding='same'))\n",
    "\n",
    "decoder = km.Sequential()\n",
    "decoder.add(Conv2D(8, (3, 3), activation='relu', padding='same'))\n",
    "decoder.add(UpSampling2D((2, 2)))\n",
    "decoder.add(Conv2D(8, (3, 3), activation='relu', padding='same'))\n",
    "decoder.add(UpSampling2D((2, 2)))\n",
    "decoder.add(Conv2D(16, (3, 3), activation='relu'))\n",
    "decoder.add(UpSampling2D((2, 2)))\n",
    "decoder.add(Conv2D(1, (3, 3), activation='sigmoid', padding='same'))\n",
    "\n",
    "\n",
    "autoencoder = km.Sequential()\n",
    "autoencoder.add(encoder)\n",
    "autoencoder.add(decoder)"
   ]
  },
  {
   "cell_type": "markdown",
   "metadata": {},
   "source": [
    "### 3. Phase d'apprentissage"
   ]
  },
  {
   "cell_type": "code",
   "execution_count": 19,
   "metadata": {},
   "outputs": [
    {
     "name": "stdout",
     "output_type": "stream",
     "text": [
      "Train on 60000 samples, validate on 10000 samples\n",
      "Epoch 1/50\n",
      "60000/60000 [==============================] - 45s 743us/step - loss: 0.2214 - acc: 0.7940 - val_loss: 0.1732 - val_acc: 0.8006\n",
      "Epoch 2/50\n",
      "60000/60000 [==============================] - 42s 707us/step - loss: 0.1597 - acc: 0.7979 - val_loss: 0.1607 - val_acc: 0.7901\n",
      "Epoch 3/50\n",
      "60000/60000 [==============================] - 43s 709us/step - loss: 0.1452 - acc: 0.8013 - val_loss: 0.1370 - val_acc: 0.8046\n",
      "Epoch 4/50\n",
      "60000/60000 [==============================] - 40s 671us/step - loss: 0.1371 - acc: 0.8035 - val_loss: 0.1323 - val_acc: 0.8016\n",
      "Epoch 5/50\n",
      "60000/60000 [==============================] - 39s 652us/step - loss: 0.1316 - acc: 0.8050 - val_loss: 0.1252 - val_acc: 0.8051\n",
      "Epoch 6/50\n",
      "  128/60000 [..............................] - ETA: 47s - loss: 0.1223 - acc: 0.8125"
     ]
    },
    {
     "ename": "KeyboardInterrupt",
     "evalue": "",
     "output_type": "error",
     "traceback": [
      "\u001b[0;31m---------------------------------------------------------------------------\u001b[0m",
      "\u001b[0;31mKeyboardInterrupt\u001b[0m                         Traceback (most recent call last)",
      "\u001b[0;32m<ipython-input-19-801eddae0fb4>\u001b[0m in \u001b[0;36m<module>\u001b[0;34m()\u001b[0m\n\u001b[1;32m      6\u001b[0m                     \u001b[0mepochs\u001b[0m\u001b[0;34m=\u001b[0m\u001b[0;36m50\u001b[0m\u001b[0;34m,\u001b[0m\u001b[0;34m\u001b[0m\u001b[0m\n\u001b[1;32m      7\u001b[0m                     \u001b[0mverbose\u001b[0m\u001b[0;34m=\u001b[0m\u001b[0;36m1\u001b[0m\u001b[0;34m,\u001b[0m\u001b[0;34m\u001b[0m\u001b[0m\n\u001b[0;32m----> 8\u001b[0;31m                     validation_data=(x_test,x_test))\n\u001b[0m",
      "\u001b[0;32m/anaconda3/lib/python3.6/site-packages/keras/engine/training.py\u001b[0m in \u001b[0;36mfit\u001b[0;34m(self, x, y, batch_size, epochs, verbose, callbacks, validation_split, validation_data, shuffle, class_weight, sample_weight, initial_epoch, steps_per_epoch, validation_steps, **kwargs)\u001b[0m\n\u001b[1;32m   1037\u001b[0m                                         \u001b[0minitial_epoch\u001b[0m\u001b[0;34m=\u001b[0m\u001b[0minitial_epoch\u001b[0m\u001b[0;34m,\u001b[0m\u001b[0;34m\u001b[0m\u001b[0m\n\u001b[1;32m   1038\u001b[0m                                         \u001b[0msteps_per_epoch\u001b[0m\u001b[0;34m=\u001b[0m\u001b[0msteps_per_epoch\u001b[0m\u001b[0;34m,\u001b[0m\u001b[0;34m\u001b[0m\u001b[0m\n\u001b[0;32m-> 1039\u001b[0;31m                                         validation_steps=validation_steps)\n\u001b[0m\u001b[1;32m   1040\u001b[0m \u001b[0;34m\u001b[0m\u001b[0m\n\u001b[1;32m   1041\u001b[0m     def evaluate(self, x=None, y=None,\n",
      "\u001b[0;32m/anaconda3/lib/python3.6/site-packages/keras/engine/training_arrays.py\u001b[0m in \u001b[0;36mfit_loop\u001b[0;34m(model, f, ins, out_labels, batch_size, epochs, verbose, callbacks, val_f, val_ins, shuffle, callback_metrics, initial_epoch, steps_per_epoch, validation_steps)\u001b[0m\n\u001b[1;32m    197\u001b[0m                     \u001b[0mins_batch\u001b[0m\u001b[0;34m[\u001b[0m\u001b[0mi\u001b[0m\u001b[0;34m]\u001b[0m \u001b[0;34m=\u001b[0m \u001b[0mins_batch\u001b[0m\u001b[0;34m[\u001b[0m\u001b[0mi\u001b[0m\u001b[0;34m]\u001b[0m\u001b[0;34m.\u001b[0m\u001b[0mtoarray\u001b[0m\u001b[0;34m(\u001b[0m\u001b[0;34m)\u001b[0m\u001b[0;34m\u001b[0m\u001b[0m\n\u001b[1;32m    198\u001b[0m \u001b[0;34m\u001b[0m\u001b[0m\n\u001b[0;32m--> 199\u001b[0;31m                 \u001b[0mouts\u001b[0m \u001b[0;34m=\u001b[0m \u001b[0mf\u001b[0m\u001b[0;34m(\u001b[0m\u001b[0mins_batch\u001b[0m\u001b[0;34m)\u001b[0m\u001b[0;34m\u001b[0m\u001b[0m\n\u001b[0m\u001b[1;32m    200\u001b[0m                 \u001b[0mouts\u001b[0m \u001b[0;34m=\u001b[0m \u001b[0mto_list\u001b[0m\u001b[0;34m(\u001b[0m\u001b[0mouts\u001b[0m\u001b[0;34m)\u001b[0m\u001b[0;34m\u001b[0m\u001b[0m\n\u001b[1;32m    201\u001b[0m                 \u001b[0;32mfor\u001b[0m \u001b[0ml\u001b[0m\u001b[0;34m,\u001b[0m \u001b[0mo\u001b[0m \u001b[0;32min\u001b[0m \u001b[0mzip\u001b[0m\u001b[0;34m(\u001b[0m\u001b[0mout_labels\u001b[0m\u001b[0;34m,\u001b[0m \u001b[0mouts\u001b[0m\u001b[0;34m)\u001b[0m\u001b[0;34m:\u001b[0m\u001b[0;34m\u001b[0m\u001b[0m\n",
      "\u001b[0;32m/anaconda3/lib/python3.6/site-packages/keras/backend/tensorflow_backend.py\u001b[0m in \u001b[0;36m__call__\u001b[0;34m(self, inputs)\u001b[0m\n\u001b[1;32m   2713\u001b[0m                 \u001b[0;32mreturn\u001b[0m \u001b[0mself\u001b[0m\u001b[0;34m.\u001b[0m\u001b[0m_legacy_call\u001b[0m\u001b[0;34m(\u001b[0m\u001b[0minputs\u001b[0m\u001b[0;34m)\u001b[0m\u001b[0;34m\u001b[0m\u001b[0m\n\u001b[1;32m   2714\u001b[0m \u001b[0;34m\u001b[0m\u001b[0m\n\u001b[0;32m-> 2715\u001b[0;31m             \u001b[0;32mreturn\u001b[0m \u001b[0mself\u001b[0m\u001b[0;34m.\u001b[0m\u001b[0m_call\u001b[0m\u001b[0;34m(\u001b[0m\u001b[0minputs\u001b[0m\u001b[0;34m)\u001b[0m\u001b[0;34m\u001b[0m\u001b[0m\n\u001b[0m\u001b[1;32m   2716\u001b[0m         \u001b[0;32melse\u001b[0m\u001b[0;34m:\u001b[0m\u001b[0;34m\u001b[0m\u001b[0m\n\u001b[1;32m   2717\u001b[0m             \u001b[0;32mif\u001b[0m \u001b[0mpy_any\u001b[0m\u001b[0;34m(\u001b[0m\u001b[0mis_tensor\u001b[0m\u001b[0;34m(\u001b[0m\u001b[0mx\u001b[0m\u001b[0;34m)\u001b[0m \u001b[0;32mfor\u001b[0m \u001b[0mx\u001b[0m \u001b[0;32min\u001b[0m \u001b[0minputs\u001b[0m\u001b[0;34m)\u001b[0m\u001b[0;34m:\u001b[0m\u001b[0;34m\u001b[0m\u001b[0m\n",
      "\u001b[0;32m/anaconda3/lib/python3.6/site-packages/keras/backend/tensorflow_backend.py\u001b[0m in \u001b[0;36m_call\u001b[0;34m(self, inputs)\u001b[0m\n\u001b[1;32m   2673\u001b[0m             \u001b[0mfetched\u001b[0m \u001b[0;34m=\u001b[0m \u001b[0mself\u001b[0m\u001b[0;34m.\u001b[0m\u001b[0m_callable_fn\u001b[0m\u001b[0;34m(\u001b[0m\u001b[0;34m*\u001b[0m\u001b[0marray_vals\u001b[0m\u001b[0;34m,\u001b[0m \u001b[0mrun_metadata\u001b[0m\u001b[0;34m=\u001b[0m\u001b[0mself\u001b[0m\u001b[0;34m.\u001b[0m\u001b[0mrun_metadata\u001b[0m\u001b[0;34m)\u001b[0m\u001b[0;34m\u001b[0m\u001b[0m\n\u001b[1;32m   2674\u001b[0m         \u001b[0;32melse\u001b[0m\u001b[0;34m:\u001b[0m\u001b[0;34m\u001b[0m\u001b[0m\n\u001b[0;32m-> 2675\u001b[0;31m             \u001b[0mfetched\u001b[0m \u001b[0;34m=\u001b[0m \u001b[0mself\u001b[0m\u001b[0;34m.\u001b[0m\u001b[0m_callable_fn\u001b[0m\u001b[0;34m(\u001b[0m\u001b[0;34m*\u001b[0m\u001b[0marray_vals\u001b[0m\u001b[0;34m)\u001b[0m\u001b[0;34m\u001b[0m\u001b[0m\n\u001b[0m\u001b[1;32m   2676\u001b[0m         \u001b[0;32mreturn\u001b[0m \u001b[0mfetched\u001b[0m\u001b[0;34m[\u001b[0m\u001b[0;34m:\u001b[0m\u001b[0mlen\u001b[0m\u001b[0;34m(\u001b[0m\u001b[0mself\u001b[0m\u001b[0;34m.\u001b[0m\u001b[0moutputs\u001b[0m\u001b[0;34m)\u001b[0m\u001b[0;34m]\u001b[0m\u001b[0;34m\u001b[0m\u001b[0m\n\u001b[1;32m   2677\u001b[0m \u001b[0;34m\u001b[0m\u001b[0m\n",
      "\u001b[0;32m/anaconda3/lib/python3.6/site-packages/tensorflow/python/client/session.py\u001b[0m in \u001b[0;36m__call__\u001b[0;34m(self, *args, **kwargs)\u001b[0m\n\u001b[1;32m   1437\u001b[0m           ret = tf_session.TF_SessionRunCallable(\n\u001b[1;32m   1438\u001b[0m               \u001b[0mself\u001b[0m\u001b[0;34m.\u001b[0m\u001b[0m_session\u001b[0m\u001b[0;34m.\u001b[0m\u001b[0m_session\u001b[0m\u001b[0;34m,\u001b[0m \u001b[0mself\u001b[0m\u001b[0;34m.\u001b[0m\u001b[0m_handle\u001b[0m\u001b[0;34m,\u001b[0m \u001b[0margs\u001b[0m\u001b[0;34m,\u001b[0m \u001b[0mstatus\u001b[0m\u001b[0;34m,\u001b[0m\u001b[0;34m\u001b[0m\u001b[0m\n\u001b[0;32m-> 1439\u001b[0;31m               run_metadata_ptr)\n\u001b[0m\u001b[1;32m   1440\u001b[0m         \u001b[0;32mif\u001b[0m \u001b[0mrun_metadata\u001b[0m\u001b[0;34m:\u001b[0m\u001b[0;34m\u001b[0m\u001b[0m\n\u001b[1;32m   1441\u001b[0m           \u001b[0mproto_data\u001b[0m \u001b[0;34m=\u001b[0m \u001b[0mtf_session\u001b[0m\u001b[0;34m.\u001b[0m\u001b[0mTF_GetBuffer\u001b[0m\u001b[0;34m(\u001b[0m\u001b[0mrun_metadata_ptr\u001b[0m\u001b[0;34m)\u001b[0m\u001b[0;34m\u001b[0m\u001b[0m\n",
      "\u001b[0;31mKeyboardInterrupt\u001b[0m: "
     ]
    }
   ],
   "source": [
    "autoencoder.compile(loss='binary_crossentropy',\n",
    "              optimizer='adadelta',\n",
    "              metrics=['accuracy'])\n",
    "autoencoder.fit(x_train, x_train,\n",
    "                    batch_size=128,\n",
    "                    epochs=50,\n",
    "                    verbose=1,\n",
    "                    validation_data=(x_test,x_test))"
   ]
  },
  {
   "cell_type": "code",
   "execution_count": null,
   "metadata": {},
   "outputs": [],
   "source": [
    "autoencoder_imgs = autoencoder.predict(x_test)\n",
    "encoder_imgs = encoder.predict(x_test)"
   ]
  },
  {
   "cell_type": "markdown",
   "metadata": {},
   "source": [
    "### 4. Affichage résultat final "
   ]
  },
  {
   "cell_type": "code",
   "execution_count": null,
   "metadata": {},
   "outputs": [],
   "source": [
    "import matplotlib.pyplot as plt\n",
    "\n",
    "n = 10  # how many digits we will display\n",
    "plt.figure(figsize=(20, 4))\n",
    "for i in range(n):\n",
    "    # display original\n",
    "    ax = plt.subplot(2, n, i + 1)\n",
    "    plt.imshow(x_test[i].reshape(28, 28))\n",
    "    plt.gray()\n",
    "    ax.get_xaxis().set_visible(False)\n",
    "    ax.get_yaxis().set_visible(False)\n",
    "\n",
    "    # display reconstruction\n",
    "    ax = plt.subplot(2, n, i + 1 + n)\n",
    "    plt.imshow(autoencoder_imgs[i].reshape(28, 28))\n",
    "    plt.gray()\n",
    "    ax.get_xaxis().set_visible(False)\n",
    "    ax.get_yaxis().set_visible(False)\n",
    "plt.show()"
   ]
  },
  {
   "cell_type": "markdown",
   "metadata": {},
   "source": [
    "### 5. Affichage résultat intermédiaire "
   ]
  },
  {
   "cell_type": "code",
   "execution_count": 22,
   "metadata": {},
   "outputs": [],
   "source": [
    "#### \n",
    "### AFFICHAGE RÉSULTATS INTERMÉDIAIRES SORTIES ENCODER###"
   ]
  },
  {
   "cell_type": "code",
   "execution_count": null,
   "metadata": {},
   "outputs": [],
   "source": []
  }
 ],
 "metadata": {
  "kernelspec": {
   "display_name": "Python 3",
   "language": "python",
   "name": "python3"
  },
  "language_info": {
   "codemirror_mode": {
    "name": "ipython",
    "version": 3
   },
   "file_extension": ".py",
   "mimetype": "text/x-python",
   "name": "python",
   "nbconvert_exporter": "python",
   "pygments_lexer": "ipython3",
   "version": "3.6.5"
  }
 },
 "nbformat": 4,
 "nbformat_minor": 2
}
