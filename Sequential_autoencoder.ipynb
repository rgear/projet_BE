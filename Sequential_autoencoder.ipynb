{
 "cells": [
  {
   "cell_type": "code",
   "execution_count": 7,
   "metadata": {},
   "outputs": [
    {
     "name": "stdout",
     "output_type": "stream",
     "text": [
      "3.6.5 |Anaconda custom (64-bit)| (default, Apr 29 2018, 16:14:56) \n",
      "[GCC 7.2.0]\n",
      "[name: \"/device:CPU:0\"\n",
      "device_type: \"CPU\"\n",
      "memory_limit: 268435456\n",
      "locality {\n",
      "}\n",
      "incarnation: 10822148989512369691\n",
      ", name: \"/device:GPU:0\"\n",
      "device_type: \"GPU\"\n",
      "memory_limit: 371458048\n",
      "locality {\n",
      "  bus_id: 1\n",
      "  links {\n",
      "  }\n",
      "}\n",
      "incarnation: 38885363955905887\n",
      "physical_device_desc: \"device: 0, name: GeForce GTX 1080 Ti, pci bus id: 0000:65:00.0, compute capability: 6.1\"\n",
      "]\n"
     ]
    }
   ],
   "source": [
    "%matplotlib inline \n",
    "import matplotlib.pyplot as plt\n",
    "import seaborn as sb\n",
    "sb.set()\n",
    "\n",
    "import pandas as pd\n",
    "import numpy as np\n",
    "import time\n",
    "\n",
    "import keras.utils as ku\n",
    "import keras.models as km\n",
    "import keras.layers as kl\n",
    "import keras.optimizers as ko\n",
    "\n",
    "from sklearn.metrics import confusion_matrix\n",
    "\n",
    "# Paramètres\n",
    "batch_size = 128\n",
    "epochs = 10\n",
    "# Vocabulary\n",
    "# One epoch is when an ENTIRE dataset is passed forward and backward through neural network only once\n",
    "# Batch_size : total number of training examples present in a single batch. \n",
    "# Batch_size : defines the number of samples to work through before updating the internal model parameters\n",
    "# Batch_size : is the number of samples processed before the model is updated. \n",
    "\n",
    "\n",
    "\n",
    "import sys\n",
    "print(sys.version)\n",
    "from tensorflow.python.client import device_lib\n",
    "print(device_lib.list_local_devices())"
   ]
  },
  {
   "cell_type": "markdown",
   "metadata": {},
   "source": [
    "## I. Chargement des données "
   ]
  },
  {
   "cell_type": "code",
   "execution_count": 8,
   "metadata": {},
   "outputs": [],
   "source": [
    "from keras.datasets import mnist\n",
    "import numpy as np\n",
    "(x_train, _), (x_test, _) = mnist.load_data()"
   ]
  },
  {
   "cell_type": "code",
   "execution_count": 9,
   "metadata": {},
   "outputs": [],
   "source": [
    "x_train = x_train.astype('float32') / 255. # Pour normaliser toutes les valeurs \n",
    "x_test = x_test.astype('float32') / 255.# Pour normaliser toutes les valeurs \n",
    "x_train = x_train.reshape((len(x_train), np.prod(x_train.shape[1:])))\n",
    "x_test = x_test.reshape((len(x_test), np.prod(x_test.shape[1:])))"
   ]
  },
  {
   "cell_type": "markdown",
   "metadata": {},
   "source": [
    "## II. Autoencoder simple couche "
   ]
  },
  {
   "cell_type": "markdown",
   "metadata": {},
   "source": [
    "### 1. Construction du modèle "
   ]
  },
  {
   "cell_type": "code",
   "execution_count": 10,
   "metadata": {},
   "outputs": [],
   "source": [
    "encoder = km.Sequential()\n",
    "encoder.add(kl.Dense(32, activation='relu', input_shape=(784,)))\n",
    "\n",
    "decoder = km.Sequential()\n",
    "decoder.add(kl.Dense(784, activation='sigmoid'))\n",
    "\n",
    "autoencoder = km.Sequential()\n",
    "autoencoder.add(encoder)\n",
    "autoencoder.add(decoder)"
   ]
  },
  {
   "cell_type": "markdown",
   "metadata": {},
   "source": [
    "### 2. Phase d'apprentissage "
   ]
  },
  {
   "cell_type": "code",
   "execution_count": 11,
   "metadata": {},
   "outputs": [
    {
     "name": "stdout",
     "output_type": "stream",
     "text": [
      "Train on 60000 samples, validate on 10000 samples\n",
      "Epoch 1/50\n",
      "60000/60000 [==============================] - 2s 27us/step - loss: 0.3577 - acc: 0.7537 - val_loss: 0.2702 - val_acc: 0.7955\n",
      "Epoch 2/50\n",
      "60000/60000 [==============================] - 1s 19us/step - loss: 0.2622 - acc: 0.7978 - val_loss: 0.2506 - val_acc: 0.7973\n",
      "Epoch 3/50\n",
      "60000/60000 [==============================] - 1s 18us/step - loss: 0.2395 - acc: 0.7978 - val_loss: 0.2264 - val_acc: 0.7970\n",
      "Epoch 4/50\n",
      "60000/60000 [==============================] - 1s 18us/step - loss: 0.2186 - acc: 0.7979 - val_loss: 0.2089 - val_acc: 0.7981\n",
      "Epoch 5/50\n",
      "60000/60000 [==============================] - 1s 18us/step - loss: 0.2042 - acc: 0.7987 - val_loss: 0.1971 - val_acc: 0.7989\n",
      "Epoch 6/50\n",
      "60000/60000 [==============================] - 1s 18us/step - loss: 0.1940 - acc: 0.7998 - val_loss: 0.1882 - val_acc: 0.7998\n",
      "Epoch 7/50\n",
      "60000/60000 [==============================] - 1s 19us/step - loss: 0.1860 - acc: 0.8009 - val_loss: 0.1811 - val_acc: 0.8014\n",
      "Epoch 8/50\n",
      "60000/60000 [==============================] - 1s 19us/step - loss: 0.1793 - acc: 0.8020 - val_loss: 0.1750 - val_acc: 0.8024\n",
      "Epoch 9/50\n",
      "60000/60000 [==============================] - 1s 20us/step - loss: 0.1736 - acc: 0.8030 - val_loss: 0.1696 - val_acc: 0.8030\n",
      "Epoch 10/50\n",
      "60000/60000 [==============================] - 1s 19us/step - loss: 0.1685 - acc: 0.8039 - val_loss: 0.1650 - val_acc: 0.8040\n",
      "Epoch 11/50\n",
      "60000/60000 [==============================] - 1s 17us/step - loss: 0.1640 - acc: 0.8047 - val_loss: 0.1606 - val_acc: 0.8048\n",
      "Epoch 12/50\n",
      "60000/60000 [==============================] - 1s 19us/step - loss: 0.1598 - acc: 0.8055 - val_loss: 0.1564 - val_acc: 0.8054\n",
      "Epoch 13/50\n",
      "60000/60000 [==============================] - 1s 18us/step - loss: 0.1558 - acc: 0.8062 - val_loss: 0.1527 - val_acc: 0.8062\n",
      "Epoch 14/50\n",
      "60000/60000 [==============================] - 1s 19us/step - loss: 0.1521 - acc: 0.8068 - val_loss: 0.1490 - val_acc: 0.8063\n",
      "Epoch 15/50\n",
      "60000/60000 [==============================] - 1s 19us/step - loss: 0.1487 - acc: 0.8074 - val_loss: 0.1458 - val_acc: 0.8071\n",
      "Epoch 16/50\n",
      "60000/60000 [==============================] - 1s 20us/step - loss: 0.1456 - acc: 0.8079 - val_loss: 0.1428 - val_acc: 0.8076\n",
      "Epoch 17/50\n",
      "60000/60000 [==============================] - 1s 18us/step - loss: 0.1427 - acc: 0.8084 - val_loss: 0.1400 - val_acc: 0.8081\n",
      "Epoch 18/50\n",
      "60000/60000 [==============================] - 1s 19us/step - loss: 0.1401 - acc: 0.8088 - val_loss: 0.1374 - val_acc: 0.8083\n",
      "Epoch 19/50\n",
      "60000/60000 [==============================] - 1s 21us/step - loss: 0.1377 - acc: 0.8091 - val_loss: 0.1350 - val_acc: 0.8086\n",
      "Epoch 20/50\n",
      "60000/60000 [==============================] - 1s 20us/step - loss: 0.1354 - acc: 0.8095 - val_loss: 0.1329 - val_acc: 0.8091\n",
      "Epoch 21/50\n",
      "60000/60000 [==============================] - 1s 19us/step - loss: 0.1333 - acc: 0.8098 - val_loss: 0.1308 - val_acc: 0.8092\n",
      "Epoch 22/50\n",
      "60000/60000 [==============================] - 1s 19us/step - loss: 0.1313 - acc: 0.8101 - val_loss: 0.1290 - val_acc: 0.8097\n",
      "Epoch 23/50\n",
      "60000/60000 [==============================] - 1s 19us/step - loss: 0.1294 - acc: 0.8104 - val_loss: 0.1270 - val_acc: 0.8097\n",
      "Epoch 24/50\n",
      "60000/60000 [==============================] - 1s 20us/step - loss: 0.1276 - acc: 0.8106 - val_loss: 0.1253 - val_acc: 0.8101\n",
      "Epoch 25/50\n",
      "60000/60000 [==============================] - 1s 19us/step - loss: 0.1259 - acc: 0.8109 - val_loss: 0.1236 - val_acc: 0.8103\n",
      "Epoch 26/50\n",
      "60000/60000 [==============================] - 1s 19us/step - loss: 0.1243 - acc: 0.8111 - val_loss: 0.1220 - val_acc: 0.8104\n",
      "Epoch 27/50\n",
      "60000/60000 [==============================] - 1s 20us/step - loss: 0.1228 - acc: 0.8113 - val_loss: 0.1205 - val_acc: 0.8106\n",
      "Epoch 28/50\n",
      "60000/60000 [==============================] - 1s 21us/step - loss: 0.1213 - acc: 0.8115 - val_loss: 0.1191 - val_acc: 0.8108\n",
      "Epoch 29/50\n",
      "60000/60000 [==============================] - 1s 20us/step - loss: 0.1199 - acc: 0.8117 - val_loss: 0.1177 - val_acc: 0.8109\n",
      "Epoch 30/50\n",
      "60000/60000 [==============================] - 1s 20us/step - loss: 0.1186 - acc: 0.8118 - val_loss: 0.1165 - val_acc: 0.8112\n",
      "Epoch 31/50\n",
      "60000/60000 [==============================] - 1s 19us/step - loss: 0.1174 - acc: 0.8120 - val_loss: 0.1153 - val_acc: 0.8112\n",
      "Epoch 32/50\n",
      "60000/60000 [==============================] - 1s 19us/step - loss: 0.1162 - acc: 0.8121 - val_loss: 0.1141 - val_acc: 0.8114\n",
      "Epoch 33/50\n",
      "60000/60000 [==============================] - 1s 20us/step - loss: 0.1151 - acc: 0.8123 - val_loss: 0.1131 - val_acc: 0.8116\n",
      "Epoch 34/50\n",
      "60000/60000 [==============================] - 1s 20us/step - loss: 0.1141 - acc: 0.8124 - val_loss: 0.1121 - val_acc: 0.8116\n",
      "Epoch 35/50\n",
      "60000/60000 [==============================] - 1s 19us/step - loss: 0.1132 - acc: 0.8125 - val_loss: 0.1112 - val_acc: 0.8117\n",
      "Epoch 36/50\n",
      "60000/60000 [==============================] - 1s 20us/step - loss: 0.1123 - acc: 0.8126 - val_loss: 0.1103 - val_acc: 0.8118\n",
      "Epoch 37/50\n",
      "60000/60000 [==============================] - 1s 20us/step - loss: 0.1114 - acc: 0.8127 - val_loss: 0.1095 - val_acc: 0.8119\n",
      "Epoch 38/50\n",
      "60000/60000 [==============================] - 1s 20us/step - loss: 0.1106 - acc: 0.8128 - val_loss: 0.1087 - val_acc: 0.8120\n",
      "Epoch 39/50\n",
      "60000/60000 [==============================] - 1s 21us/step - loss: 0.1099 - acc: 0.8129 - val_loss: 0.1080 - val_acc: 0.8121\n",
      "Epoch 40/50\n",
      "60000/60000 [==============================] - 1s 20us/step - loss: 0.1092 - acc: 0.8129 - val_loss: 0.1073 - val_acc: 0.8121\n",
      "Epoch 41/50\n",
      "60000/60000 [==============================] - 1s 20us/step - loss: 0.1085 - acc: 0.8130 - val_loss: 0.1067 - val_acc: 0.8122\n",
      "Epoch 42/50\n",
      "60000/60000 [==============================] - 1s 20us/step - loss: 0.1079 - acc: 0.8131 - val_loss: 0.1061 - val_acc: 0.8122\n",
      "Epoch 43/50\n",
      "60000/60000 [==============================] - 1s 19us/step - loss: 0.1073 - acc: 0.8131 - val_loss: 0.1055 - val_acc: 0.8123\n",
      "Epoch 44/50\n",
      "60000/60000 [==============================] - 1s 20us/step - loss: 0.1068 - acc: 0.8132 - val_loss: 0.1050 - val_acc: 0.8123\n",
      "Epoch 45/50\n",
      "60000/60000 [==============================] - 1s 21us/step - loss: 0.1063 - acc: 0.8132 - val_loss: 0.1045 - val_acc: 0.8123\n",
      "Epoch 46/50\n",
      "60000/60000 [==============================] - 1s 20us/step - loss: 0.1058 - acc: 0.8132 - val_loss: 0.1040 - val_acc: 0.8124\n",
      "Epoch 47/50\n",
      "60000/60000 [==============================] - 1s 20us/step - loss: 0.1053 - acc: 0.8133 - val_loss: 0.1035 - val_acc: 0.8125\n",
      "Epoch 48/50\n",
      "60000/60000 [==============================] - 1s 20us/step - loss: 0.1049 - acc: 0.8133 - val_loss: 0.1031 - val_acc: 0.8125\n",
      "Epoch 49/50\n",
      "60000/60000 [==============================] - 1s 20us/step - loss: 0.1045 - acc: 0.8134 - val_loss: 0.1027 - val_acc: 0.8125\n",
      "Epoch 50/50\n",
      "60000/60000 [==============================] - 1s 20us/step - loss: 0.1041 - acc: 0.8134 - val_loss: 0.1023 - val_acc: 0.8126\n"
     ]
    },
    {
     "data": {
      "text/plain": [
       "<keras.callbacks.History at 0x7f341c4a1240>"
      ]
     },
     "execution_count": 11,
     "metadata": {},
     "output_type": "execute_result"
    }
   ],
   "source": [
    "autoencoder.compile(loss='binary_crossentropy',\n",
    "              optimizer='adadelta',\n",
    "              metrics=['accuracy'])\n",
    "\n",
    "autoencoder.fit(x_train, x_train,\n",
    "                    batch_size=256,\n",
    "                    epochs=50,\n",
    "                    verbose=1,\n",
    "                    validation_data=(x_test,x_test))"
   ]
  },
  {
   "cell_type": "code",
   "execution_count": 12,
   "metadata": {},
   "outputs": [],
   "source": [
    "autoencoder_imgs = autoencoder.predict(x_test)\n",
    "encoder_imgs = encoder.predict(x_test)"
   ]
  },
  {
   "cell_type": "markdown",
   "metadata": {},
   "source": [
    "### 3. Affichage résultat final et intermédiaire "
   ]
  },
  {
   "cell_type": "code",
   "execution_count": 13,
   "metadata": {},
   "outputs": [
    {
     "data": {
      "image/png": "[encoded data removed]",
      "text/plain": [
       "<Figure size 1440x288 with 30 Axes>"
      ]
     },
     "metadata": {},
     "output_type": "display_data"
    }
   ],
   "source": [
    "\n",
    "import matplotlib.pyplot as plt\n",
    "\n",
    "n = 10  # how many digits we will display\n",
    "plt.figure(figsize=(20, 4))\n",
    "for i in range(n):\n",
    "    # display original\n",
    "    ax = plt.subplot(3, n, i + 1)\n",
    "    plt.imshow(x_test[i].reshape(28, 28))\n",
    "    plt.gray()\n",
    "    ax.get_xaxis().set_visible(False)\n",
    "    ax.get_yaxis().set_visible(False)\n",
    "\n",
    "    # display reconstruction\n",
    "    ax = plt.subplot(3, n, i + 1 + n)\n",
    "    plt.imshow(encoder_imgs[i].reshape(4, 8))\n",
    "    plt.gray()\n",
    "    ax.get_xaxis().set_visible(False)\n",
    "    ax.get_yaxis().set_visible(False)\n",
    "    \n",
    "    # display reconstruction\n",
    "    ax = plt.subplot(3, n, i + 1 + 2*n)\n",
    "    plt.imshow(autoencoder_imgs[i].reshape(28, 28))\n",
    "    plt.gray()\n",
    "    ax.get_xaxis().set_visible(False)\n",
    "    ax.get_yaxis().set_visible(False)\n",
    "plt.show()"
   ]
  },
  {
   "cell_type": "markdown",
   "metadata": {},
   "source": [
    "## III. Autoencoder avec Regularizers :"
   ]
  },
  {
   "cell_type": "markdown",
   "metadata": {},
   "source": [
    "### 1. Construction du modèle "
   ]
  },
  {
   "cell_type": "code",
   "execution_count": 14,
   "metadata": {},
   "outputs": [],
   "source": [
    "from keras import regularizers\n",
    "\n",
    "encoderRegula = km.Sequential()\n",
    "encoderRegula.add(kl.Dense(32, activation='relu',activity_regularizer=regularizers.l2(0), input_shape=(784,)))\n",
    "\n",
    "\n",
    "decoderRegula = km.Sequential()\n",
    "decoderRegula.add(kl.Dense(784, activation='sigmoid'))\n",
    "\n",
    "autoencoderRegula = km.Sequential()\n",
    "autoencoderRegula.add(encoder)\n",
    "autoencoderRegula.add(decoder)"
   ]
  },
  {
   "cell_type": "markdown",
   "metadata": {},
   "source": [
    "### 2. Phase d'apprentissage"
   ]
  },
  {
   "cell_type": "code",
   "execution_count": 15,
   "metadata": {},
   "outputs": [
    {
     "name": "stdout",
     "output_type": "stream",
     "text": [
      "Train on 60000 samples, validate on 10000 samples\n",
      "Epoch 1/50\n",
      "60000/60000 [==============================] - 1s 25us/step - loss: 0.1037 - acc: 0.8134 - val_loss: 0.1020 - val_acc: 0.8126\n",
      "Epoch 2/50\n",
      "60000/60000 [==============================] - 1s 19us/step - loss: 0.1034 - acc: 0.8135 - val_loss: 0.1016 - val_acc: 0.8126\n",
      "Epoch 3/50\n",
      "60000/60000 [==============================] - 1s 18us/step - loss: 0.1030 - acc: 0.8135 - val_loss: 0.1013 - val_acc: 0.8126\n",
      "Epoch 4/50\n",
      "60000/60000 [==============================] - 1s 19us/step - loss: 0.1027 - acc: 0.8135 - val_loss: 0.1010 - val_acc: 0.8127\n",
      "Epoch 5/50\n",
      "60000/60000 [==============================] - 1s 19us/step - loss: 0.1024 - acc: 0.8135 - val_loss: 0.1007 - val_acc: 0.8127\n",
      "Epoch 6/50\n",
      "60000/60000 [==============================] - 1s 20us/step - loss: 0.1021 - acc: 0.8136 - val_loss: 0.1005 - val_acc: 0.8127\n",
      "Epoch 7/50\n",
      "60000/60000 [==============================] - 1s 18us/step - loss: 0.1019 - acc: 0.8136 - val_loss: 0.1002 - val_acc: 0.8127\n",
      "Epoch 8/50\n",
      "60000/60000 [==============================] - 1s 19us/step - loss: 0.1016 - acc: 0.8136 - val_loss: 0.1000 - val_acc: 0.8127\n",
      "Epoch 9/50\n",
      "60000/60000 [==============================] - 1s 20us/step - loss: 0.1014 - acc: 0.8136 - val_loss: 0.0997 - val_acc: 0.8128\n",
      "Epoch 10/50\n",
      "60000/60000 [==============================] - 1s 19us/step - loss: 0.1011 - acc: 0.8136 - val_loss: 0.0995 - val_acc: 0.8128\n",
      "Epoch 11/50\n",
      "60000/60000 [==============================] - 1s 20us/step - loss: 0.1009 - acc: 0.8137 - val_loss: 0.0993 - val_acc: 0.8128\n",
      "Epoch 12/50\n",
      "60000/60000 [==============================] - 1s 20us/step - loss: 0.1007 - acc: 0.8137 - val_loss: 0.0991 - val_acc: 0.8128\n",
      "Epoch 13/50\n",
      "60000/60000 [==============================] - 1s 19us/step - loss: 0.1005 - acc: 0.8137 - val_loss: 0.0989 - val_acc: 0.8128\n",
      "Epoch 14/50\n",
      "60000/60000 [==============================] - 1s 20us/step - loss: 0.1003 - acc: 0.8137 - val_loss: 0.0987 - val_acc: 0.8128\n",
      "Epoch 15/50\n",
      "60000/60000 [==============================] - 1s 21us/step - loss: 0.1001 - acc: 0.8137 - val_loss: 0.0986 - val_acc: 0.8128\n",
      "Epoch 16/50\n",
      "60000/60000 [==============================] - 1s 20us/step - loss: 0.1000 - acc: 0.8137 - val_loss: 0.0984 - val_acc: 0.8129\n",
      "Epoch 17/50\n",
      "60000/60000 [==============================] - 1s 20us/step - loss: 0.0998 - acc: 0.8138 - val_loss: 0.0982 - val_acc: 0.8129\n",
      "Epoch 18/50\n",
      "60000/60000 [==============================] - 1s 20us/step - loss: 0.0997 - acc: 0.8138 - val_loss: 0.0981 - val_acc: 0.8128\n",
      "Epoch 19/50\n",
      "60000/60000 [==============================] - 1s 21us/step - loss: 0.0995 - acc: 0.8138 - val_loss: 0.0979 - val_acc: 0.8129\n",
      "Epoch 20/50\n",
      "60000/60000 [==============================] - 1s 20us/step - loss: 0.0994 - acc: 0.8138 - val_loss: 0.0978 - val_acc: 0.8129\n",
      "Epoch 21/50\n",
      "60000/60000 [==============================] - 1s 19us/step - loss: 0.0992 - acc: 0.8138 - val_loss: 0.0977 - val_acc: 0.8129\n",
      "Epoch 22/50\n",
      "60000/60000 [==============================] - 1s 19us/step - loss: 0.0991 - acc: 0.8138 - val_loss: 0.0976 - val_acc: 0.8129\n",
      "Epoch 23/50\n",
      "60000/60000 [==============================] - 1s 21us/step - loss: 0.0990 - acc: 0.8138 - val_loss: 0.0975 - val_acc: 0.8129\n",
      "Epoch 24/50\n",
      "60000/60000 [==============================] - 1s 21us/step - loss: 0.0989 - acc: 0.8138 - val_loss: 0.0973 - val_acc: 0.8130\n",
      "Epoch 25/50\n",
      "60000/60000 [==============================] - 1s 21us/step - loss: 0.0988 - acc: 0.8138 - val_loss: 0.0972 - val_acc: 0.8129\n",
      "Epoch 26/50\n",
      "60000/60000 [==============================] - 1s 20us/step - loss: 0.0987 - acc: 0.8138 - val_loss: 0.0971 - val_acc: 0.8130\n",
      "Epoch 27/50\n",
      "60000/60000 [==============================] - 1s 20us/step - loss: 0.0986 - acc: 0.8138 - val_loss: 0.0971 - val_acc: 0.8129\n",
      "Epoch 28/50\n",
      "60000/60000 [==============================] - 1s 19us/step - loss: 0.0985 - acc: 0.8139 - val_loss: 0.0970 - val_acc: 0.8130\n",
      "Epoch 29/50\n",
      "60000/60000 [==============================] - 1s 21us/step - loss: 0.0984 - acc: 0.8139 - val_loss: 0.0969 - val_acc: 0.8130\n",
      "Epoch 30/50\n",
      "60000/60000 [==============================] - 1s 19us/step - loss: 0.0983 - acc: 0.8139 - val_loss: 0.0968 - val_acc: 0.8130\n",
      "Epoch 31/50\n",
      "60000/60000 [==============================] - 1s 19us/step - loss: 0.0982 - acc: 0.8139 - val_loss: 0.0967 - val_acc: 0.8130\n",
      "Epoch 32/50\n",
      "60000/60000 [==============================] - 1s 21us/step - loss: 0.0981 - acc: 0.8139 - val_loss: 0.0966 - val_acc: 0.8130\n",
      "Epoch 33/50\n",
      "60000/60000 [==============================] - 1s 20us/step - loss: 0.0981 - acc: 0.8139 - val_loss: 0.0966 - val_acc: 0.8130\n",
      "Epoch 34/50\n",
      "60000/60000 [==============================] - 1s 20us/step - loss: 0.0980 - acc: 0.8139 - val_loss: 0.0965 - val_acc: 0.8130\n",
      "Epoch 35/50\n",
      "60000/60000 [==============================] - 1s 21us/step - loss: 0.0979 - acc: 0.8139 - val_loss: 0.0964 - val_acc: 0.8130\n",
      "Epoch 36/50\n",
      "60000/60000 [==============================] - 1s 21us/step - loss: 0.0979 - acc: 0.8139 - val_loss: 0.0964 - val_acc: 0.8130\n",
      "Epoch 37/50\n",
      "60000/60000 [==============================] - 1s 20us/step - loss: 0.0978 - acc: 0.8139 - val_loss: 0.0963 - val_acc: 0.8130\n",
      "Epoch 38/50\n",
      "60000/60000 [==============================] - 1s 21us/step - loss: 0.0977 - acc: 0.8139 - val_loss: 0.0963 - val_acc: 0.8130\n",
      "Epoch 39/50\n",
      "60000/60000 [==============================] - 1s 20us/step - loss: 0.0977 - acc: 0.8139 - val_loss: 0.0962 - val_acc: 0.8130\n",
      "Epoch 40/50\n",
      "60000/60000 [==============================] - 1s 20us/step - loss: 0.0976 - acc: 0.8139 - val_loss: 0.0961 - val_acc: 0.8130\n",
      "Epoch 41/50\n",
      "60000/60000 [==============================] - 1s 20us/step - loss: 0.0976 - acc: 0.8139 - val_loss: 0.0961 - val_acc: 0.8130\n",
      "Epoch 42/50\n",
      "60000/60000 [==============================] - 1s 19us/step - loss: 0.0975 - acc: 0.8139 - val_loss: 0.0960 - val_acc: 0.8130\n",
      "Epoch 43/50\n",
      "60000/60000 [==============================] - 1s 20us/step - loss: 0.0975 - acc: 0.8139 - val_loss: 0.0960 - val_acc: 0.8130\n",
      "Epoch 44/50\n",
      "60000/60000 [==============================] - 1s 20us/step - loss: 0.0974 - acc: 0.8139 - val_loss: 0.0959 - val_acc: 0.8130\n",
      "Epoch 45/50\n",
      "60000/60000 [==============================] - 1s 20us/step - loss: 0.0974 - acc: 0.8139 - val_loss: 0.0959 - val_acc: 0.8130\n",
      "Epoch 46/50\n",
      "60000/60000 [==============================] - 1s 20us/step - loss: 0.0973 - acc: 0.8139 - val_loss: 0.0958 - val_acc: 0.8130\n",
      "Epoch 47/50\n",
      "60000/60000 [==============================] - 1s 19us/step - loss: 0.0973 - acc: 0.8139 - val_loss: 0.0958 - val_acc: 0.8131\n",
      "Epoch 48/50\n",
      "60000/60000 [==============================] - 1s 20us/step - loss: 0.0972 - acc: 0.8139 - val_loss: 0.0958 - val_acc: 0.8130\n",
      "Epoch 49/50\n",
      "60000/60000 [==============================] - 1s 21us/step - loss: 0.0972 - acc: 0.8139 - val_loss: 0.0957 - val_acc: 0.8131\n",
      "Epoch 50/50\n",
      "60000/60000 [==============================] - 1s 20us/step - loss: 0.0971 - acc: 0.8139 - val_loss: 0.0957 - val_acc: 0.8130\n"
     ]
    },
    {
     "data": {
      "text/plain": [
       "<keras.callbacks.History at 0x7f34102f00b8>"
      ]
     },
     "execution_count": 15,
     "metadata": {},
     "output_type": "execute_result"
    }
   ],
   "source": [
    "autoencoderRegula.compile(loss='binary_crossentropy',\n",
    "              optimizer='adadelta',\n",
    "              metrics=['accuracy'])\n",
    "autoencoderRegula.fit(x_train, x_train,\n",
    "                    batch_size=256,\n",
    "                    epochs=50,\n",
    "                    verbose=1,\n",
    "                    validation_data=(x_test,x_test))"
   ]
  },
  {
   "cell_type": "code",
   "execution_count": 16,
   "metadata": {},
   "outputs": [],
   "source": [
    "autoencoderRegula_imgs = autoencoderRegula.predict(x_test)\n",
    "encoderRegula_imgs = encoderRegula.predict(x_test)"
   ]
  },
  {
   "cell_type": "markdown",
   "metadata": {},
   "source": [
    "### 3. Affichage résultat final : "
   ]
  },
  {
   "cell_type": "code",
   "execution_count": 17,
   "metadata": {},
   "outputs": [
    {
     "data": {
      "image/png": "[encoded data removed]",
      "text/plain": [
       "<Figure size 1440x288 with 30 Axes>"
      ]
     },
     "metadata": {},
     "output_type": "display_data"
    }
   ],
   "source": [
    "\n",
    "import matplotlib.pyplot as plt\n",
    "\n",
    "n = 10  # how many digits we will display\n",
    "plt.figure(figsize=(20, 4))\n",
    "for i in range(n):\n",
    "    # display original\n",
    "    ax = plt.subplot(3, n, i + 1)\n",
    "    plt.imshow(x_test[i].reshape(28, 28))\n",
    "    plt.gray()\n",
    "    ax.get_xaxis().set_visible(False)\n",
    "    ax.get_yaxis().set_visible(False)\n",
    "\n",
    "    # display reconstruction\n",
    "    ax = plt.subplot(3, n, i + 1 + n)\n",
    "    plt.imshow(encoderRegula_imgs[i].reshape(4, 8))\n",
    "    plt.gray()\n",
    "    ax.get_xaxis().set_visible(False)\n",
    "    ax.get_yaxis().set_visible(False)\n",
    "    \n",
    "    # display reconstruction\n",
    "    ax = plt.subplot(3, n, i + 1 + 2*n)\n",
    "    plt.imshow(autoencoderRegula_imgs[i].reshape(28, 28))\n",
    "    plt.gray()\n",
    "    ax.get_xaxis().set_visible(False)\n",
    "    ax.get_yaxis().set_visible(False)\n",
    "plt.show()"
   ]
  },
  {
   "cell_type": "markdown",
   "metadata": {},
   "source": [
    "### 4. Affichage et comparaison résultat intermédiaire :"
   ]
  },
  {
   "cell_type": "code",
   "execution_count": 18,
   "metadata": {},
   "outputs": [
    {
     "data": {
      "image/png": "[encoded data removed]",
      "text/plain": [
       "<Figure size 1440x288 with 30 Axes>"
      ]
     },
     "metadata": {},
     "output_type": "display_data"
    }
   ],
   "source": [
    "import matplotlib.pyplot as plt\n",
    "\n",
    "n = 10  # how many digits we will display\n",
    "plt.figure(figsize=(20, 4))\n",
    "for i in range(n):\n",
    "    # display original\n",
    "    ax = plt.subplot(3, n, i + 1)\n",
    "    plt.imshow(x_test[i].reshape(28, 28))\n",
    "    plt.gray()\n",
    "    ax.get_xaxis().set_visible(False)\n",
    "    ax.get_yaxis().set_visible(False)\n",
    "\n",
    "    # display reconstruction\n",
    "    ax = plt.subplot(3, n, i + 1 + n)\n",
    "    plt.imshow(encoder_imgs[i].reshape(4, 8))\n",
    "    plt.gray()\n",
    "    ax.get_xaxis().set_visible(False)\n",
    "    ax.get_yaxis().set_visible(False)\n",
    "    \n",
    "    # display reconstruction\n",
    "    ax = plt.subplot(3, n, i + 1 + 2*n)\n",
    "    plt.imshow(encoderRegula_imgs[i].reshape(4, 8))\n",
    "    plt.gray()\n",
    "    ax.get_xaxis().set_visible(False)\n",
    "    ax.get_yaxis().set_visible(False)\n",
    "    \n",
    "plt.show()"
   ]
  },
  {
   "cell_type": "code",
   "execution_count": 19,
   "metadata": {},
   "outputs": [
    {
     "data": {
      "image/png": "[encoded data removed]",
      "text/plain": [
       "<Figure size 432x288 with 1 Axes>"
      ]
     },
     "metadata": {},
     "output_type": "display_data"
    },
    {
     "data": {
      "text/plain": [
       "(array([5.000e+01, 6.187e+03, 2.911e+03, 6.460e+02, 0.000e+00, 1.670e+02,\n",
       "        3.000e+01, 5.000e+00, 3.000e+00, 1.000e+00]),\n",
       " array([0. , 0.8, 1.6, 2.4, 3.2, 4. , 4.8, 5.6, 6.4, 7.2, 8. ]),\n",
       " <a list of 10 Patch objects>)"
      ]
     },
     "execution_count": 19,
     "metadata": {},
     "output_type": "execute_result"
    },
    {
     "data": {
      "image/png": "[encoded data removed]",
      "text/plain": [
       "<Figure size 432x288 with 1 Axes>"
      ]
     },
     "metadata": {},
     "output_type": "display_data"
    }
   ],
   "source": [
    "plt.hist(np.sum(encoderRegula_imgs==0,axis=1))\n",
    "plt.show()\n",
    "plt.hist(np.sum(encoder_imgs==0,axis=1))"
   ]
  },
  {
   "cell_type": "markdown",
   "metadata": {},
   "source": [
    "## IV. Autoencoder avec réseaux de convolution "
   ]
  },
  {
   "cell_type": "markdown",
   "metadata": {},
   "source": [
    "### 1. Chargement et traitement de données "
   ]
  },
  {
   "cell_type": "code",
   "execution_count": 30,
   "metadata": {},
   "outputs": [],
   "source": [
    "from keras.datasets import mnist\n",
    "import numpy as np\n",
    "\n",
    "(x_train, _), (x_test, _) = mnist.load_data()\n",
    "\n",
    "x_train = x_train.astype('float32') / 255.\n",
    "x_test = x_test.astype('float32') / 255.\n",
    "x_train = np.reshape(x_train, (len(x_train), 28, 28, 1))  # adapt this if using `channels_first` image data format\n",
    "x_test = np.reshape(x_test, (len(x_test), 28, 28, 1))  # adapt this if using `channels_first` image data format"
   ]
  },
  {
   "cell_type": "markdown",
   "metadata": {},
   "source": [
    "### 2. Construction des données "
   ]
  },
  {
   "cell_type": "code",
   "execution_count": 31,
   "metadata": {},
   "outputs": [],
   "source": [
    "from keras import regularizers\n",
    "from keras.layers import Input, Dense, Conv2D, MaxPooling2D, UpSampling2D\n",
    "\n",
    "encoder = km.Sequential()\n",
    "encoder.add(Conv2D(16, kernel_size=(3, 3), input_shape=(28,28,1) ,activation='relu', padding='same'))\n",
    "encoder.add(MaxPooling2D((2, 2), padding='same'))\n",
    "encoder.add(Conv2D(8, (3, 3), activation='relu', padding='same'))\n",
    "encoder.add(MaxPooling2D((2, 2), padding='same'))\n",
    "encoder.add(Conv2D(8, (3, 3), activation='relu', padding='same'))\n",
    "encoder.add(MaxPooling2D((2, 2), padding='same'))\n",
    "\n",
    "decoder = km.Sequential()\n",
    "decoder.add(Conv2D(8, (3, 3), activation='relu', padding='same'))\n",
    "decoder.add(UpSampling2D((2, 2)))\n",
    "decoder.add(Conv2D(8, (3, 3), activation='relu', padding='same'))\n",
    "decoder.add(UpSampling2D((2, 2)))\n",
    "decoder.add(Conv2D(16, (3, 3), activation='relu'))\n",
    "decoder.add(UpSampling2D((2, 2)))\n",
    "decoder.add(Conv2D(1, (3, 3), activation='sigmoid', padding='same'))\n",
    "\n",
    "\n",
    "autoencoder = km.Sequential()\n",
    "autoencoder.add(encoder)\n",
    "autoencoder.add(decoder)"
   ]
  },
  {
   "cell_type": "markdown",
   "metadata": {},
   "source": [
    "### 3. Phase d'apprentissage"
   ]
  },
  {
   "cell_type": "code",
   "execution_count": 32,
   "metadata": {},
   "outputs": [
    {
     "name": "stdout",
     "output_type": "stream",
     "text": [
      "Train on 60000 samples, validate on 10000 samples\n",
      "Epoch 1/50\n",
      "60000/60000 [==============================] - 5s 82us/step - loss: 0.2152 - acc: 0.7948 - val_loss: 0.1717 - val_acc: 0.7873\n",
      "Epoch 2/50\n",
      "60000/60000 [==============================] - 4s 71us/step - loss: 0.1593 - acc: 0.7978 - val_loss: 0.1464 - val_acc: 0.8003\n",
      "Epoch 3/50\n",
      "60000/60000 [==============================] - 4s 70us/step - loss: 0.1416 - acc: 0.8031 - val_loss: 0.1338 - val_acc: 0.8020\n",
      "Epoch 4/50\n",
      "60000/60000 [==============================] - 4s 70us/step - loss: 0.1335 - acc: 0.8054 - val_loss: 0.1294 - val_acc: 0.8024\n",
      "Epoch 5/50\n",
      "60000/60000 [==============================] - 4s 71us/step - loss: 0.1286 - acc: 0.8067 - val_loss: 0.1253 - val_acc: 0.8066\n",
      "Epoch 6/50\n",
      "60000/60000 [==============================] - 4s 70us/step - loss: 0.1255 - acc: 0.8075 - val_loss: 0.1195 - val_acc: 0.8072\n",
      "Epoch 7/50\n",
      "60000/60000 [==============================] - 4s 71us/step - loss: 0.1229 - acc: 0.8081 - val_loss: 0.1210 - val_acc: 0.8043\n",
      "Epoch 8/50\n",
      "60000/60000 [==============================] - 4s 72us/step - loss: 0.1210 - acc: 0.8086 - val_loss: 0.1175 - val_acc: 0.8062\n",
      "Epoch 9/50\n",
      "60000/60000 [==============================] - 4s 71us/step - loss: 0.1197 - acc: 0.8089 - val_loss: 0.1163 - val_acc: 0.8097\n",
      "Epoch 10/50\n",
      "60000/60000 [==============================] - 4s 71us/step - loss: 0.1184 - acc: 0.8092 - val_loss: 0.1158 - val_acc: 0.8079\n",
      "Epoch 11/50\n",
      "60000/60000 [==============================] - 4s 70us/step - loss: 0.1172 - acc: 0.8094 - val_loss: 0.1178 - val_acc: 0.8081\n",
      "Epoch 12/50\n",
      "60000/60000 [==============================] - 4s 71us/step - loss: 0.1161 - acc: 0.8097 - val_loss: 0.1150 - val_acc: 0.8108\n",
      "Epoch 13/50\n",
      "60000/60000 [==============================] - 4s 70us/step - loss: 0.1151 - acc: 0.8098 - val_loss: 0.1111 - val_acc: 0.8086\n",
      "Epoch 14/50\n",
      "60000/60000 [==============================] - 4s 69us/step - loss: 0.1142 - acc: 0.8100 - val_loss: 0.1150 - val_acc: 0.8109\n",
      "Epoch 15/50\n",
      "60000/60000 [==============================] - 4s 70us/step - loss: 0.1134 - acc: 0.8101 - val_loss: 0.1089 - val_acc: 0.8106\n",
      "Epoch 16/50\n",
      "60000/60000 [==============================] - 4s 70us/step - loss: 0.1129 - acc: 0.8102 - val_loss: 0.1110 - val_acc: 0.8078\n",
      "Epoch 17/50\n",
      "60000/60000 [==============================] - 4s 70us/step - loss: 0.1125 - acc: 0.8103 - val_loss: 0.1098 - val_acc: 0.8114\n",
      "Epoch 18/50\n",
      "60000/60000 [==============================] - 4s 70us/step - loss: 0.1120 - acc: 0.8104 - val_loss: 0.1124 - val_acc: 0.8112\n",
      "Epoch 19/50\n",
      "60000/60000 [==============================] - 4s 69us/step - loss: 0.1116 - acc: 0.8105 - val_loss: 0.1089 - val_acc: 0.8114\n",
      "Epoch 20/50\n",
      "60000/60000 [==============================] - 4s 69us/step - loss: 0.1107 - acc: 0.8107 - val_loss: 0.1120 - val_acc: 0.8118\n",
      "Epoch 21/50\n",
      "60000/60000 [==============================] - 4s 70us/step - loss: 0.1105 - acc: 0.8107 - val_loss: 0.1092 - val_acc: 0.8079\n",
      "Epoch 22/50\n",
      "60000/60000 [==============================] - 4s 70us/step - loss: 0.1097 - acc: 0.8108 - val_loss: 0.1067 - val_acc: 0.8103\n",
      "Epoch 23/50\n",
      "60000/60000 [==============================] - 4s 66us/step - loss: 0.1096 - acc: 0.8109 - val_loss: 0.1063 - val_acc: 0.8114\n",
      "Epoch 24/50\n",
      "60000/60000 [==============================] - 4s 69us/step - loss: 0.1088 - acc: 0.8110 - val_loss: 0.1099 - val_acc: 0.8118\n",
      "Epoch 25/50\n",
      "60000/60000 [==============================] - 4s 69us/step - loss: 0.1083 - acc: 0.8111 - val_loss: 0.1058 - val_acc: 0.8090\n",
      "Epoch 26/50\n",
      "60000/60000 [==============================] - 4s 70us/step - loss: 0.1081 - acc: 0.8111 - val_loss: 0.1063 - val_acc: 0.8113\n",
      "Epoch 27/50\n",
      "60000/60000 [==============================] - 4s 69us/step - loss: 0.1079 - acc: 0.8112 - val_loss: 0.1079 - val_acc: 0.8106\n",
      "Epoch 28/50\n",
      "60000/60000 [==============================] - 4s 69us/step - loss: 0.1073 - acc: 0.8113 - val_loss: 0.1058 - val_acc: 0.8097\n",
      "Epoch 29/50\n",
      "60000/60000 [==============================] - 4s 72us/step - loss: 0.1068 - acc: 0.8113 - val_loss: 0.1041 - val_acc: 0.8115\n",
      "Epoch 30/50\n",
      "60000/60000 [==============================] - 4s 68us/step - loss: 0.1065 - acc: 0.8114 - val_loss: 0.1052 - val_acc: 0.8092\n",
      "Epoch 31/50\n",
      "60000/60000 [==============================] - 4s 68us/step - loss: 0.1063 - acc: 0.8114 - val_loss: 0.1023 - val_acc: 0.8101\n",
      "Epoch 32/50\n",
      "60000/60000 [==============================] - 4s 69us/step - loss: 0.1062 - acc: 0.8114 - val_loss: 0.1041 - val_acc: 0.8090\n",
      "Epoch 33/50\n",
      "60000/60000 [==============================] - 4s 67us/step - loss: 0.1061 - acc: 0.8115 - val_loss: 0.1067 - val_acc: 0.8093\n",
      "Epoch 34/50\n",
      "60000/60000 [==============================] - 4s 68us/step - loss: 0.1056 - acc: 0.8115 - val_loss: 0.1031 - val_acc: 0.8100\n",
      "Epoch 35/50\n",
      "60000/60000 [==============================] - 4s 68us/step - loss: 0.1053 - acc: 0.8116 - val_loss: 0.1044 - val_acc: 0.8122\n",
      "Epoch 36/50\n",
      "60000/60000 [==============================] - 4s 68us/step - loss: 0.1054 - acc: 0.8116 - val_loss: 0.1027 - val_acc: 0.8108\n",
      "Epoch 37/50\n",
      "60000/60000 [==============================] - 4s 67us/step - loss: 0.1050 - acc: 0.8117 - val_loss: 0.1076 - val_acc: 0.8082\n",
      "Epoch 38/50\n",
      "60000/60000 [==============================] - 4s 68us/step - loss: 0.1043 - acc: 0.8118 - val_loss: 0.1039 - val_acc: 0.8122\n",
      "Epoch 39/50\n",
      "60000/60000 [==============================] - 4s 66us/step - loss: 0.1042 - acc: 0.8118 - val_loss: 0.1064 - val_acc: 0.8096\n",
      "Epoch 40/50\n",
      "60000/60000 [==============================] - 4s 65us/step - loss: 0.1040 - acc: 0.8118 - val_loss: 0.1010 - val_acc: 0.8120\n",
      "Epoch 41/50\n",
      "60000/60000 [==============================] - 4s 64us/step - loss: 0.1039 - acc: 0.8118 - val_loss: 0.1011 - val_acc: 0.8121\n",
      "Epoch 42/50\n",
      "60000/60000 [==============================] - 4s 65us/step - loss: 0.1038 - acc: 0.8119 - val_loss: 0.1032 - val_acc: 0.8108\n",
      "Epoch 43/50\n",
      "60000/60000 [==============================] - 4s 65us/step - loss: 0.1037 - acc: 0.8119 - val_loss: 0.1001 - val_acc: 0.8118\n",
      "Epoch 44/50\n",
      "60000/60000 [==============================] - 4s 66us/step - loss: 0.1034 - acc: 0.8119 - val_loss: 0.0995 - val_acc: 0.8118\n",
      "Epoch 45/50\n",
      "60000/60000 [==============================] - 4s 65us/step - loss: 0.1030 - acc: 0.8120 - val_loss: 0.1011 - val_acc: 0.8103\n",
      "Epoch 46/50\n",
      "60000/60000 [==============================] - 4s 63us/step - loss: 0.1029 - acc: 0.8120 - val_loss: 0.1023 - val_acc: 0.8098\n",
      "Epoch 47/50\n",
      "60000/60000 [==============================] - 4s 63us/step - loss: 0.1027 - acc: 0.8120 - val_loss: 0.1002 - val_acc: 0.8123\n",
      "Epoch 48/50\n",
      "60000/60000 [==============================] - 4s 61us/step - loss: 0.1029 - acc: 0.8120 - val_loss: 0.1026 - val_acc: 0.8123\n",
      "Epoch 49/50\n",
      "60000/60000 [==============================] - 4s 65us/step - loss: 0.1027 - acc: 0.8121 - val_loss: 0.1031 - val_acc: 0.8092\n",
      "Epoch 50/50\n",
      "60000/60000 [==============================] - 4s 65us/step - loss: 0.1027 - acc: 0.8121 - val_loss: 0.1005 - val_acc: 0.8107\n"
     ]
    },
    {
     "data": {
      "text/plain": [
       "<keras.callbacks.History at 0x7f3409b0ec88>"
      ]
     },
     "execution_count": 32,
     "metadata": {},
     "output_type": "execute_result"
    }
   ],
   "source": [
    "autoencoder.compile(loss='binary_crossentropy',\n",
    "              optimizer='adadelta',\n",
    "              metrics=['accuracy'])\n",
    "autoencoder.fit(x_train, x_train,\n",
    "                    batch_size=128,\n",
    "                    epochs=50,\n",
    "                    verbose=1,\n",
    "                    validation_data=(x_test,x_test))"
   ]
  },
  {
   "cell_type": "code",
   "execution_count": null,
   "metadata": {},
   "outputs": [],
   "source": [
    "autoencoderConv_imgs = autoencoder.predict(x_test)\n",
    "encoderConv_imgs = encoder.predict(x_test)"
   ]
  },
  {
   "cell_type": "markdown",
   "metadata": {},
   "source": [
    "### 4. Affichage résultat final "
   ]
  },
  {
   "cell_type": "code",
   "execution_count": null,
   "metadata": {},
   "outputs": [],
   "source": [
    "import matplotlib.pyplot as plt\n",
    "\n",
    "n = 10  # how many digits we will display\n",
    "plt.figure(figsize=(20, 4))\n",
    "for i in range(n):\n",
    "    # display original\n",
    "    ax = plt.subplot(3, n, i + 1)\n",
    "    plt.imshow(x_test[i].reshape(28, 28))\n",
    "    plt.gray()\n",
    "    ax.get_xaxis().set_visible(False)\n",
    "    ax.get_yaxis().set_visible(False)\n",
    "    \n",
    "    ax = plt.subplot(3, n, i + 1 + n)\n",
    "    plt.imshow(encoderConv_imgs[i].reshape(8, 16))\n",
    "    plt.gray()\n",
    "    ax.get_xaxis().set_visible(False)\n",
    "    ax.get_yaxis().set_visible(False)\n",
    "\n",
    "    # display reconstruction\n",
    "    ax = plt.subplot(3, n, i + 1 + 2*n)\n",
    "    plt.imshow(autoencoderConv_imgs[i].reshape(28, 28))\n",
    "    plt.gray()\n",
    "    ax.get_xaxis().set_visible(False)\n",
    "    ax.get_yaxis().set_visible(False)\n",
    "plt.show()"
   ]
  },
  {
   "cell_type": "markdown",
   "metadata": {},
   "source": [
    "### 5. Affichage résultat intermédiaire "
   ]
  },
  {
   "cell_type": "code",
   "execution_count": null,
   "metadata": {},
   "outputs": [],
   "source": [
    "#### \n",
    "### AFFICHAGE RÉSULTATS INTERMÉDIAIRES SORTIES ENCODER###"
   ]
  },
  {
   "cell_type": "code",
   "execution_count": null,
   "metadata": {},
   "outputs": [],
   "source": []
  }
 ],
 "metadata": {
  "kernelspec": {
   "display_name": "Python (GPU)",
   "language": "python",
   "name": "gpu"
  },
  "language_info": {
   "codemirror_mode": {
    "name": "ipython",
    "version": 3
   },
   "file_extension": ".py",
   "mimetype": "text/x-python",
   "name": "python",
   "nbconvert_exporter": "python",
   "pygments_lexer": "ipython3",
   "version": "3.6.5"
  }
 },
 "nbformat": 4,
 "nbformat_minor": 2
}
