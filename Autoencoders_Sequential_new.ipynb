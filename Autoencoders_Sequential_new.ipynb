{
 "cells": [
  {
   "cell_type": "code",
   "execution_count": 1,
   "metadata": {},
   "outputs": [
    {
     "name": "stdout",
     "output_type": "stream",
     "text": [
      "3.6.8 |Anaconda, Inc.| (default, Dec 29 2018, 19:04:46) \n",
      "[GCC 4.2.1 Compatible Clang 4.0.1 (tags/RELEASE_401/final)]\n",
      "[name: \"/device:CPU:0\"\n",
      "device_type: \"CPU\"\n",
      "memory_limit: 268435456\n",
      "locality {\n",
      "}\n",
      "incarnation: 12191740210490727581\n",
      "]\n"
     ]
    }
   ],
   "source": [
    "%matplotlib inline \n",
    "import matplotlib.pyplot as plt\n",
    "import seaborn as sb\n",
    "sb.set()\n",
    "\n",
    "import pandas as pd\n",
    "import numpy as np\n",
    "import time\n",
    "\n",
    "import tensorflow.keras.utils as ku\n",
    "import tensorflow.keras.models as km\n",
    "import tensorflow.keras.layers as kl\n",
    "import tensorflow.keras.optimizers as ko\n",
    "\n",
    "from sklearn.metrics import confusion_matrix\n",
    "\n",
    "# Paramètres\n",
    "batch_size = 128\n",
    "epochs = 10\n",
    "# Vocabulary\n",
    "# One epoch is when an ENTIRE dataset is passed forward and backward through neural network only once\n",
    "# Batch_size : total number of training examples present in a single batch. \n",
    "# Batch_size : defines the number of samples to work through before updating the internal model parameters\n",
    "# Batch_size : is the number of samples processed before the model is updated. \n",
    "\n",
    "\n",
    "\n",
    "import sys\n",
    "print(sys.version)\n",
    "from tensorflow.python.client import device_lib\n",
    "print(device_lib.list_local_devices())\n"
   ]
  },
  {
   "cell_type": "code",
   "execution_count": null,
   "metadata": {},
   "outputs": [],
   "source": []
  },
  {
   "cell_type": "code",
   "execution_count": 3,
   "metadata": {},
   "outputs": [
    {
     "data": {
      "text/plain": [
       "'1.13.0-rc2'"
      ]
     },
     "execution_count": 3,
     "metadata": {},
     "output_type": "execute_result"
    }
   ],
   "source": [
    "import tensorflow\n",
    "tensorflow.__version__"
   ]
  },
  {
   "cell_type": "code",
   "execution_count": 4,
   "metadata": {},
   "outputs": [
    {
     "name": "stderr",
     "output_type": "stream",
     "text": [
      "Using TensorFlow backend.\n"
     ]
    }
   ],
   "source": [
    "from keras.datasets import mnist\n",
    "import numpy as np\n",
    "(x_train, _), (x_test, _) = mnist.load_data()"
   ]
  },
  {
   "cell_type": "code",
   "execution_count": 5,
   "metadata": {},
   "outputs": [],
   "source": [
    "x_train = x_train.astype('float32') / 255. # Pour normaliser toutes les valeurs \n",
    "x_test = x_test.astype('float32') / 255.# Pour normaliser toutes les valeurs \n",
    "x_train = x_train.reshape((len(x_train), np.prod(x_train.shape[1:])))\n",
    "x_test = x_test.reshape((len(x_test), np.prod(x_test.shape[1:])))"
   ]
  },
  {
   "cell_type": "code",
   "execution_count": 5,
   "metadata": {},
   "outputs": [],
   "source": [
    "autoencoder = km.Sequential()\n",
    "autoencoder.add(kl.Dense(32, activation='relu', input_shape=(784,)))\n",
    "autoencoder.add(kl.Dense(784, activation='sigmoid'))"
   ]
  },
  {
   "cell_type": "code",
   "execution_count": 6,
   "metadata": {},
   "outputs": [
    {
     "name": "stdout",
     "output_type": "stream",
     "text": [
      "Train on 60000 samples, validate on 10000 samples\n",
      "Epoch 1/50\n",
      "60000/60000 [==============================] - 3s 47us/step - loss: 0.3717 - acc: 0.7421 - val_loss: 0.2715 - val_acc: 0.7943\n",
      "Epoch 2/50\n",
      "60000/60000 [==============================] - 3s 43us/step - loss: 0.2643 - acc: 0.7967 - val_loss: 0.2536 - val_acc: 0.7965\n",
      "Epoch 3/50\n",
      "60000/60000 [==============================] - 3s 45us/step - loss: 0.2437 - acc: 0.7971 - val_loss: 0.2316 - val_acc: 0.7968\n",
      "Epoch 4/50\n",
      "60000/60000 [==============================] - 3s 44us/step - loss: 0.2237 - acc: 0.7974 - val_loss: 0.2138 - val_acc: 0.7976\n",
      "Epoch 5/50\n",
      "60000/60000 [==============================] - 3s 45us/step - loss: 0.2089 - acc: 0.7981 - val_loss: 0.2016 - val_acc: 0.7983\n",
      "Epoch 6/50\n",
      "60000/60000 [==============================] - 3s 43us/step - loss: 0.1984 - acc: 0.7991 - val_loss: 0.1924 - val_acc: 0.7996\n",
      "Epoch 7/50\n",
      "60000/60000 [==============================] - 3s 45us/step - loss: 0.1899 - acc: 0.8003 - val_loss: 0.1848 - val_acc: 0.8008\n",
      "Epoch 8/50\n",
      "60000/60000 [==============================] - 3s 48us/step - loss: 0.1827 - acc: 0.8015 - val_loss: 0.1781 - val_acc: 0.8019\n",
      "Epoch 9/50\n",
      "60000/60000 [==============================] - 3s 47us/step - loss: 0.1765 - acc: 0.8027 - val_loss: 0.1722 - val_acc: 0.8025\n",
      "Epoch 10/50\n",
      "60000/60000 [==============================] - 3s 46us/step - loss: 0.1709 - acc: 0.8037 - val_loss: 0.1670 - val_acc: 0.8034\n",
      "Epoch 11/50\n",
      "60000/60000 [==============================] - 3s 44us/step - loss: 0.1661 - acc: 0.8045 - val_loss: 0.1625 - val_acc: 0.8044\n",
      "Epoch 12/50\n",
      "60000/60000 [==============================] - 3s 45us/step - loss: 0.1618 - acc: 0.8053 - val_loss: 0.1584 - val_acc: 0.8047\n",
      "Epoch 13/50\n",
      "60000/60000 [==============================] - 3s 44us/step - loss: 0.1579 - acc: 0.8059 - val_loss: 0.1548 - val_acc: 0.8058\n",
      "Epoch 14/50\n",
      "60000/60000 [==============================] - 3s 47us/step - loss: 0.1544 - acc: 0.8065 - val_loss: 0.1514 - val_acc: 0.8063\n",
      "Epoch 15/50\n",
      "60000/60000 [==============================] - 3s 46us/step - loss: 0.1512 - acc: 0.8070 - val_loss: 0.1484 - val_acc: 0.8069\n",
      "Epoch 16/50\n",
      "60000/60000 [==============================] - 3s 49us/step - loss: 0.1482 - acc: 0.8075 - val_loss: 0.1454 - val_acc: 0.8072\n",
      "Epoch 17/50\n",
      "60000/60000 [==============================] - 3s 48us/step - loss: 0.1454 - acc: 0.8079 - val_loss: 0.1426 - val_acc: 0.8074\n",
      "Epoch 18/50\n",
      "60000/60000 [==============================] - 3s 49us/step - loss: 0.1428 - acc: 0.8083 - val_loss: 0.1402 - val_acc: 0.8082\n",
      "Epoch 19/50\n",
      "60000/60000 [==============================] - 3s 48us/step - loss: 0.1403 - acc: 0.8088 - val_loss: 0.1375 - val_acc: 0.8083\n",
      "Epoch 20/50\n",
      "60000/60000 [==============================] - 3s 47us/step - loss: 0.1379 - acc: 0.8091 - val_loss: 0.1352 - val_acc: 0.8087\n",
      "Epoch 21/50\n",
      "60000/60000 [==============================] - 3s 49us/step - loss: 0.1356 - acc: 0.8095 - val_loss: 0.1329 - val_acc: 0.8091\n",
      "Epoch 22/50\n",
      "60000/60000 [==============================] - 3s 49us/step - loss: 0.1333 - acc: 0.8099 - val_loss: 0.1306 - val_acc: 0.8092\n",
      "Epoch 23/50\n",
      "60000/60000 [==============================] - 3s 47us/step - loss: 0.1312 - acc: 0.8102 - val_loss: 0.1286 - val_acc: 0.8097\n",
      "Epoch 24/50\n",
      "60000/60000 [==============================] - 3s 47us/step - loss: 0.1292 - acc: 0.8105 - val_loss: 0.1266 - val_acc: 0.8099\n",
      "Epoch 25/50\n",
      "60000/60000 [==============================] - 3s 46us/step - loss: 0.1273 - acc: 0.8108 - val_loss: 0.1247 - val_acc: 0.8101\n",
      "Epoch 26/50\n",
      "60000/60000 [==============================] - 3s 48us/step - loss: 0.1255 - acc: 0.8110 - val_loss: 0.1230 - val_acc: 0.8103\n",
      "Epoch 27/50\n",
      "60000/60000 [==============================] - 3s 48us/step - loss: 0.1238 - acc: 0.8112 - val_loss: 0.1213 - val_acc: 0.8105\n",
      "Epoch 28/50\n",
      "60000/60000 [==============================] - 3s 51us/step - loss: 0.1222 - acc: 0.8115 - val_loss: 0.1198 - val_acc: 0.8108\n",
      "Epoch 29/50\n",
      "60000/60000 [==============================] - 3s 49us/step - loss: 0.1207 - acc: 0.8117 - val_loss: 0.1183 - val_acc: 0.8110\n",
      "Epoch 30/50\n",
      "60000/60000 [==============================] - 3s 49us/step - loss: 0.1193 - acc: 0.8118 - val_loss: 0.1170 - val_acc: 0.8111\n",
      "Epoch 31/50\n",
      "60000/60000 [==============================] - 3s 48us/step - loss: 0.1180 - acc: 0.8120 - val_loss: 0.1158 - val_acc: 0.8114\n",
      "Epoch 32/50\n",
      "60000/60000 [==============================] - 3s 48us/step - loss: 0.1168 - acc: 0.8121 - val_loss: 0.1146 - val_acc: 0.8114\n",
      "Epoch 33/50\n",
      "60000/60000 [==============================] - 3s 49us/step - loss: 0.1157 - acc: 0.8123 - val_loss: 0.1135 - val_acc: 0.8115\n",
      "Epoch 34/50\n",
      "60000/60000 [==============================] - 3s 52us/step - loss: 0.1147 - acc: 0.8124 - val_loss: 0.1125 - val_acc: 0.8116\n",
      "Epoch 35/50\n",
      "60000/60000 [==============================] - 3s 52us/step - loss: 0.1138 - acc: 0.8125 - val_loss: 0.1116 - val_acc: 0.8118\n",
      "Epoch 36/50\n",
      "60000/60000 [==============================] - 3s 52us/step - loss: 0.1129 - acc: 0.8126 - val_loss: 0.1108 - val_acc: 0.8119\n",
      "Epoch 37/50\n",
      "60000/60000 [==============================] - 3s 49us/step - loss: 0.1121 - acc: 0.8127 - val_loss: 0.1100 - val_acc: 0.8119\n",
      "Epoch 38/50\n",
      "60000/60000 [==============================] - 3s 50us/step - loss: 0.1114 - acc: 0.8127 - val_loss: 0.1093 - val_acc: 0.8119\n",
      "Epoch 39/50\n",
      "60000/60000 [==============================] - 3s 51us/step - loss: 0.1107 - acc: 0.8128 - val_loss: 0.1087 - val_acc: 0.8120\n",
      "Epoch 40/50\n",
      "60000/60000 [==============================] - 3s 52us/step - loss: 0.1101 - acc: 0.8129 - val_loss: 0.1081 - val_acc: 0.8120\n",
      "Epoch 41/50\n",
      "60000/60000 [==============================] - 3s 50us/step - loss: 0.1095 - acc: 0.8129 - val_loss: 0.1075 - val_acc: 0.8121\n",
      "Epoch 42/50\n",
      "60000/60000 [==============================] - 3s 52us/step - loss: 0.1090 - acc: 0.8130 - val_loss: 0.1070 - val_acc: 0.8122\n",
      "Epoch 43/50\n",
      "60000/60000 [==============================] - 3s 50us/step - loss: 0.1085 - acc: 0.8130 - val_loss: 0.1065 - val_acc: 0.8122\n",
      "Epoch 44/50\n",
      "60000/60000 [==============================] - 3s 52us/step - loss: 0.1080 - acc: 0.8131 - val_loss: 0.1061 - val_acc: 0.8123\n",
      "Epoch 45/50\n",
      "60000/60000 [==============================] - 3s 54us/step - loss: 0.1075 - acc: 0.8131 - val_loss: 0.1056 - val_acc: 0.8123\n",
      "Epoch 46/50\n",
      "60000/60000 [==============================] - 3s 55us/step - loss: 0.1071 - acc: 0.8131 - val_loss: 0.1052 - val_acc: 0.8123\n",
      "Epoch 47/50\n",
      "60000/60000 [==============================] - 3s 54us/step - loss: 0.1067 - acc: 0.8132 - val_loss: 0.1049 - val_acc: 0.8124\n",
      "Epoch 48/50\n",
      "60000/60000 [==============================] - 3s 53us/step - loss: 0.1064 - acc: 0.8132 - val_loss: 0.1045 - val_acc: 0.8124\n",
      "Epoch 49/50\n",
      "60000/60000 [==============================] - 3s 55us/step - loss: 0.1060 - acc: 0.8132 - val_loss: 0.1041 - val_acc: 0.8124\n",
      "Epoch 50/50\n",
      "60000/60000 [==============================] - 3s 50us/step - loss: 0.1057 - acc: 0.8133 - val_loss: 0.1038 - val_acc: 0.8124\n"
     ]
    }
   ],
   "source": [
    "# apprentissage\n",
    "autoencoder.compile(loss='binary_crossentropy',\n",
    "              optimizer='adadelta',\n",
    "              metrics=['accuracy'])\n",
    "ts = time.time()\n",
    "history = autoencoder.fit(x_train, x_train,\n",
    "                    batch_size=256,\n",
    "                    epochs=50,\n",
    "                    verbose=1,\n",
    "                    validation_data=(x_test,x_test))"
   ]
  },
  {
   "cell_type": "code",
   "execution_count": 7,
   "metadata": {},
   "outputs": [],
   "source": [
    "autoencoder_imgs = autoencoder.predict(x_test)"
   ]
  },
  {
   "cell_type": "code",
   "execution_count": 8,
   "metadata": {},
   "outputs": [
    {
     "data": {
      "image/png": "[encoded data removed]",
      "text/plain": [
       "<Figure size 1440x288 with 20 Axes>"
      ]
     },
     "metadata": {},
     "output_type": "display_data"
    }
   ],
   "source": [
    "import matplotlib.pyplot as plt\n",
    "\n",
    "n = 10  # how many digits we will display\n",
    "plt.figure(figsize=(20, 4))\n",
    "for i in range(n):\n",
    "    # display original\n",
    "    ax = plt.subplot(2, n, i + 1)\n",
    "    plt.imshow(x_test[i].reshape(28, 28))\n",
    "    plt.gray()\n",
    "    ax.get_xaxis().set_visible(False)\n",
    "    ax.get_yaxis().set_visible(False)\n",
    "\n",
    "    # display reconstruction\n",
    "    ax = plt.subplot(2, n, i + 1 + n)\n",
    "    plt.imshow(autoencoder_imgs[i].reshape(28, 28))\n",
    "    plt.gray()\n",
    "    ax.get_xaxis().set_visible(False)\n",
    "    ax.get_yaxis().set_visible(False)\n",
    "plt.show()"
   ]
  },
  {
   "cell_type": "code",
   "execution_count": 18,
   "metadata": {},
   "outputs": [
    {
     "data": {
      "text/plain": [
       "[<keras.layers.core.Dense at 0x7fa17f7b37f0>,\n",
       " <keras.layers.core.Dense at 0x7fa17f7b37b8>]"
      ]
     },
     "execution_count": 18,
     "metadata": {},
     "output_type": "execute_result"
    }
   ],
   "source": [
    "autoencoder.layers\n"
   ]
  },
  {
   "cell_type": "markdown",
   "metadata": {},
   "source": [
    "## Autoencoder SPARSE"
   ]
  },
  {
   "cell_type": "code",
   "execution_count": 51,
   "metadata": {},
   "outputs": [],
   "source": [
    "from keras import regularizers\n",
    "\n",
    "encoder = km.Sequential(name=\"plop1\")\n",
    "encoder.add(kl.Dense(32, activation='relu',activity_regularizer=regularizers.l1(10e-5), input_shape=(784,),name=\"plop\"))\n",
    "\n",
    "decoder = km.Sequential()\n",
    "decoder.add(kl.Dense(784, activation='sigmoid',activity_regularizer=regularizers.l1(10e-5), input_shape =(32,) ))\n",
    "\n",
    "autoencoder = km.Sequential()\n",
    "autoencoder.add(encoder)\n",
    "autoencoder.add(decoder)"
   ]
  },
  {
   "cell_type": "code",
   "execution_count": 52,
   "metadata": {},
   "outputs": [
    {
     "name": "stdout",
     "output_type": "stream",
     "text": [
      "_________________________________________________________________\n",
      "Layer (type)                 Output Shape              Param #   \n",
      "=================================================================\n",
      "plop1 (Sequential)           (None, 32)                25120     \n",
      "_________________________________________________________________\n",
      "sequential_28 (Sequential)   (None, 784)               25872     \n",
      "=================================================================\n",
      "Total params: 50,992\n",
      "Trainable params: 50,992\n",
      "Non-trainable params: 0\n",
      "_________________________________________________________________\n"
     ]
    }
   ],
   "source": [
    "autoencoder.summary()"
   ]
  },
  {
   "cell_type": "code",
   "execution_count": 54,
   "metadata": {},
   "outputs": [
    {
     "name": "stdout",
     "output_type": "stream",
     "text": [
      "Train on 60000 samples, validate on 10000 samples\n",
      "Epoch 1/10\n",
      "60000/60000 [==============================] - 4s 67us/sample - loss: 0.2449 - val_loss: 0.2357\n",
      "Epoch 2/10\n",
      "60000/60000 [==============================] - 4s 60us/sample - loss: 0.2306 - val_loss: 0.2234\n",
      "Epoch 3/10\n",
      "60000/60000 [==============================] - 4s 60us/sample - loss: 0.2196 - val_loss: 0.2138\n",
      "Epoch 4/10\n",
      "60000/60000 [==============================] - 4s 59us/sample - loss: 0.2111 - val_loss: 0.2064\n",
      "Epoch 5/10\n",
      "60000/60000 [==============================] - 3s 57us/sample - loss: 0.2043 - val_loss: 0.2002\n",
      "Epoch 6/10\n",
      "60000/60000 [==============================] - 3s 57us/sample - loss: 0.1985 - val_loss: 0.1948\n",
      "Epoch 7/10\n",
      "60000/60000 [==============================] - 3s 57us/sample - loss: 0.1935 - val_loss: 0.1901\n",
      "Epoch 8/10\n",
      "60000/60000 [==============================] - 4s 64us/sample - loss: 0.1890 - val_loss: 0.1858\n",
      "Epoch 9/10\n",
      "60000/60000 [==============================] - 4s 70us/sample - loss: 0.1851 - val_loss: 0.1820\n",
      "Epoch 10/10\n",
      "60000/60000 [==============================] - 4s 59us/sample - loss: 0.1815 - val_loss: 0.1786\n"
     ]
    }
   ],
   "source": [
    "autoencoder.compile(loss='binary_crossentropy',\n",
    "              optimizer='adadelta')\n",
    "ts = time.time()\n",
    "history = autoencoder.fit(x_train, x_train,\n",
    "                    batch_size=256,\n",
    "                    epochs=10,\n",
    "                    verbose=1,\n",
    "                    validation_data=(x_test,x_test))\n"
   ]
  },
  {
   "cell_type": "code",
   "execution_count": 14,
   "metadata": {},
   "outputs": [],
   "source": [
    "autoencoder_imgs = autoencoder.predict(x_test)\n",
    "encoder_imgs = encoder.predict(x_test)\n",
    "\n"
   ]
  },
  {
   "cell_type": "code",
   "execution_count": 18,
   "metadata": {},
   "outputs": [
    {
     "data": {
      "image/png": "[encoded data removed]",
      "text/plain": [
       "<Figure size 1440x288 with 30 Axes>"
      ]
     },
     "metadata": {
      "needs_background": "light"
     },
     "output_type": "display_data"
    }
   ],
   "source": [
    "import matplotlib.pyplot as plt\n",
    "\n",
    "n = 10  # how many digits we will display\n",
    "plt.figure(figsize=(20, 4))\n",
    "for i in range(n):\n",
    "    # display original\n",
    "    ax = plt.subplot(3, n, i + 1)\n",
    "    plt.imshow(x_test[i].reshape(28, 28))\n",
    "    plt.gray()\n",
    "    ax.get_xaxis().set_visible(False)\n",
    "    ax.get_yaxis().set_visible(False)\n",
    "\n",
    "    # display reconstruction\n",
    "    ax = plt.subplot(3, n, i + 1 + n)\n",
    "    plt.imshow(encoder_imgs[i].reshape(4, 8))\n",
    "    plt.gray()\n",
    "    ax.get_xaxis().set_visible(False)\n",
    "    ax.get_yaxis().set_visible(False)\n",
    "    \n",
    "    # display reconstruction\n",
    "    ax = plt.subplot(3, n, i + 1 + 2*n)\n",
    "    plt.imshow(autoencoder_imgs[i].reshape(28, 28))\n",
    "    plt.gray()\n",
    "    ax.get_xaxis().set_visible(False)\n",
    "    ax.get_yaxis().set_visible(False)\n",
    "plt.show()"
   ]
  },
  {
   "cell_type": "code",
   "execution_count": 25,
   "metadata": {},
   "outputs": [
    {
     "data": {
      "text/plain": [
       "(array([   3.,   22.,  846., 2349., 2769., 2191., 1179.,  471.,  124.,\n",
       "          46.]),\n",
       " array([ 3.,  4.,  5.,  6.,  7.,  8.,  9., 10., 11., 12., 13.]),\n",
       " <a list of 10 Patch objects>)"
      ]
     },
     "execution_count": 25,
     "metadata": {},
     "output_type": "execute_result"
    },
    {
     "data": {
      "image/png": "[encoded data removed]",
      "text/plain": [
       "<Figure size 432x288 with 1 Axes>"
      ]
     },
     "metadata": {
      "needs_background": "light"
     },
     "output_type": "display_data"
    }
   ],
   "source": [
    "plt.hist(np.sum(encoder_imgs==0,axis=1))"
   ]
  },
  {
   "cell_type": "code",
   "execution_count": 62,
   "metadata": {},
   "outputs": [],
   "source": [
    "from keras import regularizers\n",
    "from keras.layers import Input, Dense, Conv2D, MaxPooling2D, UpSampling2D\n",
    "\n",
    "autoencoder = km.Sequential()\n",
    "\n",
    "autoencoder.add(Conv2D(16, kernel_size=(3, 3), input_shape=(28,28,1) ,activation='relu', padding='same'))\n",
    "autoencoder.add(MaxPooling2D((2, 2), padding='same'))\n",
    "autoencoder.add(Conv2D(8, (3, 3), activation='relu', padding='same'))\n",
    "autoencoder.add(MaxPooling2D((2, 2), padding='same'))\n",
    "autoencoder.add(Conv2D(8, (3, 3), activation='relu', padding='same'))\n",
    "autoencoder.add(MaxPooling2D((2, 2), padding='same'))\n",
    "\n",
    "autoencoder.add(Conv2D(8, (3, 3), activation='relu', padding='same'))\n",
    "autoencoder.add(UpSampling2D((2, 2)))\n",
    "autoencoder.add(Conv2D(8, (3, 3), activation='relu', padding='same'))\n",
    "autoencoder.add(UpSampling2D((2, 2)))\n",
    "autoencoder.add(Conv2D(16, (3, 3), activation='relu'))\n",
    "autoencoder.add(UpSampling2D((2, 2)))\n",
    "autoencoder.add(Conv2D(1, (3, 3), activation='sigmoid', padding='same'))"
   ]
  },
  {
   "cell_type": "code",
   "execution_count": 63,
   "metadata": {},
   "outputs": [
    {
     "name": "stdout",
     "output_type": "stream",
     "text": [
      "_________________________________________________________________\n",
      "Layer (type)                 Output Shape              Param #   \n",
      "=================================================================\n",
      "conv2d_41 (Conv2D)           (None, 28, 28, 16)        160       \n",
      "_________________________________________________________________\n",
      "max_pooling2d_16 (MaxPooling (None, 14, 14, 16)        0         \n",
      "_________________________________________________________________\n",
      "conv2d_42 (Conv2D)           (None, 14, 14, 8)         1160      \n",
      "_________________________________________________________________\n",
      "max_pooling2d_17 (MaxPooling (None, 7, 7, 8)           0         \n",
      "_________________________________________________________________\n",
      "conv2d_43 (Conv2D)           (None, 7, 7, 8)           584       \n",
      "_________________________________________________________________\n",
      "max_pooling2d_18 (MaxPooling (None, 4, 4, 8)           0         \n",
      "_________________________________________________________________\n",
      "conv2d_44 (Conv2D)           (None, 4, 4, 8)           584       \n",
      "_________________________________________________________________\n",
      "up_sampling2d_16 (UpSampling (None, 8, 8, 8)           0         \n",
      "_________________________________________________________________\n",
      "conv2d_45 (Conv2D)           (None, 8, 8, 8)           584       \n",
      "_________________________________________________________________\n",
      "up_sampling2d_17 (UpSampling (None, 16, 16, 8)         0         \n",
      "_________________________________________________________________\n",
      "conv2d_46 (Conv2D)           (None, 14, 14, 16)        1168      \n",
      "_________________________________________________________________\n",
      "up_sampling2d_18 (UpSampling (None, 28, 28, 16)        0         \n",
      "_________________________________________________________________\n",
      "conv2d_47 (Conv2D)           (None, 28, 28, 1)         145       \n",
      "=================================================================\n",
      "Total params: 4,385\n",
      "Trainable params: 4,385\n",
      "Non-trainable params: 0\n",
      "_________________________________________________________________\n"
     ]
    }
   ],
   "source": [
    "autoencoder.summary()"
   ]
  },
  {
   "cell_type": "code",
   "execution_count": 65,
   "metadata": {},
   "outputs": [],
   "source": [
    "from keras.datasets import mnist\n",
    "import numpy as np\n",
    "\n",
    "(x_train, _), (x_test, _) = mnist.load_data()\n",
    "\n",
    "x_train = x_train.astype('float32') / 255.\n",
    "x_test = x_test.astype('float32') / 255.\n",
    "x_train = np.reshape(x_train, (len(x_train), 28, 28, 1))  # adapt this if using `channels_first` image data format\n",
    "x_test = np.reshape(x_test, (len(x_test), 28, 28, 1))  # adapt this if using `channels_first` image data format"
   ]
  },
  {
   "cell_type": "code",
   "execution_count": null,
   "metadata": {},
   "outputs": [
    {
     "name": "stdout",
     "output_type": "stream",
     "text": [
      "Train on 60000 samples, validate on 10000 samples\n",
      "Epoch 1/50\n",
      "60000/60000 [==============================] - 50s 828us/step - loss: 0.2129 - acc: 0.7941 - val_loss: 0.1663 - val_acc: 0.8028\n",
      "Epoch 2/50\n",
      "60000/60000 [==============================] - 50s 829us/step - loss: 0.1510 - acc: 0.8011 - val_loss: 0.1416 - val_acc: 0.8001\n",
      "Epoch 3/50\n",
      "60000/60000 [==============================] - 51s 849us/step - loss: 0.1378 - acc: 0.8045 - val_loss: 0.1328 - val_acc: 0.8078\n",
      "Epoch 4/50\n",
      "60000/60000 [==============================] - 50s 842us/step - loss: 0.1309 - acc: 0.8062 - val_loss: 0.1300 - val_acc: 0.8090\n",
      "Epoch 5/50\n",
      "60000/60000 [==============================] - 50s 840us/step - loss: 0.1262 - acc: 0.8072 - val_loss: 0.1229 - val_acc: 0.8093\n",
      "Epoch 6/50\n",
      "60000/60000 [==============================] - 52s 859us/step - loss: 0.1231 - acc: 0.8080 - val_loss: 0.1195 - val_acc: 0.8098\n",
      "Epoch 7/50\n",
      "60000/60000 [==============================] - 51s 851us/step - loss: 0.1207 - acc: 0.8085 - val_loss: 0.1162 - val_acc: 0.8098\n",
      "Epoch 8/50\n",
      "60000/60000 [==============================] - 51s 856us/step - loss: 0.1186 - acc: 0.8090 - val_loss: 0.1168 - val_acc: 0.8056\n",
      "Epoch 9/50\n",
      "60000/60000 [==============================] - 51s 850us/step - loss: 0.1167 - acc: 0.8094 - val_loss: 0.1139 - val_acc: 0.8078\n",
      "Epoch 10/50\n",
      "60000/60000 [==============================] - 51s 857us/step - loss: 0.1152 - acc: 0.8097 - val_loss: 0.1156 - val_acc: 0.8059\n",
      "Epoch 11/50\n",
      "60000/60000 [==============================] - 55s 910us/step - loss: 0.1144 - acc: 0.8099 - val_loss: 0.1126 - val_acc: 0.8109\n",
      "Epoch 12/50\n",
      "60000/60000 [==============================] - 63s 1ms/step - loss: 0.1131 - acc: 0.8102 - val_loss: 0.1106 - val_acc: 0.8105\n",
      "Epoch 13/50\n",
      "60000/60000 [==============================] - 52s 861us/step - loss: 0.1121 - acc: 0.8104 - val_loss: 0.1130 - val_acc: 0.8068\n",
      "Epoch 14/50\n",
      "60000/60000 [==============================] - 51s 853us/step - loss: 0.1114 - acc: 0.8105 - val_loss: 0.1122 - val_acc: 0.8117\n",
      "Epoch 15/50\n",
      "60000/60000 [==============================] - 63s 1ms/step - loss: 0.1109 - acc: 0.8106 - val_loss: 0.1096 - val_acc: 0.8098\n",
      "Epoch 16/50\n",
      "60000/60000 [==============================] - 56s 932us/step - loss: 0.1098 - acc: 0.8108 - val_loss: 0.1076 - val_acc: 0.8091\n",
      "Epoch 17/50\n",
      "60000/60000 [==============================] - 57s 946us/step - loss: 0.1093 - acc: 0.8109 - val_loss: 0.1086 - val_acc: 0.8090\n",
      "Epoch 18/50\n",
      "60000/60000 [==============================] - 61s 1ms/step - loss: 0.1089 - acc: 0.8110 - val_loss: 0.1071 - val_acc: 0.8115\n",
      "Epoch 19/50\n",
      "60000/60000 [==============================] - 53s 886us/step - loss: 0.1082 - acc: 0.8111 - val_loss: 0.1054 - val_acc: 0.8116\n",
      "Epoch 20/50\n",
      "60000/60000 [==============================] - 51s 857us/step - loss: 0.1076 - acc: 0.8112 - val_loss: 0.1082 - val_acc: 0.8081\n",
      "Epoch 21/50\n",
      "60000/60000 [==============================] - 53s 886us/step - loss: 0.1076 - acc: 0.8112 - val_loss: 0.1071 - val_acc: 0.8118\n",
      "Epoch 22/50\n",
      "60000/60000 [==============================] - 52s 870us/step - loss: 0.1070 - acc: 0.8113 - val_loss: 0.1064 - val_acc: 0.8118\n",
      "Epoch 23/50\n",
      "60000/60000 [==============================] - 53s 877us/step - loss: 0.1068 - acc: 0.8113 - val_loss: 0.1067 - val_acc: 0.8094\n",
      "Epoch 24/50\n",
      "52608/60000 [=========================>....] - ETA: 6s - loss: 0.1067 - acc: 0.8114"
     ]
    }
   ],
   "source": [
    "#apprentissage\n",
    "autoencoder.compile(loss='binary_crossentropy',\n",
    "              optimizer='adadelta',\n",
    "              metrics=['accuracy'])\n",
    "ts = time.time()\n",
    "history = autoencoder.fit(x_train, x_train,\n",
    "                    batch_size=128,\n",
    "                    epochs=50,\n",
    "                    verbose=1,\n",
    "                    validation_data=(x_test,x_test))"
   ]
  },
  {
   "cell_type": "code",
   "execution_count": null,
   "metadata": {},
   "outputs": [],
   "source": []
  },
  {
   "cell_type": "code",
   "execution_count": null,
   "metadata": {},
   "outputs": [],
   "source": []
  }
 ],
 "metadata": {
  "kernelspec": {
   "display_name": "Python 3",
   "language": "python",
   "name": "python3"
  },
  "language_info": {
   "codemirror_mode": {
    "name": "ipython",
    "version": 3
   },
   "file_extension": ".py",
   "mimetype": "text/x-python",
   "name": "python",
   "nbconvert_exporter": "python",
   "pygments_lexer": "ipython3",
   "version": "3.6.8"
  }
 },
 "nbformat": 4,
 "nbformat_minor": 2
}
