{
 "cells": [
  {
   "cell_type": "markdown",
   "metadata": {},
   "source": [
    "<a href=\"http://www.insa-toulouse.fr/\" ><img src=\"http://www.math.univ-toulouse.fr/~besse/Wikistat/Images/logo-insa.jpg\" style=\"float:left; max-width: 120px; display: inline\" alt=\"INSA\"/></a> "
   ]
  },
  {
   "cell_type": "markdown",
   "metadata": {},
   "source": [
    "# Construction d'un auto-encodeur avec Keras"
   ]
  },
  {
   "cell_type": "markdown",
   "metadata": {},
   "source": [
    "<P style=\"text-align:center\"><img src=\"https://blog.keras.io/img/ae/autoencoder_schema.jpg\" style=\"float:center; display: inline\" alt=\"schema\"/></P>\n",
    "*Architecture d'un autoencoder*"
   ]
  },
  {
   "cell_type": "markdown",
   "metadata": {},
   "source": [
    "## 1. Objectif\n",
    "#### i. Présentatation générale\n",
    "\n",
    "L'objectif de ce TP est de construire un auto-encodeur. Un auto-encodeur est un algorithme de compression des données dont les fonctions de compression et décompression reposent sur 3 caratéristiques principales :\n",
    "\n",
    "* il est **spécifique aux données**, c'est-à-dire qu'il n'est construit que pour un seul type de donnée à la fois, ainsi il ne sera capable de traiter que des données similaires à celles sur lesquelles il s'est entrainé. Cela s'explique de par le fait que les features qu'il aura appris seront propres au type de données qu'il aura traité. \n",
    "\n",
    "* il est **à perte**, c'est-à-dire que comme tout compresseur, il fait perdre de leur qualité aux données en sortie par rapport à celles en entrée.\n",
    "* il est **à apprentissage** : c'est un réseau de neurones donc il a besoin d'exemples de données pour fonctionner.\n",
    "\n",
    "\n",
    "Pour construire un tel algorithme, il nous faut 3 éléments précis : une **fonction de codage**, une **fonction de décodage** et une **fonction de distance ou fonction de \"loss\"** (cette dernière permet de calculer la quantité d'information perdue lors de la compression).\n",
    "\n",
    "Les fonctions de **codage** et de ** décodage** seront des réseaux de neurones différentiable par rapport à la fonction de perte, de manière à ce que les paramètres du codage/décodage puissent être optimisés de sorte que l'on minimise la perte lors de la phase de reconstruction.  \n",
    "\n",
    "Ce type d'auto-encodeur est très peu utilisé aujourd'hui principalement à cause de sa spécificité aux données.Mais, l'auto-encoding a été longtemps considéré comme un moyen potentiel de résoudre le problème de l'apprentissage non-supervisé ie l'apprentissage sans labels.\n",
    "\n",
    "L'auto-encoding n'est pas une technique de supervisation d'apprentissage mais plutôt une auto-supervisation (car gènère la valeur souhaitée (target) à partir de l'entrée qui lui a été fournie).\n",
    "\n",
    "Dans le but de permettre à l'auto-encoder d'apprendre des features intéressantes, on doit lui fournir d'intéressantes target and loss fonctions. \n",
    "\n",
    "#### ii. Sum-up\n",
    "\n",
    "Un **autoencoder** est donc un **réseau de neurones** dont le but est de faire correspondre  ces entrées à ces sorties (sorte de recopie). \n",
    "\n",
    "Cela va se faire dans un premier temps par la compression de l'entrée dans une représentation en **espace latent** (latent space est un espace permettant de capturer les features principales des données que l'on traite). Puis dans un second temps on va reconstruire la sortie à partir de la représentation obtenue (représentation dans l'espace latent). \n",
    "\n",
    "Comme l'indique le schéma ci-dessus l'autoencoder est composé de deux parties : \n",
    "\n",
    "* **Encoder** qui compresse l'entrée dans l'espace latent. \n",
    "* **Decoder** qui reconstruit l'entrée à partir de la représentation dans l'espace latent.  \n",
    "\n",
    "Afin de faire en sorte que l'utilité d'un autoencoder ne soit pas réduite à une simple tâche de recopie on peut limité la taille de la **\" compressed representation\" ** de sorte qu'elle soit de taille plus petite que celle de l'entrée ainsi cette représentation force l'autoencoder à apprendre que les caractéristiques pertinentes des données. \n",
    "\n",
    "\n",
    "\n",
    "## 2. Mise en pratique"
   ]
  },
  {
   "cell_type": "code",
   "execution_count": 1,
   "metadata": {},
   "outputs": [
    {
     "name": "stderr",
     "output_type": "stream",
     "text": [
      "/usr/local/insa/anaconda/envs/GPU/lib/python3.6/site-packages/h5py/__init__.py:36: FutureWarning: Conversion of the second argument of issubdtype from `float` to `np.floating` is deprecated. In future, it will be treated as `np.float64 == np.dtype(float).type`.\n",
      "  from ._conv import register_converters as _register_converters\n",
      "Using TensorFlow backend.\n"
     ]
    }
   ],
   "source": [
    "from keras.layers import Input, Dense\n",
    "from keras.models import Model\n",
    "\n",
    "# this is the size of our encoded representations\n",
    "encoding_dim = 32  # 32 floats -> compression of factor 24.5, assuming the input is 784 floats\n",
    "\n",
    "# this is our input placeholder\n",
    "input_img = Input(shape=(784,))\n",
    "# \"encoded\" is the encoded representation of the input\n",
    "encoded = Dense(encoding_dim, activation='relu')(input_img)\n",
    "# \"decoded\" is the lossy reconstruction of the input\n",
    "decoded = Dense(784, activation='sigmoid')(encoded)\n",
    "\n",
    "# this model maps an input to its reconstruction\n",
    "autoencoder = Model(input_img, decoded)"
   ]
  },
  {
   "cell_type": "markdown",
   "metadata": {},
   "source": [
    "L'objectif ici est de compresser l'image, dont la taille de départ est de 784. Le facteur de compression est de 24,5 : on obtient donc comme taille finale 784/24,5 = 32. Ainsi, la première étape est de donner au réseau de neurône l'image en entrée, en spécifiant sa taille, et d'utiliser la **fonction de codage** sur cette image en entrée. Pour le moment, aucune opération n'est réalisée, on a définie le graphe. On rappelle ici que la fonction **relu** est définie de la façon suivante :\n",
    "\n",
    "$$relu(x) = max(0,x)$$\n",
    "\n",
    "et la fonction sigmoid est quant-à-elle définie par :\n",
    "\n",
    "$$sigmoid(x) = \\frac{1}{1+\\text{e}^x}$$\n",
    "\n",
    "à valeurs dans $[0,1]$. Ainsi, on utilise pour décoder la fonction **sigmoid** afin d'obtenir des valeurs de probabilités."
   ]
  },
  {
   "cell_type": "code",
   "execution_count": 21,
   "metadata": {},
   "outputs": [],
   "source": [
    "# this model maps an input to its encoded representation\n",
    "encoder = Model(input_img, encoded)"
   ]
  },
  {
   "cell_type": "code",
   "execution_count": 22,
   "metadata": {},
   "outputs": [],
   "source": [
    "# create a placeholder for an encoded (32-dimensional) input\n",
    "encoded_input = Input(shape=(encoding_dim,))\n",
    "# retrieve the last layer of the autoencoder model\n",
    "decoder_layer = autoencoder.layers[-1]\n",
    "# create the decoder model\n",
    "decoder = Model(encoded_input, decoder_layer(encoded_input))"
   ]
  },
  {
   "cell_type": "markdown",
   "metadata": {},
   "source": [
    "## Explication des 2 codes précédents???"
   ]
  },
  {
   "cell_type": "code",
   "execution_count": 23,
   "metadata": {},
   "outputs": [],
   "source": [
    "autoencoder.compile(optimizer='adadelta', loss='binary_crossentropy')"
   ]
  },
  {
   "cell_type": "markdown",
   "metadata": {},
   "source": []
  },
  {
   "cell_type": "code",
   "execution_count": 28,
   "metadata": {},
   "outputs": [],
   "source": [
    "from keras.datasets import mnist\n",
    "import numpy as np\n",
    "(x_train, _), (x_test, _) = mnist.load_data()"
   ]
  },
  {
   "cell_type": "code",
   "execution_count": 29,
   "metadata": {},
   "outputs": [
    {
     "name": "stdout",
     "output_type": "stream",
     "text": [
      "(60000, 784)\n",
      "(10000, 784)\n"
     ]
    }
   ],
   "source": [
    "x_train = x_train.astype('float32') / 255.\n",
    "x_test = x_test.astype('float32') / 255.\n",
    "x_train = x_train.reshape((len(x_train), np.prod(x_train.shape[1:])))\n",
    "x_test = x_test.reshape((len(x_test), np.prod(x_test.shape[1:])))\n",
    "print(x_train.shape)\n",
    "print(x_test.shape)"
   ]
  },
  {
   "cell_type": "code",
   "execution_count": 11,
   "metadata": {},
   "outputs": [
    {
     "name": "stdout",
     "output_type": "stream",
     "text": [
      "Train on 60000 samples, validate on 10000 samples\n",
      "Epoch 1/50\n",
      "60000/60000 [==============================] - 4s 68us/step - loss: 0.3629 - val_loss: 0.2725\n",
      "Epoch 2/50\n",
      "60000/60000 [==============================] - 3s 49us/step - loss: 0.2671 - val_loss: 0.2583\n",
      "Epoch 3/50\n",
      "60000/60000 [==============================] - 4s 71us/step - loss: 0.2476 - val_loss: 0.2337\n",
      "Epoch 4/50\n",
      "60000/60000 [==============================] - 3s 46us/step - loss: 0.2251 - val_loss: 0.2140\n",
      "Epoch 5/50\n",
      "60000/60000 [==============================] - 3s 56us/step - loss: 0.2084 - val_loss: 0.2002\n",
      "Epoch 6/50\n",
      "60000/60000 [==============================] - 4s 69us/step - loss: 0.1968 - val_loss: 0.1904\n",
      "Epoch 7/50\n",
      "60000/60000 [==============================] - 3s 55us/step - loss: 0.1881 - val_loss: 0.1826\n",
      "Epoch 8/50\n",
      "60000/60000 [==============================] - 3s 54us/step - loss: 0.1809 - val_loss: 0.1763\n",
      "Epoch 9/50\n",
      "60000/60000 [==============================] - 4s 62us/step - loss: 0.1748 - val_loss: 0.1706\n",
      "Epoch 10/50\n",
      "60000/60000 [==============================] - 3s 55us/step - loss: 0.1694 - val_loss: 0.1654\n",
      "Epoch 11/50\n",
      "60000/60000 [==============================] - 4s 59us/step - loss: 0.1646 - val_loss: 0.1609\n",
      "Epoch 12/50\n",
      "60000/60000 [==============================] - 3s 57us/step - loss: 0.1602 - val_loss: 0.1567\n",
      "Epoch 13/50\n",
      "60000/60000 [==============================] - 3s 56us/step - loss: 0.1562 - val_loss: 0.1530\n",
      "Epoch 14/50\n",
      "60000/60000 [==============================] - 4s 62us/step - loss: 0.1525 - val_loss: 0.1494\n",
      "Epoch 15/50\n",
      "60000/60000 [==============================] - 4s 60us/step - loss: 0.1491 - val_loss: 0.1461\n",
      "Epoch 16/50\n",
      "60000/60000 [==============================] - 3s 56us/step - loss: 0.1460 - val_loss: 0.1431\n",
      "Epoch 17/50\n",
      "60000/60000 [==============================] - 3s 56us/step - loss: 0.1431 - val_loss: 0.1403\n",
      "Epoch 18/50\n",
      "60000/60000 [==============================] - 3s 56us/step - loss: 0.1403 - val_loss: 0.1377\n",
      "Epoch 19/50\n",
      "60000/60000 [==============================] - 4s 62us/step - loss: 0.1378 - val_loss: 0.1350\n",
      "Epoch 20/50\n",
      "60000/60000 [==============================] - 3s 58us/step - loss: 0.1353 - val_loss: 0.1327\n",
      "Epoch 21/50\n",
      "60000/60000 [==============================] - 3s 57us/step - loss: 0.1330 - val_loss: 0.1305\n",
      "Epoch 22/50\n",
      "60000/60000 [==============================] - 4s 61us/step - loss: 0.1309 - val_loss: 0.1283\n",
      "Epoch 23/50\n",
      "60000/60000 [==============================] - 5s 77us/step - loss: 0.1288 - val_loss: 0.1263\n",
      "Epoch 24/50\n",
      "60000/60000 [==============================] - 3s 57us/step - loss: 0.1268 - val_loss: 0.1244\n",
      "Epoch 25/50\n",
      "60000/60000 [==============================] - 4s 63us/step - loss: 0.1250 - val_loss: 0.1225\n",
      "Epoch 26/50\n",
      "60000/60000 [==============================] - 4s 61us/step - loss: 0.1232 - val_loss: 0.1208\n",
      "Epoch 27/50\n",
      "60000/60000 [==============================] - 4s 70us/step - loss: 0.1215 - val_loss: 0.1192\n",
      "Epoch 28/50\n",
      "60000/60000 [==============================] - 3s 49us/step - loss: 0.1200 - val_loss: 0.1177\n",
      "Epoch 29/50\n",
      "60000/60000 [==============================] - 3s 48us/step - loss: 0.1185 - val_loss: 0.1162\n",
      "Epoch 30/50\n",
      "60000/60000 [==============================] - 3s 49us/step - loss: 0.1171 - val_loss: 0.1149\n",
      "Epoch 31/50\n",
      "60000/60000 [==============================] - 3s 53us/step - loss: 0.1158 - val_loss: 0.1136\n",
      "Epoch 32/50\n",
      "60000/60000 [==============================] - 3s 53us/step - loss: 0.1145 - val_loss: 0.1124\n",
      "Epoch 33/50\n",
      "60000/60000 [==============================] - 3s 50us/step - loss: 0.1134 - val_loss: 0.1113\n",
      "Epoch 34/50\n",
      "60000/60000 [==============================] - 3s 49us/step - loss: 0.1123 - val_loss: 0.1103\n",
      "Epoch 35/50\n",
      "60000/60000 [==============================] - 3s 51us/step - loss: 0.1113 - val_loss: 0.1093\n",
      "Epoch 36/50\n",
      "60000/60000 [==============================] - 3s 51us/step - loss: 0.1104 - val_loss: 0.1083\n",
      "Epoch 37/50\n",
      "60000/60000 [==============================] - 3s 55us/step - loss: 0.1095 - val_loss: 0.1075\n",
      "Epoch 38/50\n",
      "60000/60000 [==============================] - 3s 49us/step - loss: 0.1087 - val_loss: 0.1068\n",
      "Epoch 39/50\n",
      "60000/60000 [==============================] - 3s 49us/step - loss: 0.1080 - val_loss: 0.1061\n",
      "Epoch 40/50\n",
      "60000/60000 [==============================] - 3s 50us/step - loss: 0.1073 - val_loss: 0.1054\n",
      "Epoch 41/50\n",
      "60000/60000 [==============================] - 3s 53us/step - loss: 0.1066 - val_loss: 0.1048\n",
      "Epoch 42/50\n",
      "60000/60000 [==============================] - 3s 52us/step - loss: 0.1061 - val_loss: 0.1042\n",
      "Epoch 43/50\n",
      "60000/60000 [==============================] - 3s 49us/step - loss: 0.1055 - val_loss: 0.1037\n",
      "Epoch 44/50\n",
      "60000/60000 [==============================] - 3s 49us/step - loss: 0.1050 - val_loss: 0.1032\n",
      "Epoch 45/50\n",
      "60000/60000 [==============================] - 3s 50us/step - loss: 0.1045 - val_loss: 0.1027\n",
      "Epoch 46/50\n",
      "60000/60000 [==============================] - 3s 50us/step - loss: 0.1041 - val_loss: 0.1023\n",
      "Epoch 47/50\n",
      "60000/60000 [==============================] - 3s 55us/step - loss: 0.1037 - val_loss: 0.1019\n",
      "Epoch 48/50\n",
      "60000/60000 [==============================] - 3s 49us/step - loss: 0.1033 - val_loss: 0.1015\n",
      "Epoch 49/50\n",
      "60000/60000 [==============================] - 3s 49us/step - loss: 0.1029 - val_loss: 0.1012\n",
      "Epoch 50/50\n",
      "60000/60000 [==============================] - 3s 50us/step - loss: 0.1026 - val_loss: 0.1009\n"
     ]
    },
    {
     "data": {
      "text/plain": [
       "<keras.callbacks.History at 0x132af0d68>"
      ]
     },
     "execution_count": 11,
     "metadata": {},
     "output_type": "execute_result"
    }
   ],
   "source": [
    "autoencoder.fit(x_train, x_train,\n",
    "                epochs=50,\n",
    "                batch_size=256,\n",
    "                shuffle=True,\n",
    "                validation_data=(x_test, x_test))"
   ]
  },
  {
   "cell_type": "code",
   "execution_count": 12,
   "metadata": {},
   "outputs": [],
   "source": [
    "# encode and decode some digits\n",
    "# note that we take them from the *test* set\n",
    "encoded_imgs = encoder.predict(x_test)\n",
    "decoded_imgs = decoder.predict(encoded_imgs)"
   ]
  },
  {
   "cell_type": "code",
   "execution_count": 17,
   "metadata": {},
   "outputs": [
    {
     "data": {
      "image/png": "[encoded data removed]",
      "text/plain": [
       "<Figure size 1440x288 with 20 Axes>"
      ]
     },
     "metadata": {
      "needs_background": "light"
     },
     "output_type": "display_data"
    }
   ],
   "source": [
    "# use Matplotlib (don't ask)\n",
    "import matplotlib.pyplot as plt\n",
    "\n",
    "n = 10  # how many digits we will display\n",
    "plt.figure(figsize=(20, 4))\n",
    "for i in range(n):\n",
    "    # display original\n",
    "    ax = plt.subplot(2, n, i + 1)\n",
    "    plt.imshow(x_test[i].reshape(28, 28))\n",
    "    plt.gray()\n",
    "    ax.get_xaxis().set_visible(False)\n",
    "    ax.get_yaxis().set_visible(False)\n",
    "\n",
    "    # display reconstruction\n",
    "    ax = plt.subplot(2, n, i + 1 + n)\n",
    "    plt.imshow(decoded_imgs[i].reshape(28, 28))\n",
    "    plt.gray()\n",
    "    ax.get_xaxis().set_visible(False)\n",
    "    ax.get_yaxis().set_visible(False)\n",
    "plt.show()"
   ]
  },
  {
   "cell_type": "code",
   "execution_count": 18,
   "metadata": {},
   "outputs": [],
   "source": [
    "from keras import regularizers\n",
    "\n",
    "encoding_dim = 32\n",
    "\n",
    "input_img = Input(shape=(784,))\n",
    "# add a Dense layer with a L1 activity regularizer\n",
    "encoded = Dense(encoding_dim, activation='relu',\n",
    "                activity_regularizer=regularizers.l1(10e-5))(input_img)\n",
    "decoded = Dense(784, activation='sigmoid')(encoded)\n",
    "\n",
    "autoencoder = Model(input_img, decoded)"
   ]
  },
  {
   "cell_type": "code",
   "execution_count": null,
   "metadata": {},
   "outputs": [],
   "source": []
  }
 ],
 "metadata": {
  "kernelspec": {
   "display_name": "Python (GPU)",
   "language": "python",
   "name": "gpu"
  },
  "language_info": {
   "codemirror_mode": {
    "name": "ipython",
    "version": 3
   },
   "file_extension": ".py",
   "mimetype": "text/x-python",
   "name": "python",
   "nbconvert_exporter": "python",
   "pygments_lexer": "ipython3",
   "version": "3.6.5"
  }
 },
 "nbformat": 4,
 "nbformat_minor": 2
}
